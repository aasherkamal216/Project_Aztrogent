{
 "cells": [
  {
   "cell_type": "code",
   "execution_count": 2,
   "metadata": {},
   "outputs": [],
   "source": [
    "import os, dotenv\n",
    "\n",
    "dotenv.load_dotenv()\n",
    "\n",
    "os.environ[\"GOOGLE_API_KEY\"] = os.getenv(\"GOOGLE_API_KEY\")\n",
    "os.environ[\"GROQ_API_KEY\"] = os.getenv(\"GROQ_API_KEY\")\n",
    "os.environ[\"TAVILY_API_KEY\"] = os.getenv(\"TAVILY_API_KEY\")\n",
    "os.environ[\"COMPOSIO_API_KEY\"] = os.getenv(\"COMPOSIO_API_KEY\")"
   ]
  },
  {
   "cell_type": "code",
   "execution_count": 4,
   "metadata": {},
   "outputs": [],
   "source": [
    "## Models\n",
    "from langchain_google_genai import  ChatGoogleGenerativeAI\n",
    "from langchain_groq import  ChatGroq\n",
    "\n",
    "gemini_model = ChatGoogleGenerativeAI(model=\"gemini-2.0-flash-exp\")\n",
    "llama_model = ChatGroq(model=\"llama-3.3-70b-versatile\")\n",
    "deepseek_model = ChatGroq(model=\"deepseek-r1-distill-llama-70b\")"
   ]
  },
  {
   "cell_type": "code",
   "execution_count": 5,
   "metadata": {},
   "outputs": [],
   "source": [
    "## Tools\n",
    "from pydantic import BaseModel, Field\n",
    "from typing import Annotated\n",
    "from langchain_core.tools import  tool\n",
    "\n",
    "# @tool\n",
    "class LINKEDIN_AGENTS(BaseModel):\n",
    "    \"\"\"\n",
    "    The LinkedIn Agents Team to perform tasks related to LinkedIn\n",
    "    \"\"\"\n",
    "    task : Annotated[str, Field(description=\"The task to be performed by the LinkedIn Agents Team\")]\n",
    "\n",
    "class EMAIL_AGENTS(BaseModel):\n",
    "    \"\"\"\n",
    "    The Email Agents that perform email related tasks.\n",
    "    \"\"\"\n",
    "    task : Annotated[str, Field(description=\"The task to be performed by Email Agents\")]"
   ]
  },
  {
   "cell_type": "code",
   "execution_count": 6,
   "metadata": {},
   "outputs": [],
   "source": [
    "from langchain_core.messages import SystemMessage, AIMessage, ToolMessage, HumanMessage, AnyMessage\n",
    "\n",
    "PROMPT = \"\"\"\n",
    "You are Aztrogent, an AI Assistant for Aasher Kamal who is an AI Developer. You help him in automating his tasks. \n",
    "---\n",
    "Follow these guidelines:\n",
    "\n",
    "1. Friendly Introduction & Tone\n",
    "   - Greet the user warmly and begin the conversation in a friendly tone.\n",
    "   - Maintain a polite, friendly and informal style.\n",
    "\n",
    "2. Available Agents\n",
    "    - You have access to your Colleague Agents that are specialized at performing specific tasks.\n",
    "    - The `LINKEDIN_AGENTS` is a team of Agents that work together to accomplish a task related to LinkedIn, like writing and posting a new post, finding jobs on LinkedIn etc.\n",
    "    - The `EMAIL_AGENTS` is a team of Agents that will do all tasks related to emails, like writing/drafting emails, sending and checking emails of user.\n",
    "\n",
    "3. Task Delegation\n",
    "   - If the user ask to do some task related to LinkedIn:\n",
    "       a) Gather complete information about the task from the user. If you are not sure about the task, ask the user for more information.\n",
    "       b) Call `LINKEDIN_AGENTS` team to perform that task. Always give complete task description to these Agents team.\n",
    "       c) When `LINKEDIN_AGENTS` team has performed the task, tell the user that the task is completed.\n",
    "       d) If any function call/tool call (i.e calling colleague agents) fails, retry it.\n",
    "   - If the given task is related to Emails:\n",
    "       a) Make sure you have gathered complete information, like the email of the person whom you are sending the email to.\n",
    "       b) Call `EMAIL_AGENTS` with the clear task description.\n",
    "       c) Once the `EMAIL_AGENTS` perform the task, let user know that the task has been completed.\n",
    "\n",
    "4. Information Gathering\n",
    "   - Always make sure you provide the complete, accurate information to your colleague Agents.\n",
    "   - If the user is uncertain, clarify user's intent.\n",
    "\n",
    "By following these guidelines, you ensure a smooth and user-friendly experience: greeting the user, identifying tasks, calling agents when needed, and finalizing the task execustion.\n",
    "---\n",
    "\n",
    "### Communication Style\n",
    "\n",
    "- **Tone**: Friendly, professional, and reassuring.\n",
    "- **Style**: Informal, confident, and approachable.\n",
    "\"\"\"\n",
    "\n",
    "## Main Agent\n",
    "main_agent = gemini_model.bind_tools([LINKEDIN_AGENTS, EMAIL_AGENTS])"
   ]
  },
  {
   "cell_type": "code",
   "execution_count": 7,
   "metadata": {},
   "outputs": [],
   "source": [
    "from langgraph.graph import MessagesState\n",
    "\n",
    "# Main Agent Calling Node\n",
    "def call_model(state: MessagesState):\n",
    "\n",
    "    response = main_agent.invoke([SystemMessage(content=PROMPT)] + state[\"messages\"])\n",
    "    return {\"messages\": [response]}"
   ]
  },
  {
   "cell_type": "markdown",
   "metadata": {},
   "source": [
    "### LinkedIn Agents Graph"
   ]
  },
  {
   "cell_type": "code",
   "execution_count": 8,
   "metadata": {},
   "outputs": [],
   "source": [
    "from langchain_core.runnables import RunnableConfig\n",
    "from langgraph.graph import StateGraph, START, END\n",
    "from langgraph.prebuilt import ToolNode\n",
    "from langgraph.graph.message import add_messages\n",
    "from typing import TypedDict, Annotated\n",
    "\n",
    "## State\n",
    "class InternalState(TypedDict):\n",
    "    query: Annotated[list[AnyMessage], add_messages]\n",
    "\n",
    "## LinkedIn Agents Node\n",
    "async def linkedin_agent_team(state: InternalState):\n",
    "\n",
    "    messages = state[\"query\"]\n",
    "    last_message = messages[-1]\n",
    "\n",
    "    tool_messages = []\n",
    "\n",
    "    if hasattr(last_message, 'tool_calls') and last_message.tool_calls:\n",
    "    # Process every call in the list\n",
    "      for call in last_message.tool_calls:\n",
    "          print(\"Processing tool call: %s\", call)\n",
    "          tool_name = call.get(\"name\")\n",
    "          tool_id = call.get(\"id\")\n",
    "          args = call.get(\"args\")\n",
    "\n",
    "\n",
    "          if tool_name == \"LINKEDIN_AGENTS\":\n",
    "              response = graph.invoke(last_message)\n",
    "              res = LINKEDIN_AGENTS(**args)\n",
    "              print(f\"****LinkedI Agents: {res}******\")\n",
    "\n",
    "              tool_msg = ToolMessage(\n",
    "                    name=tool_name,\n",
    "                    content=\"The task has successfully been completed!\",\n",
    "                    tool_call_id=tool_id  # Use the extracted tool_call_id\n",
    "                )\n",
    "              tool_messages.append(tool_msg)\n",
    "\n",
    "    return {\"query\": tool_messages}\n",
    "\n",
    "## XYZ Agent Node\n",
    "def xyz_agent(state: InternalState):\n",
    "\n",
    "    tool_msg = ToolMessage(\n",
    "                    name=tool_name,\n",
    "                    content=\"The task has successfully been completed!\",\n",
    "                    tool_call_id=tool_id  # Use the extracted tool_call_id\n",
    "                )\n",
    "    return {\"query\": tool_msg}\n",
    "\n",
    "# Build graph\n",
    "builder = StateGraph(InternalState)\n",
    "builder.add_node(\"linkedin_agent_team\", linkedin_agent_team)\n",
    "builder.add_node(\"xyz\", xyz_agent)\n",
    "\n",
    "builder.add_edge(START, \"linkedin_agent_team\")\n",
    "builder.add_edge(\"linkedin_agent_team\", \"xyz\")\n",
    "builder.add_edge(\"xyz\", END)\n",
    "subgraph = builder.compile()\n",
    "\n",
    "from IPython.display import Image, display\n",
    "\n",
    "try:\n",
    "    display(Image(graph.get_graph().draw_mermaid_png()))\n",
    "except Exception:\n",
    "    # This requires some extra dependencies and is optional\n",
    "    pass\n"
   ]
  },
  {
   "cell_type": "markdown",
   "metadata": {},
   "source": [
    "### Email Agents Graph"
   ]
  },
  {
   "cell_type": "code",
   "execution_count": 9,
   "metadata": {},
   "outputs": [],
   "source": [
    "## Email Agent\n",
    "async def email_agents_as_tool(state: MessagesState):\n",
    "    \"\"\"\n",
    "    Determine if the conversation should continue to tools or end\n",
    "    \"\"\"\n",
    "    messages = state[\"messages\"]\n",
    "    last_message = messages[-1]\n",
    "\n",
    "    tool_messages = []\n",
    "\n",
    "    if hasattr(last_message, 'tool_calls') and last_message.tool_calls:\n",
    "    # Process every call in the list\n",
    "      for call in last_message.tool_calls:\n",
    "          print(\"Processing tool call: %s\", call)\n",
    "          tool_name = call.get(\"name\")\n",
    "          tool_id = call.get(\"id\")\n",
    "          args = call.get(\"args\")\n",
    "\n",
    "          if tool_name == \"EMAIL_AGENT\":\n",
    "\n",
    "              res = args\n",
    "              print(f\"****Email: {res}******\")\n",
    "\n",
    "              tool_msg = ToolMessage(\n",
    "                    name=tool_name,\n",
    "                    content=\"The email task has successfully been completed!\",\n",
    "                    tool_call_id=tool_id  # Use the extracted tool_call_id\n",
    "                )\n",
    "              tool_messages.append(tool_msg)\n",
    "\n",
    "    return {\"messages\": tool_messages}     "
   ]
  },
  {
   "cell_type": "code",
   "execution_count": 10,
   "metadata": {},
   "outputs": [],
   "source": [
    "from typing import Literal\n",
    "\n",
    "## Conditional Edge\n",
    "async def tools_condition(state: MessagesState) -> Literal[\"linkedin_agents\",  \"email_agent\", \"__end__\"]:\n",
    "    \"\"\"\n",
    "    Determine if the conversation should continue to tools or end\n",
    "    \"\"\"\n",
    "    messages = state[\"messages\"]\n",
    "    last_message = messages[-1]\n",
    "\n",
    "    if hasattr(last_message, 'tool_calls') and last_message.tool_calls:\n",
    "      for call in last_message.tool_calls:\n",
    "        tool_name = call.get(\"name\")\n",
    "          \n",
    "        if tool_name == \"LINKEDIN_AGENTS\":\n",
    "            return \"linkedin_agents\"\n",
    "\n",
    "        elif tool_name == \"EMAIL_AGENT\":\n",
    "            return \"email_agent\"\n",
    "\n",
    "    return \"__end__\""
   ]
  },
  {
   "cell_type": "code",
   "execution_count": 11,
   "metadata": {},
   "outputs": [],
   "source": [
    "def linkedin_agents(state: MessagesState):\n",
    "    response  = subgraph.invoke(\n",
    "        {\"query\": state[\"messages\"]}\n",
    "    )\n",
    "    return {\"messages\": [response]}"
   ]
  },
  {
   "cell_type": "code",
   "execution_count": 17,
   "metadata": {},
   "outputs": [],
   "source": [
    "class DELEGATE_TO_COLLEAGUE_AGENTS(BaseModel):\n",
    "    team: Literal[\"LinkedIn\", \"Gmail\", \"GitHub\"]\n",
    "    task: str"
   ]
  },
  {
   "cell_type": "code",
   "execution_count": 44,
   "metadata": {},
   "outputs": [],
   "source": [
    "graphs_by_name = {\"LinkedIn\": subgraph, \"Gmail\": email_agents_as_tool, \"GitHub\": \"github_graph\"}"
   ]
  },
  {
   "cell_type": "code",
   "execution_count": 25,
   "metadata": {},
   "outputs": [],
   "source": [
    "from langchain_core.tools import tool\n",
    "@tool\n",
    "def delegate_to_colleague_agents(details: DELEGATE_TO_COLLEAGUE_AGENTS):\n",
    "    \"\"\"Tool to delegate the task to colleague agents team\"\"\"\n",
    "    response  = graphs_by_name[details.team].invoke(\n",
    "    {\"messages\": [HumanMessage(content=details.task)]}\n",
    ")   \n",
    "    return response[\"messages\"][-1].content"
   ]
  },
  {
   "cell_type": "code",
   "execution_count": 45,
   "metadata": {},
   "outputs": [],
   "source": [
    "def agent_tools_condition(state: MessagesState):\n",
    "    last_message = state[\"messages\"][-1]\n",
    "    if hasattr(last_message, 'tool_calls') and state[\"messages\"][-1].tool_calls:\n",
    "        for call in last_message.tool_calls:\n",
    "            tool_name = call.get(\"name\")\n",
    "\n",
    "            if tool_name == \"delegate_to_colleague_agents\":\n",
    "                return \"handoff_node\"\n",
    "\n",
    "            elif tool_name == \"UPDATE_MEMORY\":\n",
    "                return \"update_memory\"\n",
    "\n",
    "    return \"__end__\""
   ]
  },
  {
   "cell_type": "code",
   "execution_count": 46,
   "metadata": {},
   "outputs": [],
   "source": [
    "def update_memory(state: MessagesState):\n",
    "    pass"
   ]
  },
  {
   "cell_type": "code",
   "execution_count": 47,
   "metadata": {},
   "outputs": [],
   "source": [
    "def handoff_tool_node(state: MessagesState):\n",
    "    result = []\n",
    "    for tool_call in state[\"messages\"][-1].tool_calls:\n",
    "        tool = graphs_by_name[tool_call[\"name\"]]\n",
    "        args = tool_call[\"args\"]\n",
    "        \n",
    "        response  = tool.invoke(\n",
    "        {\"query\": [HumanMessage(content=args.task)]}\n",
    "        )\n",
    "        result.append(ToolMessage(content=response, tool_call_id=tool_call[\"id\"]))\n",
    "    return {\"messages\": result}"
   ]
  },
  {
   "cell_type": "code",
   "execution_count": 54,
   "metadata": {},
   "outputs": [],
   "source": [
    "def test_node(state: MessagesState):\n",
    "    response = subgraph.invoke(\n",
    "        {\"query\": [HumanMessage(content=state[\"messages\"][-1].content)]}\n",
    "    )\n",
    "    return {\"messages\": [ToolMessage(content=response, tool_call_id=state[\"messages\"][-1].tool_calls[-1][\"id\"])]}"
   ]
  },
  {
   "cell_type": "code",
   "execution_count": 57,
   "metadata": {},
   "outputs": [],
   "source": [
    "## Main Agent Graph\n",
    "from langchain_core.runnables import RunnableConfig\n",
    "from langgraph.graph import  MessagesState, StateGraph, START, END\n",
    "from langgraph.prebuilt import ToolNode\n",
    "from langgraph.checkpoint.memory import MemorySaver\n",
    "\n",
    "workflow = StateGraph(MessagesState)\n",
    "\n",
    "workflow.add_node(\"agent\", call_model)\n",
    "# workflow.add_node(\"linkedin_agents\", builder.compile())\n",
    "# workflow.add_node(\"email_agent\", email_agents_as_tool)\n",
    "workflow.add_node(\"handoff_node\", handoff_tool_node )\n",
    "workflow.add_node(\"update_memory\", update_memory)\n",
    "\n",
    "workflow.add_edge(START, \"agent\")\n",
    "workflow.add_conditional_edges(\"agent\", agent_tools_condition, [\"handoff_node\", \"update_memory\", \"__end__\"])\n",
    "workflow.add_edge(\"handoff_node\", \"agent\")\n",
    "workflow.add_edge(\"update_memory\", \"agent\")\n",
    "# workflow.add_edge(\"email_agent\", \"agent\")\n",
    "# workflow.add_edge(\"linkedin_agents\", \"agent\")\n",
    "\n",
    "checkpointer = MemorySaver()\n",
    "app = workflow.compile(checkpointer=checkpointer)\n"
   ]
  },
  {
   "cell_type": "code",
   "execution_count": 58,
   "metadata": {},
   "outputs": [
    {
     "data": {
      "image/png": "[encoded data removed]",
      "text/plain": [
       "<IPython.core.display.Image object>"
      ]
     },
     "metadata": {},
     "output_type": "display_data"
    }
   ],
   "source": [
    "from IPython.display import Image, display\n",
    "\n",
    "display(Image(app.get_graph(xray=1).draw_mermaid_png()))"
   ]
  },
  {
   "cell_type": "code",
   "execution_count": 137,
   "metadata": {},
   "outputs": [],
   "source": [
    "async def invoke_graph(question: str, thread_id=\"1\"):\n",
    "\n",
    "    config = {\"configurable\": {\"thread_id\": thread_id}}\n",
    "    # Prepare the messages state\n",
    "    initial_state = {\n",
    "        \"messages\": [HumanMessage(content=question)]\n",
    "    }\n",
    "\n",
    "    # Execute the workflow\n",
    "    async for chunk in app.astream(initial_state, config=config, stream_mode=\"values\"):\n",
    "        response_message = chunk[\"messages\"][-1]\n",
    "        if hasattr(response_message, 'content'):\n",
    "            response_message.pretty_print()\n"
   ]
  },
  {
   "cell_type": "code",
   "execution_count": 138,
   "metadata": {},
   "outputs": [
    {
     "name": "stdout",
     "output_type": "stream",
     "text": [
      "================================\u001b[1m Human Message \u001b[0m=================================\n",
      "\n",
      "write a post on the new tech news of today and post them on my linkedin\n",
      "==================================\u001b[1m Ai Message \u001b[0m==================================\n",
      "\n",
      "Hey Aasher, I can help you with that! I'll write a post about today's tech news and post it on your LinkedIn. Just to be sure, do you have any specific topics or sources you'd like me to focus on, or should I just go with the general top news?\n"
     ]
    }
   ],
   "source": [
    "await invoke_graph(question=\"write a post on the new tech news of today and post them on my linkedin\")"
   ]
  },
  {
   "cell_type": "code",
   "execution_count": 139,
   "metadata": {},
   "outputs": [
    {
     "name": "stdout",
     "output_type": "stream",
     "text": [
      "================================\u001b[1m Human Message \u001b[0m=================================\n",
      "\n",
      "i want to post about New Qwen-2 model. Ask linkedin agents to do this\n",
      "==================================\u001b[1m Ai Message \u001b[0m==================================\n",
      "\n",
      "Alright, I'll create a LinkedIn post about the new Qwen-2 model and have it posted on your LinkedIn. I'll use the LinkedIn Agents Team to get this done for you.\n",
      "Tool Calls:\n",
      "  LINKEDIN_AGENTS (b14ee3be-1f6e-444d-9e94-9119a5379259)\n",
      " Call ID: b14ee3be-1f6e-444d-9e94-9119a5379259\n",
      "  Args:\n",
      "    task: Create a LinkedIn post about the new Qwen-2 model and post it on LinkedIn.\n"
     ]
    },
    {
     "ename": "InvalidUpdateError",
     "evalue": "Must write to at least one of ['query']",
     "output_type": "error",
     "traceback": [
      "\u001b[1;31m---------------------------------------------------------------------------\u001b[0m",
      "\u001b[1;31mInvalidUpdateError\u001b[0m                        Traceback (most recent call last)",
      "Cell \u001b[1;32mIn[139], line 1\u001b[0m\n\u001b[1;32m----> 1\u001b[0m \u001b[38;5;28;01mawait\u001b[39;00m invoke_graph(question\u001b[38;5;241m=\u001b[39m\u001b[38;5;124m\"\u001b[39m\u001b[38;5;124mi want to post about New Qwen-2 model. Ask linkedin agents to do this\u001b[39m\u001b[38;5;124m\"\u001b[39m)\n",
      "Cell \u001b[1;32mIn[137], line 10\u001b[0m, in \u001b[0;36minvoke_graph\u001b[1;34m(question, thread_id)\u001b[0m\n\u001b[0;32m      5\u001b[0m initial_state \u001b[38;5;241m=\u001b[39m {\n\u001b[0;32m      6\u001b[0m     \u001b[38;5;124m\"\u001b[39m\u001b[38;5;124mmessages\u001b[39m\u001b[38;5;124m\"\u001b[39m: [HumanMessage(content\u001b[38;5;241m=\u001b[39mquestion)]\n\u001b[0;32m      7\u001b[0m }\n\u001b[0;32m      9\u001b[0m \u001b[38;5;66;03m# Execute the workflow\u001b[39;00m\n\u001b[1;32m---> 10\u001b[0m \u001b[38;5;28;01masync\u001b[39;00m \u001b[38;5;28;01mfor\u001b[39;00m chunk \u001b[38;5;129;01min\u001b[39;00m app\u001b[38;5;241m.\u001b[39mastream(initial_state, config\u001b[38;5;241m=\u001b[39mconfig, stream_mode\u001b[38;5;241m=\u001b[39m\u001b[38;5;124m\"\u001b[39m\u001b[38;5;124mvalues\u001b[39m\u001b[38;5;124m\"\u001b[39m):\n\u001b[0;32m     11\u001b[0m     response_message \u001b[38;5;241m=\u001b[39m chunk[\u001b[38;5;124m\"\u001b[39m\u001b[38;5;124mmessages\u001b[39m\u001b[38;5;124m\"\u001b[39m][\u001b[38;5;241m-\u001b[39m\u001b[38;5;241m1\u001b[39m]\n\u001b[0;32m     12\u001b[0m     \u001b[38;5;28;01mif\u001b[39;00m \u001b[38;5;28mhasattr\u001b[39m(response_message, \u001b[38;5;124m'\u001b[39m\u001b[38;5;124mcontent\u001b[39m\u001b[38;5;124m'\u001b[39m):\n",
      "File \u001b[1;32md:\\Projects and Learning\\Personal_Agent\\.venv\\Lib\\site-packages\\langgraph\\pregel\\__init__.py:2007\u001b[0m, in \u001b[0;36mPregel.astream\u001b[1;34m(self, input, config, stream_mode, output_keys, interrupt_before, interrupt_after, debug, subgraphs)\u001b[0m\n\u001b[0;32m   2001\u001b[0m \u001b[38;5;66;03m# Similarly to Bulk Synchronous Parallel / Pregel model\u001b[39;00m\n\u001b[0;32m   2002\u001b[0m \u001b[38;5;66;03m# computation proceeds in steps, while there are channel updates\u001b[39;00m\n\u001b[0;32m   2003\u001b[0m \u001b[38;5;66;03m# channel updates from step N are only visible in step N+1\u001b[39;00m\n\u001b[0;32m   2004\u001b[0m \u001b[38;5;66;03m# channels are guaranteed to be immutable for the duration of the step,\u001b[39;00m\n\u001b[0;32m   2005\u001b[0m \u001b[38;5;66;03m# with channel updates applied only at the transition between steps\u001b[39;00m\n\u001b[0;32m   2006\u001b[0m \u001b[38;5;28;01mwhile\u001b[39;00m loop\u001b[38;5;241m.\u001b[39mtick(input_keys\u001b[38;5;241m=\u001b[39m\u001b[38;5;28mself\u001b[39m\u001b[38;5;241m.\u001b[39minput_channels):\n\u001b[1;32m-> 2007\u001b[0m     \u001b[38;5;28;01masync\u001b[39;00m \u001b[38;5;28;01mfor\u001b[39;00m _ \u001b[38;5;129;01min\u001b[39;00m runner\u001b[38;5;241m.\u001b[39matick(\n\u001b[0;32m   2008\u001b[0m         loop\u001b[38;5;241m.\u001b[39mtasks\u001b[38;5;241m.\u001b[39mvalues(),\n\u001b[0;32m   2009\u001b[0m         timeout\u001b[38;5;241m=\u001b[39m\u001b[38;5;28mself\u001b[39m\u001b[38;5;241m.\u001b[39mstep_timeout,\n\u001b[0;32m   2010\u001b[0m         retry_policy\u001b[38;5;241m=\u001b[39m\u001b[38;5;28mself\u001b[39m\u001b[38;5;241m.\u001b[39mretry_policy,\n\u001b[0;32m   2011\u001b[0m         get_waiter\u001b[38;5;241m=\u001b[39mget_waiter,\n\u001b[0;32m   2012\u001b[0m     ):\n\u001b[0;32m   2013\u001b[0m         \u001b[38;5;66;03m# emit output\u001b[39;00m\n\u001b[0;32m   2014\u001b[0m         \u001b[38;5;28;01mfor\u001b[39;00m o \u001b[38;5;129;01min\u001b[39;00m output():\n\u001b[0;32m   2015\u001b[0m             \u001b[38;5;28;01myield\u001b[39;00m o\n",
      "File \u001b[1;32md:\\Projects and Learning\\Personal_Agent\\.venv\\Lib\\site-packages\\langgraph\\pregel\\runner.py:444\u001b[0m, in \u001b[0;36mPregelRunner.atick\u001b[1;34m(self, tasks, reraise, timeout, retry_policy, get_waiter)\u001b[0m\n\u001b[0;32m    442\u001b[0m t \u001b[38;5;241m=\u001b[39m tasks[\u001b[38;5;241m0\u001b[39m]\n\u001b[0;32m    443\u001b[0m \u001b[38;5;28;01mtry\u001b[39;00m:\n\u001b[1;32m--> 444\u001b[0m     \u001b[38;5;28;01mawait\u001b[39;00m arun_with_retry(\n\u001b[0;32m    445\u001b[0m         t,\n\u001b[0;32m    446\u001b[0m         retry_policy,\n\u001b[0;32m    447\u001b[0m         stream\u001b[38;5;241m=\u001b[39m\u001b[38;5;28mself\u001b[39m\u001b[38;5;241m.\u001b[39muse_astream,\n\u001b[0;32m    448\u001b[0m         configurable\u001b[38;5;241m=\u001b[39m{\n\u001b[0;32m    449\u001b[0m             CONFIG_KEY_SEND: partial(writer, t),\n\u001b[0;32m    450\u001b[0m             CONFIG_KEY_CALL: partial(call, t),\n\u001b[0;32m    451\u001b[0m         },\n\u001b[0;32m    452\u001b[0m     )\n\u001b[0;32m    453\u001b[0m     \u001b[38;5;28mself\u001b[39m\u001b[38;5;241m.\u001b[39mcommit(t, \u001b[38;5;28;01mNone\u001b[39;00m)\n\u001b[0;32m    454\u001b[0m \u001b[38;5;28;01mexcept\u001b[39;00m \u001b[38;5;167;01mException\u001b[39;00m \u001b[38;5;28;01mas\u001b[39;00m exc:\n",
      "File \u001b[1;32md:\\Projects and Learning\\Personal_Agent\\.venv\\Lib\\site-packages\\langgraph\\pregel\\retry.py:128\u001b[0m, in \u001b[0;36marun_with_retry\u001b[1;34m(task, retry_policy, stream, configurable)\u001b[0m\n\u001b[0;32m    126\u001b[0m         \u001b[38;5;28;01mbreak\u001b[39;00m\n\u001b[0;32m    127\u001b[0m     \u001b[38;5;28;01melse\u001b[39;00m:\n\u001b[1;32m--> 128\u001b[0m         \u001b[38;5;28;01mreturn\u001b[39;00m \u001b[38;5;28;01mawait\u001b[39;00m task\u001b[38;5;241m.\u001b[39mproc\u001b[38;5;241m.\u001b[39mainvoke(task\u001b[38;5;241m.\u001b[39minput, config)\n\u001b[0;32m    129\u001b[0m \u001b[38;5;28;01mexcept\u001b[39;00m ParentCommand \u001b[38;5;28;01mas\u001b[39;00m exc:\n\u001b[0;32m    130\u001b[0m     ns: \u001b[38;5;28mstr\u001b[39m \u001b[38;5;241m=\u001b[39m config[CONF][CONFIG_KEY_CHECKPOINT_NS]\n",
      "File \u001b[1;32md:\\Projects and Learning\\Personal_Agent\\.venv\\Lib\\site-packages\\langgraph\\utils\\runnable.py:532\u001b[0m, in \u001b[0;36mRunnableSeq.ainvoke\u001b[1;34m(self, input, config, **kwargs)\u001b[0m\n\u001b[0;32m    528\u001b[0m config \u001b[38;5;241m=\u001b[39m patch_config(\n\u001b[0;32m    529\u001b[0m     config, callbacks\u001b[38;5;241m=\u001b[39mrun_manager\u001b[38;5;241m.\u001b[39mget_child(\u001b[38;5;124mf\u001b[39m\u001b[38;5;124m\"\u001b[39m\u001b[38;5;124mseq:step:\u001b[39m\u001b[38;5;132;01m{\u001b[39;00mi\u001b[38;5;250m \u001b[39m\u001b[38;5;241m+\u001b[39m\u001b[38;5;250m \u001b[39m\u001b[38;5;241m1\u001b[39m\u001b[38;5;132;01m}\u001b[39;00m\u001b[38;5;124m\"\u001b[39m)\n\u001b[0;32m    530\u001b[0m )\n\u001b[0;32m    531\u001b[0m \u001b[38;5;28;01mif\u001b[39;00m i \u001b[38;5;241m==\u001b[39m \u001b[38;5;241m0\u001b[39m:\n\u001b[1;32m--> 532\u001b[0m     \u001b[38;5;28minput\u001b[39m \u001b[38;5;241m=\u001b[39m \u001b[38;5;28;01mawait\u001b[39;00m step\u001b[38;5;241m.\u001b[39mainvoke(\u001b[38;5;28minput\u001b[39m, config, \u001b[38;5;241m*\u001b[39m\u001b[38;5;241m*\u001b[39mkwargs)\n\u001b[0;32m    533\u001b[0m \u001b[38;5;28;01melse\u001b[39;00m:\n\u001b[0;32m    534\u001b[0m     \u001b[38;5;28minput\u001b[39m \u001b[38;5;241m=\u001b[39m \u001b[38;5;28;01mawait\u001b[39;00m step\u001b[38;5;241m.\u001b[39mainvoke(\u001b[38;5;28minput\u001b[39m, config)\n",
      "File \u001b[1;32md:\\Projects and Learning\\Personal_Agent\\.venv\\Lib\\site-packages\\langgraph\\pregel\\__init__.py:2122\u001b[0m, in \u001b[0;36mPregel.ainvoke\u001b[1;34m(self, input, config, stream_mode, output_keys, interrupt_before, interrupt_after, debug, **kwargs)\u001b[0m\n\u001b[0;32m   2120\u001b[0m \u001b[38;5;28;01melse\u001b[39;00m:\n\u001b[0;32m   2121\u001b[0m     chunks \u001b[38;5;241m=\u001b[39m []\n\u001b[1;32m-> 2122\u001b[0m \u001b[38;5;28;01masync\u001b[39;00m \u001b[38;5;28;01mfor\u001b[39;00m chunk \u001b[38;5;129;01min\u001b[39;00m \u001b[38;5;28mself\u001b[39m\u001b[38;5;241m.\u001b[39mastream(\n\u001b[0;32m   2123\u001b[0m     \u001b[38;5;28minput\u001b[39m,\n\u001b[0;32m   2124\u001b[0m     config,\n\u001b[0;32m   2125\u001b[0m     stream_mode\u001b[38;5;241m=\u001b[39mstream_mode,\n\u001b[0;32m   2126\u001b[0m     output_keys\u001b[38;5;241m=\u001b[39moutput_keys,\n\u001b[0;32m   2127\u001b[0m     interrupt_before\u001b[38;5;241m=\u001b[39minterrupt_before,\n\u001b[0;32m   2128\u001b[0m     interrupt_after\u001b[38;5;241m=\u001b[39minterrupt_after,\n\u001b[0;32m   2129\u001b[0m     debug\u001b[38;5;241m=\u001b[39mdebug,\n\u001b[0;32m   2130\u001b[0m     \u001b[38;5;241m*\u001b[39m\u001b[38;5;241m*\u001b[39mkwargs,\n\u001b[0;32m   2131\u001b[0m ):\n\u001b[0;32m   2132\u001b[0m     \u001b[38;5;28;01mif\u001b[39;00m stream_mode \u001b[38;5;241m==\u001b[39m \u001b[38;5;124m\"\u001b[39m\u001b[38;5;124mvalues\u001b[39m\u001b[38;5;124m\"\u001b[39m:\n\u001b[0;32m   2133\u001b[0m         latest \u001b[38;5;241m=\u001b[39m chunk\n",
      "File \u001b[1;32md:\\Projects and Learning\\Personal_Agent\\.venv\\Lib\\site-packages\\langgraph\\pregel\\__init__.py:2007\u001b[0m, in \u001b[0;36mPregel.astream\u001b[1;34m(self, input, config, stream_mode, output_keys, interrupt_before, interrupt_after, debug, subgraphs)\u001b[0m\n\u001b[0;32m   2001\u001b[0m \u001b[38;5;66;03m# Similarly to Bulk Synchronous Parallel / Pregel model\u001b[39;00m\n\u001b[0;32m   2002\u001b[0m \u001b[38;5;66;03m# computation proceeds in steps, while there are channel updates\u001b[39;00m\n\u001b[0;32m   2003\u001b[0m \u001b[38;5;66;03m# channel updates from step N are only visible in step N+1\u001b[39;00m\n\u001b[0;32m   2004\u001b[0m \u001b[38;5;66;03m# channels are guaranteed to be immutable for the duration of the step,\u001b[39;00m\n\u001b[0;32m   2005\u001b[0m \u001b[38;5;66;03m# with channel updates applied only at the transition between steps\u001b[39;00m\n\u001b[0;32m   2006\u001b[0m \u001b[38;5;28;01mwhile\u001b[39;00m loop\u001b[38;5;241m.\u001b[39mtick(input_keys\u001b[38;5;241m=\u001b[39m\u001b[38;5;28mself\u001b[39m\u001b[38;5;241m.\u001b[39minput_channels):\n\u001b[1;32m-> 2007\u001b[0m     \u001b[38;5;28;01masync\u001b[39;00m \u001b[38;5;28;01mfor\u001b[39;00m _ \u001b[38;5;129;01min\u001b[39;00m runner\u001b[38;5;241m.\u001b[39matick(\n\u001b[0;32m   2008\u001b[0m         loop\u001b[38;5;241m.\u001b[39mtasks\u001b[38;5;241m.\u001b[39mvalues(),\n\u001b[0;32m   2009\u001b[0m         timeout\u001b[38;5;241m=\u001b[39m\u001b[38;5;28mself\u001b[39m\u001b[38;5;241m.\u001b[39mstep_timeout,\n\u001b[0;32m   2010\u001b[0m         retry_policy\u001b[38;5;241m=\u001b[39m\u001b[38;5;28mself\u001b[39m\u001b[38;5;241m.\u001b[39mretry_policy,\n\u001b[0;32m   2011\u001b[0m         get_waiter\u001b[38;5;241m=\u001b[39mget_waiter,\n\u001b[0;32m   2012\u001b[0m     ):\n\u001b[0;32m   2013\u001b[0m         \u001b[38;5;66;03m# emit output\u001b[39;00m\n\u001b[0;32m   2014\u001b[0m         \u001b[38;5;28;01mfor\u001b[39;00m o \u001b[38;5;129;01min\u001b[39;00m output():\n\u001b[0;32m   2015\u001b[0m             \u001b[38;5;28;01myield\u001b[39;00m o\n",
      "File \u001b[1;32md:\\Projects and Learning\\Personal_Agent\\.venv\\Lib\\site-packages\\langgraph\\pregel\\runner.py:444\u001b[0m, in \u001b[0;36mPregelRunner.atick\u001b[1;34m(self, tasks, reraise, timeout, retry_policy, get_waiter)\u001b[0m\n\u001b[0;32m    442\u001b[0m t \u001b[38;5;241m=\u001b[39m tasks[\u001b[38;5;241m0\u001b[39m]\n\u001b[0;32m    443\u001b[0m \u001b[38;5;28;01mtry\u001b[39;00m:\n\u001b[1;32m--> 444\u001b[0m     \u001b[38;5;28;01mawait\u001b[39;00m arun_with_retry(\n\u001b[0;32m    445\u001b[0m         t,\n\u001b[0;32m    446\u001b[0m         retry_policy,\n\u001b[0;32m    447\u001b[0m         stream\u001b[38;5;241m=\u001b[39m\u001b[38;5;28mself\u001b[39m\u001b[38;5;241m.\u001b[39muse_astream,\n\u001b[0;32m    448\u001b[0m         configurable\u001b[38;5;241m=\u001b[39m{\n\u001b[0;32m    449\u001b[0m             CONFIG_KEY_SEND: partial(writer, t),\n\u001b[0;32m    450\u001b[0m             CONFIG_KEY_CALL: partial(call, t),\n\u001b[0;32m    451\u001b[0m         },\n\u001b[0;32m    452\u001b[0m     )\n\u001b[0;32m    453\u001b[0m     \u001b[38;5;28mself\u001b[39m\u001b[38;5;241m.\u001b[39mcommit(t, \u001b[38;5;28;01mNone\u001b[39;00m)\n\u001b[0;32m    454\u001b[0m \u001b[38;5;28;01mexcept\u001b[39;00m \u001b[38;5;167;01mException\u001b[39;00m \u001b[38;5;28;01mas\u001b[39;00m exc:\n",
      "File \u001b[1;32md:\\Projects and Learning\\Personal_Agent\\.venv\\Lib\\site-packages\\langgraph\\pregel\\retry.py:128\u001b[0m, in \u001b[0;36marun_with_retry\u001b[1;34m(task, retry_policy, stream, configurable)\u001b[0m\n\u001b[0;32m    126\u001b[0m         \u001b[38;5;28;01mbreak\u001b[39;00m\n\u001b[0;32m    127\u001b[0m     \u001b[38;5;28;01melse\u001b[39;00m:\n\u001b[1;32m--> 128\u001b[0m         \u001b[38;5;28;01mreturn\u001b[39;00m \u001b[38;5;28;01mawait\u001b[39;00m task\u001b[38;5;241m.\u001b[39mproc\u001b[38;5;241m.\u001b[39mainvoke(task\u001b[38;5;241m.\u001b[39minput, config)\n\u001b[0;32m    129\u001b[0m \u001b[38;5;28;01mexcept\u001b[39;00m ParentCommand \u001b[38;5;28;01mas\u001b[39;00m exc:\n\u001b[0;32m    130\u001b[0m     ns: \u001b[38;5;28mstr\u001b[39m \u001b[38;5;241m=\u001b[39m config[CONF][CONFIG_KEY_CHECKPOINT_NS]\n",
      "File \u001b[1;32md:\\Projects and Learning\\Personal_Agent\\.venv\\Lib\\site-packages\\langgraph\\utils\\runnable.py:532\u001b[0m, in \u001b[0;36mRunnableSeq.ainvoke\u001b[1;34m(self, input, config, **kwargs)\u001b[0m\n\u001b[0;32m    528\u001b[0m config \u001b[38;5;241m=\u001b[39m patch_config(\n\u001b[0;32m    529\u001b[0m     config, callbacks\u001b[38;5;241m=\u001b[39mrun_manager\u001b[38;5;241m.\u001b[39mget_child(\u001b[38;5;124mf\u001b[39m\u001b[38;5;124m\"\u001b[39m\u001b[38;5;124mseq:step:\u001b[39m\u001b[38;5;132;01m{\u001b[39;00mi\u001b[38;5;250m \u001b[39m\u001b[38;5;241m+\u001b[39m\u001b[38;5;250m \u001b[39m\u001b[38;5;241m1\u001b[39m\u001b[38;5;132;01m}\u001b[39;00m\u001b[38;5;124m\"\u001b[39m)\n\u001b[0;32m    530\u001b[0m )\n\u001b[0;32m    531\u001b[0m \u001b[38;5;28;01mif\u001b[39;00m i \u001b[38;5;241m==\u001b[39m \u001b[38;5;241m0\u001b[39m:\n\u001b[1;32m--> 532\u001b[0m     \u001b[38;5;28minput\u001b[39m \u001b[38;5;241m=\u001b[39m \u001b[38;5;28;01mawait\u001b[39;00m step\u001b[38;5;241m.\u001b[39mainvoke(\u001b[38;5;28minput\u001b[39m, config, \u001b[38;5;241m*\u001b[39m\u001b[38;5;241m*\u001b[39mkwargs)\n\u001b[0;32m    533\u001b[0m \u001b[38;5;28;01melse\u001b[39;00m:\n\u001b[0;32m    534\u001b[0m     \u001b[38;5;28minput\u001b[39m \u001b[38;5;241m=\u001b[39m \u001b[38;5;28;01mawait\u001b[39;00m step\u001b[38;5;241m.\u001b[39mainvoke(\u001b[38;5;28minput\u001b[39m, config)\n",
      "File \u001b[1;32md:\\Projects and Learning\\Personal_Agent\\.venv\\Lib\\site-packages\\langgraph\\utils\\runnable.py:308\u001b[0m, in \u001b[0;36mRunnableCallable.ainvoke\u001b[1;34m(self, input, config, **kwargs)\u001b[0m\n\u001b[0;32m    306\u001b[0m coro \u001b[38;5;241m=\u001b[39m cast(Coroutine[\u001b[38;5;28;01mNone\u001b[39;00m, \u001b[38;5;28;01mNone\u001b[39;00m, Any], \u001b[38;5;28mself\u001b[39m\u001b[38;5;241m.\u001b[39mafunc(\u001b[38;5;241m*\u001b[39margs, \u001b[38;5;241m*\u001b[39m\u001b[38;5;241m*\u001b[39mkwargs))\n\u001b[0;32m    307\u001b[0m \u001b[38;5;28;01mif\u001b[39;00m ASYNCIO_ACCEPTS_CONTEXT:\n\u001b[1;32m--> 308\u001b[0m     ret \u001b[38;5;241m=\u001b[39m \u001b[38;5;28;01mawait\u001b[39;00m asyncio\u001b[38;5;241m.\u001b[39mcreate_task(coro, context\u001b[38;5;241m=\u001b[39mcontext)\n\u001b[0;32m    309\u001b[0m \u001b[38;5;28;01melse\u001b[39;00m:\n\u001b[0;32m    310\u001b[0m     ret \u001b[38;5;241m=\u001b[39m \u001b[38;5;28;01mawait\u001b[39;00m coro\n",
      "File \u001b[1;32md:\\Projects and Learning\\Personal_Agent\\.venv\\Lib\\site-packages\\langgraph\\pregel\\write.py:112\u001b[0m, in \u001b[0;36mChannelWrite._awrite\u001b[1;34m(self, input, config)\u001b[0m\n\u001b[0;32m    103\u001b[0m \u001b[38;5;28;01masync\u001b[39;00m \u001b[38;5;28;01mdef\u001b[39;00m\u001b[38;5;250m \u001b[39m\u001b[38;5;21m_awrite\u001b[39m(\u001b[38;5;28mself\u001b[39m, \u001b[38;5;28minput\u001b[39m: Any, config: RunnableConfig) \u001b[38;5;241m-\u001b[39m\u001b[38;5;241m>\u001b[39m \u001b[38;5;28;01mNone\u001b[39;00m:\n\u001b[0;32m    104\u001b[0m     writes \u001b[38;5;241m=\u001b[39m [\n\u001b[0;32m    105\u001b[0m         ChannelWriteEntry(write\u001b[38;5;241m.\u001b[39mchannel, \u001b[38;5;28minput\u001b[39m, write\u001b[38;5;241m.\u001b[39mskip_none, write\u001b[38;5;241m.\u001b[39mmapper)\n\u001b[0;32m    106\u001b[0m         \u001b[38;5;28;01mif\u001b[39;00m \u001b[38;5;28misinstance\u001b[39m(write, ChannelWriteEntry) \u001b[38;5;129;01mand\u001b[39;00m write\u001b[38;5;241m.\u001b[39mvalue \u001b[38;5;129;01mis\u001b[39;00m PASSTHROUGH\n\u001b[1;32m   (...)\u001b[0m\n\u001b[0;32m    110\u001b[0m         \u001b[38;5;28;01mfor\u001b[39;00m write \u001b[38;5;129;01min\u001b[39;00m \u001b[38;5;28mself\u001b[39m\u001b[38;5;241m.\u001b[39mwrites\n\u001b[0;32m    111\u001b[0m     ]\n\u001b[1;32m--> 112\u001b[0m     \u001b[38;5;28;43mself\u001b[39;49m\u001b[38;5;241;43m.\u001b[39;49m\u001b[43mdo_write\u001b[49m\u001b[43m(\u001b[49m\n\u001b[0;32m    113\u001b[0m \u001b[43m        \u001b[49m\u001b[43mconfig\u001b[49m\u001b[43m,\u001b[49m\n\u001b[0;32m    114\u001b[0m \u001b[43m        \u001b[49m\u001b[43mwrites\u001b[49m\u001b[43m,\u001b[49m\n\u001b[0;32m    115\u001b[0m \u001b[43m        \u001b[49m\u001b[38;5;28;43mself\u001b[39;49m\u001b[38;5;241;43m.\u001b[39;49m\u001b[43mrequire_at_least_one_of\u001b[49m\u001b[43m \u001b[49m\u001b[38;5;28;43;01mif\u001b[39;49;00m\u001b[43m \u001b[49m\u001b[38;5;28;43minput\u001b[39;49m\u001b[43m \u001b[49m\u001b[38;5;129;43;01mis\u001b[39;49;00m\u001b[43m \u001b[49m\u001b[38;5;129;43;01mnot\u001b[39;49;00m\u001b[43m \u001b[49m\u001b[38;5;28;43;01mNone\u001b[39;49;00m\u001b[43m \u001b[49m\u001b[38;5;28;43;01melse\u001b[39;49;00m\u001b[43m \u001b[49m\u001b[38;5;28;43;01mNone\u001b[39;49;00m\u001b[43m,\u001b[49m\n\u001b[0;32m    116\u001b[0m \u001b[43m    \u001b[49m\u001b[43m)\u001b[49m\n\u001b[0;32m    117\u001b[0m     \u001b[38;5;28;01mreturn\u001b[39;00m \u001b[38;5;28minput\u001b[39m\n",
      "File \u001b[1;32md:\\Projects and Learning\\Personal_Agent\\.venv\\Lib\\site-packages\\langgraph\\pregel\\write.py:157\u001b[0m, in \u001b[0;36mChannelWrite.do_write\u001b[1;34m(config, writes, require_at_least_one_of)\u001b[0m\n\u001b[0;32m    155\u001b[0m \u001b[38;5;28;01mif\u001b[39;00m require_at_least_one_of \u001b[38;5;129;01mis\u001b[39;00m \u001b[38;5;129;01mnot\u001b[39;00m \u001b[38;5;28;01mNone\u001b[39;00m:\n\u001b[0;32m    156\u001b[0m     \u001b[38;5;28;01mif\u001b[39;00m \u001b[38;5;129;01mnot\u001b[39;00m {chan \u001b[38;5;28;01mfor\u001b[39;00m chan, _ \u001b[38;5;129;01min\u001b[39;00m tuples} \u001b[38;5;241m&\u001b[39m \u001b[38;5;28mset\u001b[39m(require_at_least_one_of):\n\u001b[1;32m--> 157\u001b[0m         \u001b[38;5;28;01mraise\u001b[39;00m InvalidUpdateError(\n\u001b[0;32m    158\u001b[0m             \u001b[38;5;124mf\u001b[39m\u001b[38;5;124m\"\u001b[39m\u001b[38;5;124mMust write to at least one of \u001b[39m\u001b[38;5;132;01m{\u001b[39;00mrequire_at_least_one_of\u001b[38;5;132;01m}\u001b[39;00m\u001b[38;5;124m\"\u001b[39m\n\u001b[0;32m    159\u001b[0m         )\n\u001b[0;32m    160\u001b[0m write: TYPE_SEND \u001b[38;5;241m=\u001b[39m config[CONF][CONFIG_KEY_SEND]\n\u001b[0;32m    161\u001b[0m write(tuples)\n",
      "\u001b[1;31mInvalidUpdateError\u001b[0m: Must write to at least one of ['query']",
      "\u001b[0mDuring task with name '__start__' and id '4ccf1ecd-bb08-b8b8-be00-6f5eb9c059eb'",
      "\u001b[0mDuring task with name 'linkedin_agents' and id 'ff50d969-471c-4290-9c8e-b062e126256a'"
     ]
    }
   ],
   "source": [
    "await invoke_graph(question=\"i want to post about New Qwen-2 model. Ask linkedin agents to do this\")"
   ]
  },
  {
   "cell_type": "code",
   "execution_count": 141,
   "metadata": {},
   "outputs": [
    {
     "name": "stdout",
     "output_type": "stream",
     "text": [
      "================================\u001b[1m Human Message \u001b[0m=================================\n",
      "\n",
      "Can you write an email to Richard thanking him about the watch gift.\n",
      "==================================\u001b[1m Ai Message \u001b[0m==================================\n",
      "Tool Calls:\n",
      "  EMAIL_AGENT (2ce0d010-dce8-407b-aee7-01c9e78f82b9)\n",
      " Call ID: 2ce0d010-dce8-407b-aee7-01c9e78f82b9\n",
      "  Args:\n",
      "    task: Write an email to Richard thanking him for the watch gift.\n",
      "Processing tool call: %s {'name': 'EMAIL_AGENT', 'args': {'task': 'Write an email to Richard thanking him for the watch gift.'}, 'id': '2ce0d010-dce8-407b-aee7-01c9e78f82b9', 'type': 'tool_call'}\n",
      "****Email: {'task': 'Write an email to Richard thanking him for the watch gift.'}******\n",
      "=================================\u001b[1m Tool Message \u001b[0m=================================\n",
      "Name: EMAIL_AGENT\n",
      "\n",
      "The email task has successfully been completed!\n",
      "==================================\u001b[1m Ai Message \u001b[0m==================================\n",
      "\n",
      "Okay, I have written an email to Richard thanking him for the watch gift.\n"
     ]
    }
   ],
   "source": [
    "await invoke_graph(question=\"Can you write an email to Richard thanking him about the watch gift.\", thread_id=\"2\")"
   ]
  }
 ],
 "metadata": {
  "kernelspec": {
   "display_name": ".venv",
   "language": "python",
   "name": "python3"
  },
  "language_info": {
   "codemirror_mode": {
    "name": "ipython",
    "version": 3
   },
   "file_extension": ".py",
   "mimetype": "text/x-python",
   "name": "python",
   "nbconvert_exporter": "python",
   "pygments_lexer": "ipython3",
   "version": "3.12.8"
  }
 },
 "nbformat": 4,
 "nbformat_minor": 2
}
