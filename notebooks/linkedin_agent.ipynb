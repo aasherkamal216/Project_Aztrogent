{
 "cells": [
  {
   "cell_type": "code",
   "execution_count": 1,
   "metadata": {},
   "outputs": [],
   "source": [
    "import os, dotenv\n",
    "\n",
    "dotenv.load_dotenv()\n",
    "\n",
    "os.environ[\"GOOGLE_API_KEY\"] = os.getenv(\"GOOGLE_API_KEY\")\n",
    "os.environ[\"GROQ_API_KEY\"] = os.getenv(\"GROQ_API_KEY\")\n",
    "os.environ[\"TAVILY_API_KEY\"] = os.getenv(\"TAVILY_API_KEY\")\n",
    "os.environ[\"COMPOSIO_API_KEY\"] = os.getenv(\"COMPOSIO_API_KEY\")"
   ]
  },
  {
   "cell_type": "code",
   "execution_count": 3,
   "metadata": {},
   "outputs": [],
   "source": [
    "## Models\n",
    "from langchain_google_genai import  ChatGoogleGenerativeAI\n",
    "from langchain_groq import  ChatGroq\n",
    "\n",
    "gemini_model = ChatGoogleGenerativeAI(model=\"gemini-2.0-flash-exp\")\n",
    "llama_model = ChatGroq(model=\"llama-3.3-70b-versatile\")\n",
    "deepseek_model = ChatGroq(model=\"deepseek-r1-distill-llama-70b\")"
   ]
  },
  {
   "cell_type": "code",
   "execution_count": 4,
   "metadata": {},
   "outputs": [],
   "source": [
    "from typing_extensions import TypedDict\n",
    "from typing import Annotated, Literal\n",
    "\n",
    "from langgraph.graph import MessagesState\n",
    "from langgraph.graph.message import add_messages\n",
    "\n",
    "## State\n",
    "class LinkedInGraphState(MessagesState):\n",
    "    task: str\n",
    "    critique: str\n",
    "    post: str\n",
    "    user_feedback: str\n",
    "    llm_feedback: str\n",
    "    context: list\n"
   ]
  },
  {
   "cell_type": "code",
   "execution_count": 364,
   "metadata": {},
   "outputs": [],
   "source": [
    "from langchain_community.tools.tavily_search import TavilySearchResults\n",
    "from langgraph.types import Command, interrupt\n",
    "\n",
    "tavily_tool = TavilySearchResults(max_results=3)\n",
    "\n",
    "def web_search(state: LinkedInGraphState) -> Command[Literal[\"post_writer\"]]:\n",
    "    # results = tavily_tool.invoke(state['messages'])\n",
    "\n",
    "    return Command(\n",
    "        # state update\n",
    "        update={\"context\": \"results\"},\n",
    "        goto=\"post_writer\"\n",
    "    )"
   ]
  },
  {
   "cell_type": "code",
   "execution_count": 6,
   "metadata": {},
   "outputs": [],
   "source": [
    "def post_writer(state: LinkedInGraphState)-> Command[Literal[\"post_analyzer\"]]:\n",
    "    \n",
    "    return Command(\n",
    "        update={\"post\": state['messages'][-1]},\n",
    "        goto=\"post_analyzer\"\n",
    "    )"
   ]
  },
  {
   "cell_type": "code",
   "execution_count": 7,
   "metadata": {},
   "outputs": [],
   "source": [
    "from pydantic import BaseModel, Field\n",
    "from langchain_core.messages import SystemMessage, AIMessage, ToolMessage, HumanMessage, AnyMessage\n",
    "\n",
    "class PostAnalystSchema(BaseModel):\n",
    "    next_node: Literal[\"post_writer\", \"upload_post\"]\n",
    "    feedback: str = Field(description=\"The feedback about the post.\")\n",
    "\n",
    "post_analyst_llm = llama_model.with_structured_output(PostAnalystSchema)\n",
    "\n",
    "ANALYST_PROMPT = \"\"\"You are a LinkedIn post analyst. Your task is to route the given post to either back to the post_writer or to upload_post nodes. \n",
    "If the given post is well-written according to the given example posts, route it upload_post node, so that it can be posted on LinkedIn.\n",
    "If the post does not match the style of given example posts, route it back to the post_writer node along with the feedback so that it can improve\n",
    "the post.\n",
    "\n",
    "## Example Posts:\n",
    "\n",
    "#### Example 1:\n",
    "Software engineers who do not speak well \n",
    "\n",
    "or do not dress presentable will struggle.\n",
    "\n",
    "If your MO is I am great technical talent and thats all that matters. \n",
    "\n",
    "Neglect the effort to communicate better or make an impression to stakeholders.\n",
    "\n",
    "When Ai catches up to become a principal engineer, your worth diminishes.\n",
    "\n",
    "Get good at talking to people, care about how you present your ideas and yourself.\n",
    "\n",
    "Will make such a difference.\n",
    "Agree?\n",
    "---\n",
    "\n",
    "#### Example 2:\n",
    "CS STUDENTS: Snapchat is paying entry-level engineers in nyc $190k.\n",
    "\n",
    "Snap isn’t paying $190k to test their “ar googles.”\n",
    "\n",
    "Snap is paying $190k or even $500k so you can be part of the team that can help them make their next $100Bn in market cap.\n",
    "\n",
    "Too many “talent” and potentially even “motivated” young engineers get all “hip hip hooray” after landing the TC (offer letter)…\n",
    "\n",
    "without visualizing the bigger picture. Why do you exist? What does your team and director do? Which team/product line makes the most money? How do you make the company better?\n",
    "\n",
    "Someone can argue if the purpose of your specific role as an engineer is opaque and the intrigue to better your technical organization is missing…\n",
    "\n",
    "there might be diminishing returns on hiring such an engineer in the advent of ai. \n",
    "\n",
    "Thoughts?\n",
    "---\n",
    "\n",
    "#### Example 3:\n",
    "NYC Hacker house meetup. \n",
    "\n",
    "This was how it went down.\n",
    "\n",
    "1/ gather at the hacker house\n",
    "2/ eat and vibe\n",
    "3/ go to the office \n",
    "\n",
    "7 headstarter residents and mentor(google) and hiring manager at startup ($145mn series A) came. \n",
    "\n",
    "I gave folks a game plan on how to get a job, roasted resumes and everyone just vibes.\n",
    "\n",
    "IRL is where its at. \n",
    "\n",
    "Who agrees? \n",
    "\n",
    "Run it back again?\n",
    "\"\"\"\n",
    "\n",
    "def post_analyzer(state: LinkedInGraphState) -> Command[Literal[\"upload_post\", \"post_writer\"]]:\n",
    "    \n",
    "    post_analysis = post_analyst_llm.invoke([SystemMessage(content=ANALYST_PROMPT)] + [state[\"post\"]])\n",
    "\n",
    "    user_feedback = \"\"\n",
    "    if post_analysis.next_node == \"post_writer\":\n",
    "        goto = \"post_writer\"\n",
    "        user_feedback = interrupt(\"Please provide feedback about the post:\")\n",
    "\n",
    "    elif post_analysis.next_node == \"upload_post\":\n",
    "        goto = \"upload_post\"\n",
    "\n",
    "    return Command(\n",
    "        update={\"llm_feedback\": post_analysis.feedback, \n",
    "                \"user_feedback\": user_feedback\n",
    "               },\n",
    "        goto=goto\n",
    "    )"
   ]
  },
  {
   "cell_type": "code",
   "execution_count": 8,
   "metadata": {},
   "outputs": [],
   "source": [
    "def upload_post(state: LinkedInGraphState) -> Command[Literal[\"__end__\"]]:\n",
    "    \n",
    "    return Command(\n",
    "        update={\"messages\": [HumanMessage(content=\"The post has successfully been posted!\")]},\n",
    "        goto=\"__end__\"\n",
    "    )\n",
    "    "
   ]
  },
  {
   "cell_type": "markdown",
   "metadata": {},
   "source": [
    "### Task Router"
   ]
  },
  {
   "cell_type": "code",
   "execution_count": 9,
   "metadata": {},
   "outputs": [],
   "source": [
    "def task_router(state: LinkedInGraphState) -> Literal[\"post_writer\", \"web_search\"]:\n",
    "    if state.get(\"feedback\"):\n",
    "        return \"post_writer\"\n",
    "    return \"web_search\""
   ]
  },
  {
   "cell_type": "markdown",
   "metadata": {},
   "source": [
    "## Graph"
   ]
  },
  {
   "cell_type": "code",
   "execution_count": 10,
   "metadata": {},
   "outputs": [
    {
     "data": {
      "image/png": "[encoded data removed]",
      "text/plain": [
       "<IPython.core.display.Image object>"
      ]
     },
     "metadata": {},
     "output_type": "display_data"
    }
   ],
   "source": [
    "from langchain_core.runnables import RunnableConfig\n",
    "from langgraph.graph import StateGraph, START, END\n",
    "from langgraph.prebuilt import ToolNode\n",
    "from langgraph.checkpoint.memory import MemorySaver\n",
    "\n",
    "from typing import TypedDict, Annotated\n",
    "from IPython.display import Image, display\n",
    "\n",
    "# Build graph\n",
    "builder = StateGraph(LinkedInGraphState)\n",
    "\n",
    "builder.add_node(\"post_writer\", post_writer)\n",
    "builder.add_node(\"web_search\", web_search)\n",
    "builder.add_node(\"post_analyzer\", post_analyzer)\n",
    "builder.add_node(\"upload_post\", upload_post)\n",
    "\n",
    "builder.add_conditional_edges(START, task_router)\n",
    "\n",
    "checkpointer = MemorySaver()\n",
    "graph = builder.compile(checkpointer=checkpointer, interrupt_before=[\"upload_post\"])\n",
    "\n",
    "## Display graph\n",
    "display(Image(graph.get_graph().draw_mermaid_png()))\n"
   ]
  },
  {
   "cell_type": "code",
   "execution_count": 11,
   "metadata": {},
   "outputs": [
    {
     "name": "stdout",
     "output_type": "stream",
     "text": [
      "{'web_search': {'context': 'results'}}\n",
      "\n",
      "{'post_writer': {'post': HumanMessage(content='\\nEast vs west war is crazy. \\nDeepseek was a fine tuned llama model. \\n\\nOnly $6mn to train. \\n\\nFor comparison Elons x.ai raised $6bn. \\n\\nIs dog shi***\\n\\nAnd sam now raised $500bn for a weird US collab.\\n\\nWill it be for surveillance as Oracle ceo said. \\n\\nWho knows? Thoughts?', additional_kwargs={}, response_metadata={}, id='ee1993d3-74a3-49e3-ad1c-40409cc391d5')}}\n",
      "\n",
      "{'post_analyzer': {'llm_feedback': 'The post seems to be well-structured and similar in style to the given example posts, with a clear and concise message and a call to action for thoughts and discussion.', 'user_feedback': ''}}\n",
      "\n",
      "{'__interrupt__': ()}\n",
      "\n"
     ]
    }
   ],
   "source": [
    "config = {\"configurable\": {\"thread_id\": \"abc\"}}\n",
    "\n",
    "for event in graph.stream({\"messages\": [HumanMessage(content=\"\"\"\n",
    "East vs west war is crazy. \n",
    "Deepseek was a fine tuned llama model. \n",
    "\n",
    "Only $6mn to train. \n",
    "\n",
    "For comparison Elons x.ai raised $6bn. \n",
    "\n",
    "Is dog shi***\n",
    "\n",
    "And sam now raised $500bn for a weird US collab.\n",
    "\n",
    "Will it be for surveillance as Oracle ceo said. \n",
    "\n",
    "Who knows? Thoughts?\"\"\")]}, config=config):\n",
    "    print(event, end=\"\\n\\n\")"
   ]
  },
  {
   "cell_type": "code",
   "execution_count": 12,
   "metadata": {},
   "outputs": [
    {
     "data": {
      "text/plain": [
       "{'messages': [HumanMessage(content='\\nEast vs west war is crazy. \\nDeepseek was a fine tuned llama model. \\n\\nOnly $6mn to train. \\n\\nFor comparison Elons x.ai raised $6bn. \\n\\nIs dog shi***\\n\\nAnd sam now raised $500bn for a weird US collab.\\n\\nWill it be for surveillance as Oracle ceo said. \\n\\nWho knows? Thoughts?', additional_kwargs={}, response_metadata={}, id='ee1993d3-74a3-49e3-ad1c-40409cc391d5')],\n",
       " 'post': HumanMessage(content='\\nEast vs west war is crazy. \\nDeepseek was a fine tuned llama model. \\n\\nOnly $6mn to train. \\n\\nFor comparison Elons x.ai raised $6bn. \\n\\nIs dog shi***\\n\\nAnd sam now raised $500bn for a weird US collab.\\n\\nWill it be for surveillance as Oracle ceo said. \\n\\nWho knows? Thoughts?', additional_kwargs={}, response_metadata={}, id='ee1993d3-74a3-49e3-ad1c-40409cc391d5'),\n",
       " 'user_feedback': '',\n",
       " 'llm_feedback': 'The post seems to be well-structured and similar in style to the given example posts, with a clear and concise message and a call to action for thoughts and discussion.',\n",
       " 'context': 'results'}"
      ]
     },
     "execution_count": 12,
     "metadata": {},
     "output_type": "execute_result"
    }
   ],
   "source": [
    "graph.get_state(config).values"
   ]
  },
  {
   "cell_type": "code",
   "execution_count": 13,
   "metadata": {},
   "outputs": [
    {
     "name": "stdout",
     "output_type": "stream",
     "text": [
      "{'upload_post': {'messages': [HumanMessage(content='The post has successfully been posted!', additional_kwargs={}, response_metadata={}, id='88819a48-bdac-4679-ba7a-b02ad2e41a00')]}}\n",
      "\n",
      "\n"
     ]
    }
   ],
   "source": [
    "# Continue the graph execution\n",
    "for event in graph.stream(\n",
    "    Command(resume=\"The post should be well-written\"), config\n",
    "):\n",
    "    print(event)\n",
    "    print(\"\\n\")"
   ]
  },
  {
   "cell_type": "markdown",
   "metadata": {},
   "source": [
    "----\n",
    "## Second Graph (Enhanced Logic)"
   ]
  },
  {
   "cell_type": "code",
   "execution_count": 14,
   "metadata": {},
   "outputs": [],
   "source": [
    "## State\n",
    "class LinkedInGraphState(MessagesState):\n",
    "    post: str\n",
    "    user_feedback: str\n",
    "    refined_post: str\n",
    "    status: Literal[\"refining\", \"uploading\", \"completed\"]\n"
   ]
  },
  {
   "cell_type": "code",
   "execution_count": 15,
   "metadata": {},
   "outputs": [],
   "source": [
    "def post_writer(state: LinkedInGraphState) -> Command[Literal[\"web_search\",\"style_refiner\"]]:\n",
    "    response = \"invoking llm...\"\n",
    "    last_message = state[\"messages\"][-1]\n",
    "\n",
    "    if isinstance(last_message, AIMessage):\n",
    "        if last_message.tool_calls:\n",
    "            return Command(\n",
    "                goto=\"web_search\"\n",
    "            )\n",
    "    return Command(\n",
    "        update={\"post\": response},\n",
    "        goto=\"style_refiner\"\n",
    "    )"
   ]
  },
  {
   "cell_type": "code",
   "execution_count": 16,
   "metadata": {},
   "outputs": [],
   "source": [
    "def style_refiner(state: LinkedInGraphState) -> Command[Literal[\"human_feedback\"]]:\n",
    "    \n",
    "    return Command(\n",
    "        update={\"post\": state[\"post\"]},\n",
    "        goto=\"human_feedback\"\n",
    "    )\n"
   ]
  },
  {
   "cell_type": "code",
   "execution_count": 17,
   "metadata": {},
   "outputs": [],
   "source": [
    "def human_feedback(state: LinkedInGraphState) -> Command[Literal[\"upload_post\", \"style_refiner\", \"__end__\"]]:\n",
    "    review = interrupt({\"post\": state[\"post\"], \"is_approved\": \"Do you approve the post? [y/n]: \"})\n",
    "\n",
    "    if review.lower().strip() == \"y\":\n",
    "        should_upload = interrupt(\"Should I upload the post? [y/n]: \")\n",
    "\n",
    "        if should_upload.lower().strip() == \"y\":\n",
    "            return Command(\n",
    "                update={\"status\": \"uploading\"},\n",
    "                goto=\"upload_post\"\n",
    "            )\n",
    "        elif should_upload.lower().strip() == \"n\":\n",
    "            return Command(\n",
    "                update={\n",
    "                    \"messages\": [HumanMessage(content=\"The post has been written!\")],\n",
    "                    \"status\": \"completed\"\n",
    "                    },\n",
    "                goto=\"__end__\"\n",
    "            )\n",
    "    else:\n",
    "        feedback = interrupt(\"Please provide feedback about the post: \")\n",
    "        return Command(\n",
    "            update={\"user_feedback\": feedback, \"status\": \"refining\"},\n",
    "            goto=\"style_refiner\"\n",
    "        )"
   ]
  },
  {
   "cell_type": "code",
   "execution_count": 18,
   "metadata": {},
   "outputs": [],
   "source": [
    "def upload_post(state: LinkedInGraphState) -> Command[Literal[\"__end__\"]]:\n",
    "    \n",
    "    return Command(\n",
    "        update={\n",
    "            \"messages\": [HumanMessage(content=\"The post has successfully been posted!\")],\n",
    "            \"status\": \"completed\"\n",
    "        },\n",
    "        goto=\"__end__\"\n",
    "    )\n",
    "    "
   ]
  },
  {
   "cell_type": "code",
   "execution_count": 19,
   "metadata": {},
   "outputs": [
    {
     "data": {
      "image/png": "[encoded data removed]",
      "text/plain": [
       "<IPython.core.display.Image object>"
      ]
     },
     "metadata": {},
     "output_type": "display_data"
    }
   ],
   "source": [
    "from langchain_core.runnables import RunnableConfig\n",
    "from langgraph.graph import StateGraph, START, END\n",
    "from langgraph.prebuilt import ToolNode\n",
    "from langgraph.checkpoint.memory import MemorySaver\n",
    "\n",
    "from typing import TypedDict, Annotated\n",
    "from IPython.display import Image, display\n",
    "\n",
    "# Build graph\n",
    "builder = StateGraph(LinkedInGraphState)\n",
    "\n",
    "builder.add_node(\"post_writer\", post_writer)\n",
    "builder.add_node(\"web_search\", ToolNode([tavily_tool]))\n",
    "builder.add_node(\"style_refiner\", style_refiner)\n",
    "builder.add_node(\"human_feedback\", human_feedback)\n",
    "builder.add_node(\"upload_post\", upload_post)\n",
    "\n",
    "builder.add_edge(START, \"post_writer\")\n",
    "builder.add_edge(\"web_search\", \"post_writer\")\n",
    "\n",
    "\n",
    "checkpointer = MemorySaver()\n",
    "graph = builder.compile(checkpointer=checkpointer)\n",
    "\n",
    "## Display graph\n",
    "display(Image(graph.get_graph().draw_mermaid_png()))"
   ]
  },
  {
   "cell_type": "code",
   "execution_count": 20,
   "metadata": {},
   "outputs": [
    {
     "name": "stdout",
     "output_type": "stream",
     "text": [
      "{'post_writer': {'post': 'invoking llm...'}}\n",
      "{'style_refiner': {'post': 'invoking llm...'}}\n",
      "{'__interrupt__': (Interrupt(value={'post': 'invoking llm...', 'is_approved': 'Do you approve the post? [y/n]: '}, resumable=True, ns=['human_feedback:b68a112d-13ab-8470-6bae-38b9fae478c4'], when='during'),)}\n"
     ]
    }
   ],
   "source": [
    "config = {\"configurable\": {\"thread_id\": \"123\"}}\n",
    "\n",
    "for event in graph.stream(\n",
    "    {\"messages\": HumanMessage(content=\"Write a post about Qwen 2.5 Max\")},\n",
    "    config = config\n",
    "):\n",
    "    print(event)"
   ]
  },
  {
   "cell_type": "code",
   "execution_count": 21,
   "metadata": {},
   "outputs": [
    {
     "name": "stdout",
     "output_type": "stream",
     "text": [
      "{'__interrupt__': (Interrupt(value='Please provide feedback about the post: ', resumable=True, ns=['human_feedback:b68a112d-13ab-8470-6bae-38b9fae478c4'], when='during'),)}\n"
     ]
    }
   ],
   "source": [
    "for event in graph.stream(\n",
    "    Command(resume=\"n\"), config\n",
    "):\n",
    "    print(event)"
   ]
  },
  {
   "cell_type": "code",
   "execution_count": 22,
   "metadata": {},
   "outputs": [
    {
     "name": "stdout",
     "output_type": "stream",
     "text": [
      "{'human_feedback': {'user_feedback': 'Use simple words', 'status': 'refining'}}\n",
      "{'style_refiner': {'post': 'invoking llm...'}}\n",
      "{'__interrupt__': (Interrupt(value={'post': 'invoking llm...', 'is_approved': 'Do you approve the post? [y/n]: '}, resumable=True, ns=['human_feedback:97cf866e-6f82-61bf-0418-87c1e942a72f'], when='during'),)}\n"
     ]
    }
   ],
   "source": [
    "for event in graph.stream(\n",
    "    Command(resume=\"Use simple words\"), config\n",
    "):\n",
    "    print(event)"
   ]
  },
  {
   "cell_type": "code",
   "execution_count": 23,
   "metadata": {},
   "outputs": [
    {
     "name": "stdout",
     "output_type": "stream",
     "text": [
      "{'__interrupt__': (Interrupt(value='Should I upload the post? [y/n]: ', resumable=True, ns=['human_feedback:97cf866e-6f82-61bf-0418-87c1e942a72f'], when='during'),)}\n"
     ]
    }
   ],
   "source": [
    "for event in graph.stream(\n",
    "    Command(resume=\"y\"), config\n",
    "):\n",
    "    print(event)"
   ]
  },
  {
   "cell_type": "code",
   "execution_count": 24,
   "metadata": {},
   "outputs": [
    {
     "name": "stdout",
     "output_type": "stream",
     "text": [
      "{'human_feedback': {'status': 'uploading'}}\n",
      "{'upload_post': {'messages': [HumanMessage(content='The post has successfully been posted!', additional_kwargs={}, response_metadata={}, id='f76ae1e3-c5bb-434c-b7e5-7401c710c296')], 'status': 'completed'}}\n"
     ]
    }
   ],
   "source": [
    "for event in graph.stream(\n",
    "    Command(resume=\"y\"), config\n",
    "):\n",
    "    print(event)"
   ]
  },
  {
   "cell_type": "markdown",
   "metadata": {},
   "source": [
    "---\n",
    "## Third Graph (More Autonomous)\n",
    "<img src=\"../static/Linkedin_Agents_Graph.png\" alt=\"Graph\" width=\"600\">"
   ]
  },
  {
   "cell_type": "code",
   "execution_count": 218,
   "metadata": {},
   "outputs": [],
   "source": [
    "from operator import add\n",
    "## State\n",
    "class LinkedInGraphState(MessagesState):\n",
    "    posts: Annotated[list[str], add]\n",
    "    human_feedback: str\n",
    "    writer_task: str\n",
    "    status: Literal[\"writing\", \"rewriting\", \"completed\"]"
   ]
  },
  {
   "cell_type": "code",
   "execution_count": 219,
   "metadata": {},
   "outputs": [],
   "source": [
    "from langchain_core.tools import tool\n",
    "\n",
    "@tool\n",
    "class POST_WRITER(BaseModel):\n",
    "    \"\"\"The Post Writer Agent who writes a LinkedIn post.\"\"\"\n",
    "    task: str = Field(description=\"The complete details of the task given to this Post Writer Agent.\")"
   ]
  },
  {
   "cell_type": "code",
   "execution_count": 355,
   "metadata": {},
   "outputs": [],
   "source": [
    "from composio_langgraph import Action, ComposioToolSet\n",
    "\n",
    "composio_toolset = ComposioToolSet(api_key=os.getenv(\"COMPOSIO_API_KEY\"))\n",
    "\n",
    "linkedin_tools = composio_toolset.get_tools(\n",
    "    actions=[\n",
    "        Action.LINKEDIN_GET_MY_INFO,\n",
    "        Action.LINKEDIN_CREATE_LINKED_IN_POST,\n",
    "        Action.LINKEDIN_DELETE_LINKED_IN_POST\n",
    "    ]\n",
    ")\n",
    "\n",
    "tools_by_name = {tool.name: tool for tool in linkedin_tools}"
   ]
  },
  {
   "cell_type": "code",
   "execution_count": 322,
   "metadata": {},
   "outputs": [],
   "source": [
    "main_linkedin_agent = llama_model.bind_tools([POST_WRITER] + linkedin_tools)"
   ]
  },
  {
   "cell_type": "code",
   "execution_count": 254,
   "metadata": {},
   "outputs": [
    {
     "data": {
      "text/plain": [
       "[StructuredTool(name='POST_WRITER', description='The Post Writer Agent who writes a LinkedIn post.', args_schema=<class 'langchain_core.utils.pydantic.POST_WRITER'>, func=<class '__main__.POST_WRITER'>),\n",
       " StructuredTool(name='LINKEDIN_DELETE_LINKED_IN_POST', description='Action To Delete A Post On Linked In.', args_schema=<class 'composio.utils.shared.DeleteLinkedInPostRequest'>, func=<function ComposioToolSet._wrap_action.<locals>.function at 0x00000209F0AD5440>),\n",
       " StructuredTool(name='LINKEDIN_GET_MY_INFO', description='Action To Get Info Of Currently Authenticated Profile From Linked In. This Action Can Be Used To Get The Author Identifier (Author Id) To Create Posts.', args_schema=<class 'composio.utils.shared.GetMyInfoRequest'>, func=<function ComposioToolSet._wrap_action.<locals>.function at 0x00000209F0AB1440>),\n",
       " StructuredTool(name='LINKEDIN_CREATE_LINKED_IN_POST', description='Create Linked In Post', args_schema=<class 'composio.utils.shared.CreateLinkedInPostRequest'>, func=<function ComposioToolSet._wrap_action.<locals>.function at 0x00000209F0AB11C0>)]"
      ]
     },
     "execution_count": 254,
     "metadata": {},
     "output_type": "execute_result"
    }
   ],
   "source": [
    "[POST_WRITER] + linkedin_tools"
   ]
  },
  {
   "cell_type": "markdown",
   "metadata": {},
   "source": [
    "### Prompts"
   ]
  },
  {
   "cell_type": "markdown",
   "metadata": {},
   "source": [
    "1. LinkedIn Agent Prompt"
   ]
  },
  {
   "cell_type": "code",
   "execution_count": 337,
   "metadata": {},
   "outputs": [],
   "source": [
    "LINKEDIN_AGENT_PROMPT = \"\"\"\n",
    "# Role\n",
    "You are a LinkedIn Assistant, specializing in performing LinkedIn-related tasks such as writing, uploading/deleting posts and retrieving user information. Collaborate with your colleague agent, `POST_WRITER`, for posts creation, ensuring tasks are completed efficiently and effectively.\n",
    "\n",
    "# Task\n",
    "Execute LinkedIn-related tasks as requested by the user, utilizing your specific tools for each action. If a task involves writing a LinkedIn post, delegate this to POST_WRITER with a clear description of the user's needs. \n",
    "Once POST_WRITER completes the post, proceed to upload it to LinkedIn ONLY if user has mentioned to do so. \n",
    "For any task that is unclear, engage with the user to gather more details before proceeding.\n",
    "\n",
    "## Instructions\n",
    "- Gather complete information about the task from the user. If you are not sure about the task, ask the user for more information.\n",
    "- Handle tasks related to uploading/deleting LinkedIn posts and retrieving user information.\n",
    "- Delegate post writing tasks to `POST_WRITER` agent, providing him with a detailed brief from the user.\n",
    "- Ensure clarity on the user's request by asking for more details if the task is not clear.\n",
    "- Use the tools provided efficiently to fulfill the user's requests.\n",
    "\n",
    "# Tools & Agent\n",
    "You have access to the following tools and an Agent to assist in completing tasks:\n",
    "1. **POST_WRITER**: A colleague agent who specializes in writing LinkedIn posts according to the user's style and tone, with access to real-time web data.\n",
    "2. **LINKEDIN_GET_MY_INFO**: Retrieves user information from LinkedIn.\n",
    "3. **LINKEDIN_DELETE_LINKED_IN_POST**: Deletes a specified LinkedIn post.\n",
    "4. **LINKEDIN_CREATE_LINKED_IN_POST**: Uploads a new post to LinkedIn.\n",
    "\n",
    "# Notes\n",
    "- Prioritize clear communication with the user to ensure tasks are understood and completed according to their needs.\n",
    "- Do not attempt to write posts yourself; always delegate to `POST_WRITER` for content writing tasks.\n",
    "- If any function call/tool call fails, retry it.\n",
    "- If the user has not mentioned to upload the post, do NOT upload it to LinkedIn. Instead, ask them if they want to upload.\n",
    "\n",
    "\"\"\""
   ]
  },
  {
   "cell_type": "markdown",
   "metadata": {},
   "source": [
    "2. Post Writer Agent Prompt"
   ]
  },
  {
   "cell_type": "code",
   "execution_count": 371,
   "metadata": {},
   "outputs": [],
   "source": [
    "POST_WRITER_PROMPT = \"\"\"\n",
    "You are a LinkedIn post writer. Your job is to write/enhance a post to sound like me.\n",
    "\n",
    "## Instructions\n",
    "1. Post Style & Tone\n",
    "    - When you are writing the post, make sure it matches the tone, clarity, and engagement level the given example posts.\n",
    "    - You are given some example posts (within `<post>` tags) written by me. Consider writing the post in the style and tone of given example posts.\n",
    "    - Generally, the post should be of 50-200 words (unless specified by the user).\n",
    "2. Post Content\n",
    "    - Do NOT make up the information, the post must be factually correct.\n",
    "    - If you don't have enough information to write the post, use tool to gather information from internet.\n",
    "    - Add a short Post Script (P.S.) in my tone in news related posts.\n",
    "    - Only add updated & correct information in the post.\n",
    "3. Post Enhancement\n",
    "    - If you are provided with a pre-written **post** and **feedback**, enhance the post based on the feedback.\n",
    "    - Return the enhanced post.\n",
    "4. Important Note\n",
    "Do NOT make up the information, the post must be factually correct. Use tools to gather information from internet.\n",
    "---\n",
    "Here are some example posts written by me:\n",
    "\n",
    "<post>\n",
    "Just in: “Anything on the other side of a screen is at risk of displacement”\n",
    "\n",
    "Emad Mostaque / Stability AI CEO\n",
    "\n",
    "I totally agree with this.\n",
    "\n",
    "What does this mean for a CS student? \n",
    "\n",
    "It means opportunity. Feel things you might agree: \n",
    "\n",
    "- those who know ai will replace those who dont\n",
    "- be a generalist: know fe, be, aws, ai, ml\n",
    "- develop strong people skills. Try to be a loved team player\n",
    "\n",
    "\n",
    "Knowing ai doesn't mean know how to use tools. It means you can build them. \n",
    "\n",
    "You know in movies when a car breaks down and someone “cool” can fix it. \n",
    "\n",
    "If you were to crack open an ai today how much can your current toolset take on? \n",
    "\n",
    "Know agentic frameworks, infra and ML papers like “code to act” \n",
    "\n",
    "alongside abundant full-stack skills. \n",
    "\n",
    "Time to become great is now. \n",
    "\n",
    "So GTFOL!!!! Common guys who agrees?\n",
    "</post>\n",
    "\n",
    "---\n",
    "<post>\n",
    "East vs west war is crazy. \n",
    "\n",
    "Deepseek was a fine tuned llama model. \n",
    "\n",
    "Only $6mn to train. \n",
    "\n",
    "For comparison Elons x.ai raised $6bn. \n",
    "\n",
    "And sam now raised $500bn for a weird US collab.\n",
    "\n",
    "Will it be for surveillance as Oracle ceo said. \n",
    "\n",
    "Who knows? Thoughts?\n",
    "</post>\n",
    "\n",
    "---\n",
    "<post>\n",
    "AI engineering in 2025 is less about PyTorch and TensorFlow and more about CrewAI and Langchain. \n",
    "\n",
    "It's less about pre-training models from scratch and more about orchestrating agents across different tasks. \n",
    "\n",
    "It's less about working with static datasets and more about real-time web crawling and web scraping. \n",
    "\n",
    "It's less about black-box AI and more about transparent logging and traceability. \n",
    "\n",
    "It's less about large, generic foundation models and more about smaller, task-specific fine-tuned models. \n",
    "\n",
    "It's less about spending $$$ on OpenAI API calls and more about being grateful for Chinese models.\n",
    "\n",
    "All in all seriousness though, 2025 is less about research and more about the application side. \n",
    "</post>\n",
    "---\n",
    "## Important Note\n",
    "Just return the post, do NOT return any other text.\n",
    "\"\"\""
   ]
  },
  {
   "cell_type": "code",
   "execution_count": 339,
   "metadata": {},
   "outputs": [],
   "source": [
    "def linkedin_agent(\n",
    "    state: LinkedInGraphState,\n",
    ") -> Command[Literal[\"action_executor\", \"writer_agent\", \"__end__\"]]:\n",
    "    # Calling the main LinkedIn Agent\n",
    "    response = main_linkedin_agent.invoke(\n",
    "        [SystemMessage(content=LINKEDIN_AGENT_PROMPT)] + state[\"messages\"]\n",
    "    )\n",
    "    # Check for tool calls\n",
    "    if hasattr(response, \"tool_calls\") and response.tool_calls:\n",
    "        for call in response.tool_calls:\n",
    "            tool_name = call.get(\"name\")\n",
    "            args = call.get(\"args\")\n",
    "            if tool_name == \"POST_WRITER\":\n",
    "                # Route to Post Writer Agent\n",
    "                return Command(\n",
    "                    update={\"writer_task\": args[\"task\"], \"messages\": [response], \"status\": \"writing\"}, \n",
    "                    goto=\"writer_agent\"\n",
    "                )\n",
    "        # Route to Action Executor to Upload/Delete a post\n",
    "        return Command(\n",
    "            goto=\"action_executor\",\n",
    "            update={\"messages\": [response]}\n",
    "        )\n",
    "    # End of Conversation\n",
    "    return Command(\n",
    "        update={\"messages\": [response]},\n",
    "        goto=\"__end__\"\n",
    "    )"
   ]
  },
  {
   "cell_type": "code",
   "execution_count": 340,
   "metadata": {},
   "outputs": [],
   "source": [
    "from langgraph.prebuilt import create_react_agent\n",
    "\n",
    "def post_writer(\n",
    "    state: LinkedInGraphState\n",
    ") -> Command[Literal[\"human_feedback_node\"]]:\n",
    "\n",
    "    human_feedback = state.get(\"human_feedback\", None)\n",
    "    task = state['writer_task']\n",
    "\n",
    "    post_writer_agent = create_react_agent(\n",
    "        llama_model,\n",
    "        tools=[tavily_tool],\n",
    "        prompt=POST_WRITER_PROMPT\n",
    "        )\n",
    "    # Check if human feedback is available\n",
    "    if human_feedback:\n",
    "        prompt = (\n",
    "            \"## Post \\n\\n{post}\\n\\n\"\n",
    "            \"## Feedback \\n\\n{human_feedback}\"\n",
    "        )\n",
    "        message = HumanMessage(content=prompt.format(post=state[\"posts\"][-1], human_feedback=human_feedback))\n",
    "    \n",
    "    else:\n",
    "        message = HumanMessage(content=task)  # task to write post\n",
    "\n",
    "    # Invoke the writer agent\n",
    "    response = post_writer_agent.invoke({\"messages\": [message]})\n",
    "    post = response[\"messages\"][-1].content\n",
    "    # Go to Human Node to get feedback\n",
    "    return Command(\n",
    "        update={\"posts\": [post]},\n",
    "        goto=\"human_feedback_node\"\n",
    "    )"
   ]
  },
  {
   "cell_type": "code",
   "execution_count": 341,
   "metadata": {},
   "outputs": [],
   "source": [
    "def human_feedback(\n",
    "    state: LinkedInGraphState,\n",
    ") -> Command[Literal[\"linkedin_agent\", \"writer_agent\"]]:\n",
    "\n",
    "    post = state[\"posts\"][-1]  # Most recent version of the post\n",
    "    action = interrupt(\n",
    "        {\"post\": post, \"is_approved\": \"Do you approve the post? [y/n]: \"}\n",
    "    )\n",
    "\n",
    "    # If user approves the post\n",
    "    if action[\"is_approved\"].lower().strip() == \"y\":\n",
    "        last_message = state[\"messages\"][-1]  # LinkedIn Agent tool call\n",
    "        tool_messages = []\n",
    "\n",
    "        for call in last_message.tool_calls:\n",
    "            tool_name = call.get(\"name\")\n",
    "            tool_id = call.get(\"id\")\n",
    "            args = call.get(\"args\")\n",
    "\n",
    "            if tool_name == \"POST_WRITER\":\n",
    "                tool_msg = ToolMessage(\n",
    "                    name=tool_name,\n",
    "                    tool_call_id=tool_id,\n",
    "                    content=\"Task completed! Here is the post: \\n\\n\" + state[\"posts\"][-1],\n",
    "                )\n",
    "                tool_messages.append(tool_msg)\n",
    "\n",
    "        # Route to Main LinkedIn Agent with tool message\n",
    "        return Command(\n",
    "                update={\"messages\": tool_messages},\n",
    "                goto=\"linkedin_agent\"\n",
    "            )\n",
    "    # If user doesn't approve the post\n",
    "    elif action[\"is_approved\"].lower().strip() == \"n\":\n",
    "        feedback = interrupt(\"Please provide feedback about the post: \")\n",
    "        # Route back to writer agent with feedback\n",
    "        return Command(\n",
    "            update={\"human_feedback\": feedback, \"status\": \"rewriting\"},\n",
    "            goto=\"writer_agent\",\n",
    "        )"
   ]
  },
  {
   "cell_type": "code",
   "execution_count": 342,
   "metadata": {},
   "outputs": [],
   "source": [
    "def action_node(state: LinkedInGraphState) -> Command[Literal[\"linkedin_agent\"]]:\n",
    "\n",
    "    result = []\n",
    "    for tool_call in state[\"messages\"][-1].tool_calls:\n",
    "        tool_name = tool_call[\"name\"]\n",
    "\n",
    "        if tool_name == \"LINKEDIN_CREATE_LINKED_IN_POST\":\n",
    "            action = interrupt({\n",
    "                \"post\": tool_call[\"args\"][\"commentary\"],\n",
    "                \"confirmation\": \"Should I upload the post? [y/n]: \"\n",
    "            })\n",
    "            if action[\"confirmation\"].lower().strip() == \"y\":\n",
    "                tool = tools_by_name[tool_name]\n",
    "                # output = tool.invoke(tool_call[\"args\"])\n",
    "            elif action[\"confirmation\"].lower().strip() == \"n\":\n",
    "                output = \"User declined to upload the post.\"\n",
    "            # result.append(\n",
    "            #     ToolMessage(\n",
    "            #         content=output, name=tool_name, tool_call_id=tool_call[\"id\"]\n",
    "            #     )\n",
    "            # )\n",
    "        elif tool_name == \"LINKEDIN_DELETE_LINKED_IN_POST\":\n",
    "            action = interrupt(\n",
    "                {\"confirmation\": \"Do you confirm the action of deleting the post? [y/n]: \"}\n",
    "            )\n",
    "            if action[\"confirmation\"].lower().strip() == \"y\":\n",
    "                tool = tools_by_name[tool_name]\n",
    "            elif action[\"confirmation\"].lower().strip() == \"n\":\n",
    "                output = \"User declined to delete the post.\"\n",
    "            # output = tool.invoke(tool_call[\"args\"])\n",
    "            # result.append(\n",
    "            #     ToolMessage(\n",
    "            #         content=output, name=tool_name, tool_call_id=tool_call[\"id\"]\n",
    "            #     )\n",
    "            # )\n",
    "        elif tool_name == \"LINKEDIN_GET_MY_INFO\":\n",
    "            tool = tools_by_name[tool_name]\n",
    "            output = tool.invoke({})\n",
    "            result.append(\n",
    "                ToolMessage(\n",
    "                    content=output, name=tool_name, tool_call_id=tool_call[\"id\"]\n",
    "                )\n",
    "            )\n",
    "    # Route to Main LinkedIn Agent\n",
    "    return Command(\n",
    "            update={\"messages\": result},\n",
    "            goto=\"linkedin_agent\"\n",
    "        )"
   ]
  },
  {
   "cell_type": "code",
   "execution_count": 343,
   "metadata": {},
   "outputs": [],
   "source": [
    "# def action_node(state: LinkedInGraphState) -> Command[Literal[\"linkedin_agent\"]]:\n",
    "    \n",
    "#     def execute_tool(tool_call):\n",
    "#         \"\"\"Executes the given tool call and returns a ToolMessage.\"\"\"\n",
    "#         tool = tools_by_name[tool_call[\"name\"]]\n",
    "#         output = tool.invoke(tool_call[\"args\"])\n",
    "#         return ToolMessage(content=output, name=tool_call[\"name\"], tool_call_id=tool_call[\"id\"])\n",
    "    \n",
    "#     result = []\n",
    "#     ## Confirmation messages for tools\n",
    "#     confirmation_messages = {\n",
    "#         \"LINKEDIN_CREATE_LINKED_IN_POST\": {\n",
    "#             \"post\": lambda args: args[\"commentary\"],\n",
    "#             \"confirmation\": \"Should I upload the post? [y/n]: \"\n",
    "#         },\n",
    "#         \"LINKEDIN_DELETE_LINKED_IN_POST\": {\n",
    "#             \"confirmation\": \"Do you confirm the action of deleting the post? [y/n]: \"\n",
    "#         }\n",
    "#     }\n",
    "    \n",
    "#     for tool_call in state[\"messages\"][-1].tool_calls:\n",
    "#         tool_name = tool_call[\"name\"]\n",
    "        \n",
    "#         if tool_name in confirmation_messages:\n",
    "#             confirmation_data = confirmation_messages[tool_name]\n",
    "#             prompt_data = {\"confirmation\": confirmation_data[\"confirmation\"]}\n",
    "#             if \"post\" in confirmation_data:\n",
    "#                 prompt_data[\"post\"] = confirmation_data[\"post\"](tool_call[\"args\"])\n",
    "            \n",
    "#             action = interrupt(prompt_data)\n",
    "#             if action[\"confirmation\"].lower().strip() == \"y\":\n",
    "#                 result.append(execute_tool(tool_call))\n",
    "#         else:\n",
    "#             result.append(execute_tool(tool_call))\n",
    "#     # Go to Main LinkedIn Agent\n",
    "#     return Command(\n",
    "#         update={\"messages\": result, \"status\": \"completed\"}, \n",
    "#         goto=\"linkedin_agent\"\n",
    "#         )\n"
   ]
  },
  {
   "cell_type": "code",
   "execution_count": 373,
   "metadata": {},
   "outputs": [],
   "source": [
    "from langchain_core.runnables import RunnableConfig\n",
    "from langgraph.graph import StateGraph, START, END\n",
    "from langgraph.checkpoint.memory import MemorySaver\n",
    "\n",
    "from typing import TypedDict, Annotated\n",
    "from IPython.display import Image, display\n",
    "\n",
    "# Build graph\n",
    "builder = StateGraph(LinkedInGraphState)\n",
    "\n",
    "builder.add_node(\"linkedin_agent\", linkedin_agent)\n",
    "builder.add_node(\"action_executor\", action_node)\n",
    "builder.add_node(\"writer_agent\", post_writer)\n",
    "builder.add_node(\"human_feedback_node\", human_feedback)\n",
    "\n",
    "\n",
    "builder.add_edge(START, \"linkedin_agent\")\n",
    "\n",
    "## Checkpointer\n",
    "checkpointer = MemorySaver()\n",
    "graph = builder.compile(checkpointer=checkpointer)\n"
   ]
  },
  {
   "cell_type": "code",
   "execution_count": 345,
   "metadata": {},
   "outputs": [
    {
     "data": {
      "image/png": "[encoded data removed]",
      "text/plain": [
       "<IPython.core.display.Image object>"
      ]
     },
     "metadata": {},
     "output_type": "display_data"
    }
   ],
   "source": [
    "## Display graph\n",
    "display(Image(graph.get_graph(xray=1).draw_mermaid_png()))"
   ]
  },
  {
   "cell_type": "code",
   "execution_count": 346,
   "metadata": {},
   "outputs": [
    {
     "name": "stdout",
     "output_type": "stream",
     "text": [
      "================================\u001b[1m Human Message \u001b[0m=================================\n",
      "\n",
      "Hi\n",
      "==================================\u001b[1m Ai Message \u001b[0m==================================\n",
      "\n",
      "How can I assist you with LinkedIn-related tasks today? Do you need help with writing a post, uploading or deleting a post, or perhaps retrieving your user information?\n"
     ]
    }
   ],
   "source": [
    "config = {\"configurable\": {\"thread_id\": \"1\"}}\n",
    "\n",
    "for chunk in graph.stream(\n",
    "    {\"messages\": [HumanMessage(content=\"Hi\")]},\n",
    "    config=config,\n",
    "    stream_mode=\"values\"\n",
    "):\n",
    "    response_message = chunk[\"messages\"][-1]\n",
    "    if hasattr(response_message, 'content'):\n",
    "        response_message.pretty_print()\n"
   ]
  },
  {
   "cell_type": "code",
   "execution_count": 347,
   "metadata": {},
   "outputs": [
    {
     "name": "stdout",
     "output_type": "stream",
     "text": [
      "================================\u001b[1m Human Message \u001b[0m=================================\n",
      "\n",
      "Yes, please write a post about Qwen 2.5 Max model\n",
      "==================================\u001b[1m Ai Message \u001b[0m==================================\n",
      "Tool Calls:\n",
      "  POST_WRITER (call_mbpz)\n",
      " Call ID: call_mbpz\n",
      "  Args:\n",
      "    task: Write a LinkedIn post about Qwen 2.5 Max model\n",
      "==================================\u001b[1m Ai Message \u001b[0m==================================\n",
      "Tool Calls:\n",
      "  POST_WRITER (call_mbpz)\n",
      " Call ID: call_mbpz\n",
      "  Args:\n",
      "    task: Write a LinkedIn post about Qwen 2.5 Max model\n"
     ]
    }
   ],
   "source": [
    "for chunk in graph.stream(\n",
    "    {\"messages\": [HumanMessage(content=\"Yes, please write a post about Qwen 2.5 Max model\")]},\n",
    "    config=config,\n",
    "    stream_mode=\"values\"\n",
    "):\n",
    "    response_message = chunk[\"messages\"][-1]\n",
    "    if hasattr(response_message, 'content'):\n",
    "        response_message.pretty_print()\n"
   ]
  },
  {
   "cell_type": "code",
   "execution_count": 348,
   "metadata": {},
   "outputs": [
    {
     "data": {
      "text/plain": [
       "{'messages': [HumanMessage(content='Hi', additional_kwargs={}, response_metadata={}, id='e4fb1390-aba1-4910-9e6d-f23d99daf811'),\n",
       "  AIMessage(content='How can I assist you with LinkedIn-related tasks today? Do you need help with writing a post, uploading or deleting a post, or perhaps retrieving your user information?', additional_kwargs={}, response_metadata={'token_usage': {'completion_tokens': 34, 'prompt_tokens': 1179, 'total_tokens': 1213, 'completion_time': 0.123636364, 'prompt_time': 0.135731211, 'queue_time': 0.25286480600000005, 'total_time': 0.259367575}, 'model_name': 'llama-3.3-70b-versatile', 'system_fingerprint': 'fp_4196e754db', 'finish_reason': 'stop', 'logprobs': None}, id='run-31acff0d-38c0-4bd9-bb3c-2946ba922fd4-0', usage_metadata={'input_tokens': 1179, 'output_tokens': 34, 'total_tokens': 1213}),\n",
       "  HumanMessage(content='Yes, please write a post about Qwen 2.5 Max model', additional_kwargs={}, response_metadata={}, id='c1479a69-5086-4490-953f-77a9bb01cb97'),\n",
       "  AIMessage(content='', additional_kwargs={'tool_calls': [{'id': 'call_mbpz', 'function': {'arguments': '{\"task\": \"Write a LinkedIn post about Qwen 2.5 Max model\"}', 'name': 'POST_WRITER'}, 'type': 'function'}]}, response_metadata={'token_usage': {'completion_tokens': 28, 'prompt_tokens': 1237, 'total_tokens': 1265, 'completion_time': 0.101818182, 'prompt_time': 0.149846817, 'queue_time': 0.056735746000000004, 'total_time': 0.251664999}, 'model_name': 'llama-3.3-70b-versatile', 'system_fingerprint': 'fp_4196e754db', 'finish_reason': 'tool_calls', 'logprobs': None}, id='run-0a94201f-1d92-49e6-826f-ac2491a5eb2d-0', tool_calls=[{'name': 'POST_WRITER', 'args': {'task': 'Write a LinkedIn post about Qwen 2.5 Max model'}, 'id': 'call_mbpz', 'type': 'tool_call'}], usage_metadata={'input_tokens': 1237, 'output_tokens': 28, 'total_tokens': 1265})],\n",
       " 'posts': [\"The AI landscape is evolving rapidly, and Qwen 2.5 Max is the latest milestone in this journey. As a large language model leveraging the Mixture-of-Experts (MoE) architecture, it signifies a leap forward in what AI can achieve in terms of language understanding, generation, and task performance. \\n\\nWith its ability to outperform other models in various benchmarks, Qwen 2.5 Max is not just another model - it's a testament to the rapid progress in AI, especially in China's tech scene. Whether you're exploring its capabilities through Qwen Chat or diving into its technical aspects, Qwen 2.5 Max is making waves.\\n\\nWhat are your thoughts on Qwen 2.5 Max and its potential impact on the future of AI? Share your insights! #Qwen2.5Max #AI #LanguageModel #Innovation #TechAdvancements\"],\n",
       " 'writer_task': 'Write a LinkedIn post about Qwen 2.5 Max model',\n",
       " 'status': 'writing'}"
      ]
     },
     "execution_count": 348,
     "metadata": {},
     "output_type": "execute_result"
    }
   ],
   "source": [
    "chunk"
   ]
  },
  {
   "cell_type": "code",
   "execution_count": 349,
   "metadata": {},
   "outputs": [
    {
     "name": "stdout",
     "output_type": "stream",
     "text": [
      "{'human_feedback_node': {'messages': [ToolMessage(content=\"Task completed! Here is the post: \\n\\nThe AI landscape is evolving rapidly, and Qwen 2.5 Max is the latest milestone in this journey. As a large language model leveraging the Mixture-of-Experts (MoE) architecture, it signifies a leap forward in what AI can achieve in terms of language understanding, generation, and task performance. \\n\\nWith its ability to outperform other models in various benchmarks, Qwen 2.5 Max is not just another model - it's a testament to the rapid progress in AI, especially in China's tech scene. Whether you're exploring its capabilities through Qwen Chat or diving into its technical aspects, Qwen 2.5 Max is making waves.\\n\\nWhat are your thoughts on Qwen 2.5 Max and its potential impact on the future of AI? Share your insights! #Qwen2.5Max #AI #LanguageModel #Innovation #TechAdvancements\", name='POST_WRITER', id='b44fafcf-ad67-4d1d-9ba1-96c326d39b45', tool_call_id='call_mbpz')]}}\n",
      "{'linkedin_agent': {'messages': [AIMessage(content='Would you like to upload this post to LinkedIn?', additional_kwargs={}, response_metadata={'token_usage': {'completion_tokens': 11, 'prompt_tokens': 1464, 'total_tokens': 1475, 'completion_time': 0.04, 'prompt_time': 0.176043969, 'queue_time': 0.243675895, 'total_time': 0.216043969}, 'model_name': 'llama-3.3-70b-versatile', 'system_fingerprint': 'fp_4196e754db', 'finish_reason': 'stop', 'logprobs': None}, id='run-a8337468-544c-48ef-846a-b53b0a16dfd8-0', usage_metadata={'input_tokens': 1464, 'output_tokens': 11, 'total_tokens': 1475})]}}\n"
     ]
    }
   ],
   "source": [
    "for event in graph.stream(\n",
    "    Command(resume={\"is_approved\": \"y\"}), config\n",
    "):\n",
    "    print(event)"
   ]
  },
  {
   "cell_type": "code",
   "execution_count": 351,
   "metadata": {},
   "outputs": [
    {
     "name": "stdout",
     "output_type": "stream",
     "text": [
      "================================\u001b[1m Human Message \u001b[0m=================================\n",
      "\n",
      "No thanks\n",
      "==================================\u001b[1m Ai Message \u001b[0m==================================\n",
      "\n",
      "The post is ready if you change your mind. Is there anything else I can help you with, such as deleting a post, retrieving your user information, or writing another post?\n"
     ]
    }
   ],
   "source": [
    "for chunk in graph.stream(\n",
    "    {\"messages\": [HumanMessage(content=\"No thanks\")]},\n",
    "    config=config,\n",
    "    stream_mode=\"values\"\n",
    "):\n",
    "    response_message = chunk[\"messages\"][-1]\n",
    "    if hasattr(response_message, 'content'):\n",
    "        response_message.pretty_print()"
   ]
  },
  {
   "cell_type": "code",
   "execution_count": 352,
   "metadata": {},
   "outputs": [
    {
     "data": {
      "text/plain": [
       "{'messages': [HumanMessage(content='Hi', additional_kwargs={}, response_metadata={}, id='e4fb1390-aba1-4910-9e6d-f23d99daf811'),\n",
       "  AIMessage(content='How can I assist you with LinkedIn-related tasks today? Do you need help with writing a post, uploading or deleting a post, or perhaps retrieving your user information?', additional_kwargs={}, response_metadata={'token_usage': {'completion_tokens': 34, 'prompt_tokens': 1179, 'total_tokens': 1213, 'completion_time': 0.123636364, 'prompt_time': 0.135731211, 'queue_time': 0.25286480600000005, 'total_time': 0.259367575}, 'model_name': 'llama-3.3-70b-versatile', 'system_fingerprint': 'fp_4196e754db', 'finish_reason': 'stop', 'logprobs': None}, id='run-31acff0d-38c0-4bd9-bb3c-2946ba922fd4-0', usage_metadata={'input_tokens': 1179, 'output_tokens': 34, 'total_tokens': 1213}),\n",
       "  HumanMessage(content='Yes, please write a post about Qwen 2.5 Max model', additional_kwargs={}, response_metadata={}, id='c1479a69-5086-4490-953f-77a9bb01cb97'),\n",
       "  AIMessage(content='', additional_kwargs={'tool_calls': [{'id': 'call_mbpz', 'function': {'arguments': '{\"task\": \"Write a LinkedIn post about Qwen 2.5 Max model\"}', 'name': 'POST_WRITER'}, 'type': 'function'}]}, response_metadata={'token_usage': {'completion_tokens': 28, 'prompt_tokens': 1237, 'total_tokens': 1265, 'completion_time': 0.101818182, 'prompt_time': 0.149846817, 'queue_time': 0.056735746000000004, 'total_time': 0.251664999}, 'model_name': 'llama-3.3-70b-versatile', 'system_fingerprint': 'fp_4196e754db', 'finish_reason': 'tool_calls', 'logprobs': None}, id='run-0a94201f-1d92-49e6-826f-ac2491a5eb2d-0', tool_calls=[{'name': 'POST_WRITER', 'args': {'task': 'Write a LinkedIn post about Qwen 2.5 Max model'}, 'id': 'call_mbpz', 'type': 'tool_call'}], usage_metadata={'input_tokens': 1237, 'output_tokens': 28, 'total_tokens': 1265}),\n",
       "  ToolMessage(content=\"Task completed! Here is the post: \\n\\nThe AI landscape is evolving rapidly, and Qwen 2.5 Max is the latest milestone in this journey. As a large language model leveraging the Mixture-of-Experts (MoE) architecture, it signifies a leap forward in what AI can achieve in terms of language understanding, generation, and task performance. \\n\\nWith its ability to outperform other models in various benchmarks, Qwen 2.5 Max is not just another model - it's a testament to the rapid progress in AI, especially in China's tech scene. Whether you're exploring its capabilities through Qwen Chat or diving into its technical aspects, Qwen 2.5 Max is making waves.\\n\\nWhat are your thoughts on Qwen 2.5 Max and its potential impact on the future of AI? Share your insights! #Qwen2.5Max #AI #LanguageModel #Innovation #TechAdvancements\", name='POST_WRITER', id='b44fafcf-ad67-4d1d-9ba1-96c326d39b45', tool_call_id='call_mbpz'),\n",
       "  AIMessage(content='Would you like to upload this post to LinkedIn?', additional_kwargs={}, response_metadata={'token_usage': {'completion_tokens': 11, 'prompt_tokens': 1464, 'total_tokens': 1475, 'completion_time': 0.04, 'prompt_time': 0.176043969, 'queue_time': 0.243675895, 'total_time': 0.216043969}, 'model_name': 'llama-3.3-70b-versatile', 'system_fingerprint': 'fp_4196e754db', 'finish_reason': 'stop', 'logprobs': None}, id='run-a8337468-544c-48ef-846a-b53b0a16dfd8-0', usage_metadata={'input_tokens': 1464, 'output_tokens': 11, 'total_tokens': 1475}),\n",
       "  HumanMessage(content='No thanks', additional_kwargs={}, response_metadata={}, id='f812028c-87a6-4e32-83fc-016a0b9ec964'),\n",
       "  AIMessage(content='The post is ready if you change your mind. Is there anything else I can help you with, such as deleting a post, retrieving your user information, or writing another post?', additional_kwargs={}, response_metadata={'token_usage': {'completion_tokens': 37, 'prompt_tokens': 1486, 'total_tokens': 1523, 'completion_time': 0.134545455, 'prompt_time': 0.178125567, 'queue_time': 0.583857371, 'total_time': 0.312671022}, 'model_name': 'llama-3.3-70b-versatile', 'system_fingerprint': 'fp_3884478861', 'finish_reason': 'stop', 'logprobs': None}, id='run-99e7304a-97b4-42d1-b37e-1d683efed123-0', usage_metadata={'input_tokens': 1486, 'output_tokens': 37, 'total_tokens': 1523})],\n",
       " 'posts': [\"The AI landscape is evolving rapidly, and Qwen 2.5 Max is the latest milestone in this journey. As a large language model leveraging the Mixture-of-Experts (MoE) architecture, it signifies a leap forward in what AI can achieve in terms of language understanding, generation, and task performance. \\n\\nWith its ability to outperform other models in various benchmarks, Qwen 2.5 Max is not just another model - it's a testament to the rapid progress in AI, especially in China's tech scene. Whether you're exploring its capabilities through Qwen Chat or diving into its technical aspects, Qwen 2.5 Max is making waves.\\n\\nWhat are your thoughts on Qwen 2.5 Max and its potential impact on the future of AI? Share your insights! #Qwen2.5Max #AI #LanguageModel #Innovation #TechAdvancements\"],\n",
       " 'writer_task': 'Write a LinkedIn post about Qwen 2.5 Max model',\n",
       " 'status': 'writing'}"
      ]
     },
     "execution_count": 352,
     "metadata": {},
     "output_type": "execute_result"
    }
   ],
   "source": [
    "graph.get_state(config).values"
   ]
  }
 ],
 "metadata": {
  "kernelspec": {
   "display_name": ".venv",
   "language": "python",
   "name": "python3"
  },
  "language_info": {
   "codemirror_mode": {
    "name": "ipython",
    "version": 3
   },
   "file_extension": ".py",
   "mimetype": "text/x-python",
   "name": "python",
   "nbconvert_exporter": "python",
   "pygments_lexer": "ipython3",
   "version": "3.12.8"
  }
 },
 "nbformat": 4,
 "nbformat_minor": 2
}
