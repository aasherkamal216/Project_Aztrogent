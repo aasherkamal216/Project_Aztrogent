{
 "cells": [
  {
   "cell_type": "code",
   "execution_count": 1,
   "metadata": {},
   "outputs": [],
   "source": [
    "import os, dotenv\n",
    "\n",
    "dotenv.load_dotenv()\n",
    "\n",
    "os.environ[\"GOOGLE_API_KEY\"] = os.getenv(\"GOOGLE_API_KEY\")\n",
    "os.environ[\"GROQ_API_KEY\"] = os.getenv(\"GROQ_API_KEY\")\n",
    "os.environ[\"TAVILY_API_KEY\"] = os.getenv(\"TAVILY_API_KEY\")\n",
    "os.environ[\"COMPOSIO_API_KEY\"] = os.getenv(\"COMPOSIO_API_KEY\")"
   ]
  },
  {
   "cell_type": "code",
   "execution_count": 3,
   "metadata": {},
   "outputs": [],
   "source": [
    "## Models\n",
    "from langchain_google_genai import  ChatGoogleGenerativeAI\n",
    "from langchain_groq import  ChatGroq\n",
    "\n",
    "gemini_model = ChatGoogleGenerativeAI(model=\"gemini-2.0-flash-exp\")\n",
    "llama_model = ChatGroq(model=\"llama-3.3-70b-versatile\")\n",
    "deepseek_model = ChatGroq(model=\"deepseek-r1-distill-llama-70b\")"
   ]
  },
  {
   "cell_type": "code",
   "execution_count": 5,
   "metadata": {},
   "outputs": [],
   "source": [
    "from langchain_community.tools.tavily_search import TavilySearchResults\n",
    "from langgraph.types import Command, interrupt\n",
    "\n",
    "tavily_tool = TavilySearchResults(max_results=3)\n"
   ]
  },
  {
   "cell_type": "markdown",
   "metadata": {},
   "source": [
    "## LinkedIn Agent Graph\n",
    "<img src=\"../static/Linkedin_Agents_Graph.png\" alt=\"Graph\" width=\"600\">"
   ]
  },
  {
   "cell_type": "code",
   "execution_count": 7,
   "metadata": {},
   "outputs": [],
   "source": [
    "from operator import add\n",
    "from pydantic import BaseModel, Field\n",
    "from typing import Annotated, Literal\n",
    "from langgraph.graph import MessagesState\n",
    "## State\n",
    "class LinkedInGraphState(MessagesState):\n",
    "    posts: Annotated[list[str], add]\n",
    "    human_feedback: str\n",
    "    writer_task: str\n",
    "    status: Literal[\"writing\", \"rewriting\", \"completed\"]"
   ]
  },
  {
   "cell_type": "code",
   "execution_count": 8,
   "metadata": {},
   "outputs": [],
   "source": [
    "from langchain_core.tools import tool\n",
    "\n",
    "@tool\n",
    "class POST_WRITER(BaseModel):\n",
    "    \"\"\"The Post Writer Agent who writes a LinkedIn post.\"\"\"\n",
    "    task: str = Field(description=\"The complete details of the task given to this Post Writer Agent.\")"
   ]
  },
  {
   "cell_type": "code",
   "execution_count": 10,
   "metadata": {},
   "outputs": [],
   "source": [
    "from composio_langgraph import Action, ComposioToolSet\n",
    "\n",
    "composio_toolset = ComposioToolSet(api_key=os.getenv(\"COMPOSIO_API_KEY\"))\n",
    "\n",
    "linkedin_tools = composio_toolset.get_tools(\n",
    "    actions=[\n",
    "        Action.LINKEDIN_GET_MY_INFO,\n",
    "        Action.LINKEDIN_CREATE_LINKED_IN_POST,\n",
    "        Action.LINKEDIN_DELETE_LINKED_IN_POST\n",
    "    ]\n",
    ")\n",
    "\n",
    "tools_by_name = {tool.name: tool for tool in linkedin_tools}"
   ]
  },
  {
   "cell_type": "code",
   "execution_count": 11,
   "metadata": {},
   "outputs": [],
   "source": [
    "main_linkedin_agent = llama_model.bind_tools([POST_WRITER] + linkedin_tools)"
   ]
  },
  {
   "cell_type": "code",
   "execution_count": 12,
   "metadata": {},
   "outputs": [
    {
     "data": {
      "text/plain": [
       "[StructuredTool(name='POST_WRITER', description='The Post Writer Agent who writes a LinkedIn post.', args_schema=<class 'langchain_core.utils.pydantic.POST_WRITER'>, func=<class '__main__.POST_WRITER'>),\n",
       " StructuredTool(name='LINKEDIN_CREATE_LINKED_IN_POST', description='Create Linked In Post', args_schema=<class 'composio.utils.shared.CreateLinkedInPostRequest'>, func=<function ComposioToolSet._wrap_action.<locals>.function at 0x0000014EB5791760>),\n",
       " StructuredTool(name='LINKEDIN_GET_MY_INFO', description='Action To Get Info Of Currently Authenticated Profile From Linked In. This Action Can Be Used To Get The Author Identifier (Author Id) To Create Posts.', args_schema=<class 'composio.utils.shared.GetMyInfoRequest'>, func=<function ComposioToolSet._wrap_action.<locals>.function at 0x0000014EB69C8F40>),\n",
       " StructuredTool(name='LINKEDIN_DELETE_LINKED_IN_POST', description='Action To Delete A Post On Linked In.', args_schema=<class 'composio.utils.shared.DeleteLinkedInPostRequest'>, func=<function ComposioToolSet._wrap_action.<locals>.function at 0x0000014EB69C9B20>)]"
      ]
     },
     "execution_count": 12,
     "metadata": {},
     "output_type": "execute_result"
    }
   ],
   "source": [
    "[POST_WRITER] + linkedin_tools"
   ]
  },
  {
   "cell_type": "markdown",
   "metadata": {},
   "source": [
    "### Prompts"
   ]
  },
  {
   "cell_type": "markdown",
   "metadata": {},
   "source": [
    "1. LinkedIn Agent Prompt"
   ]
  },
  {
   "cell_type": "code",
   "execution_count": 13,
   "metadata": {},
   "outputs": [],
   "source": [
    "LINKEDIN_AGENT_PROMPT = \"\"\"\n",
    "# Role\n",
    "You are a LinkedIn Assistant, specializing in performing LinkedIn-related tasks such as writing, uploading/deleting posts and retrieving user information. Collaborate with your colleague agent, `POST_WRITER`, for posts creation, ensuring tasks are completed efficiently and effectively.\n",
    "\n",
    "# Task\n",
    "Execute LinkedIn-related tasks as requested by the user, utilizing your specific tools for each action. If a task involves writing a LinkedIn post, delegate this to POST_WRITER with a clear description of the user's needs. \n",
    "Once POST_WRITER completes the post, proceed to upload it to LinkedIn ONLY if user has mentioned to do so. \n",
    "For any task that is unclear, engage with the user to gather more details before proceeding.\n",
    "\n",
    "## Instructions\n",
    "- Gather complete information about the task from the user. If you are not sure about the task, ask the user for more information.\n",
    "- Handle tasks related to uploading/deleting LinkedIn posts and retrieving user information.\n",
    "- Delegate post writing tasks to `POST_WRITER` agent, providing him with a detailed brief from the user.\n",
    "- Ensure clarity on the user's request by asking for more details if the task is not clear.\n",
    "- Use the tools provided efficiently to fulfill the user's requests.\n",
    "\n",
    "# Tools & Agent\n",
    "You have access to the following tools and an Agent to assist in completing tasks:\n",
    "1. **POST_WRITER**: A colleague agent who specializes in writing LinkedIn posts according to the user's style and tone, with access to real-time web data.\n",
    "2. **LINKEDIN_GET_MY_INFO**: Retrieves user information from LinkedIn.\n",
    "3. **LINKEDIN_DELETE_LINKED_IN_POST**: Deletes a specified LinkedIn post.\n",
    "4. **LINKEDIN_CREATE_LINKED_IN_POST**: Uploads a new post to LinkedIn.\n",
    "\n",
    "# Notes\n",
    "- Prioritize clear communication with the user to ensure tasks are understood and completed according to their needs.\n",
    "- Do not attempt to write posts yourself; always delegate to `POST_WRITER` for content writing tasks.\n",
    "- If any function call/tool call fails, retry it.\n",
    "- If the user has not mentioned to upload the post, do NOT upload it to LinkedIn. Instead, ask them if they want to upload.\n",
    "\n",
    "\"\"\""
   ]
  },
  {
   "cell_type": "markdown",
   "metadata": {},
   "source": [
    "2. Post Writer Agent Prompt"
   ]
  },
  {
   "cell_type": "code",
   "execution_count": 14,
   "metadata": {},
   "outputs": [],
   "source": [
    "POST_WRITER_PROMPT = \"\"\"\n",
    "You are a LinkedIn post writer. Your job is to write/enhance a post to sound like me.\n",
    "\n",
    "## Instructions\n",
    "1. Post Style & Tone\n",
    "    - When you are writing the post, make sure it matches the tone, clarity, and engagement level the given example posts.\n",
    "    - You are given some example posts (within `<post>` tags) written by me. Consider writing the post in the style and tone of given example posts.\n",
    "    - Generally, the post should be of 50-200 words (unless specified by the user).\n",
    "2. Post Content\n",
    "    - Do NOT make up the information, the post must be factually correct.\n",
    "    - If you don't have enough information to write the post, use tool to gather information from internet.\n",
    "    - Add a short Post Script (P.S.) in my tone in news related posts.\n",
    "    - Only add updated & correct information in the post.\n",
    "3. Post Enhancement\n",
    "    - If you are provided with a pre-written **post** and **feedback**, enhance the post based on the feedback.\n",
    "    - Return the enhanced post.\n",
    "4. Important Note\n",
    "Do NOT make up the information, the post must be factually correct. Use tools to gather information from internet.\n",
    "---\n",
    "Here are some example posts written by me:\n",
    "\n",
    "<post>\n",
    "Just in: “Anything on the other side of a screen is at risk of displacement”\n",
    "\n",
    "Emad Mostaque / Stability AI CEO\n",
    "\n",
    "I totally agree with this.\n",
    "\n",
    "What does this mean for a CS student? \n",
    "\n",
    "It means opportunity. Feel things you might agree: \n",
    "\n",
    "- those who know ai will replace those who dont\n",
    "- be a generalist: know fe, be, aws, ai, ml\n",
    "- develop strong people skills. Try to be a loved team player\n",
    "\n",
    "\n",
    "Knowing ai doesn't mean know how to use tools. It means you can build them. \n",
    "\n",
    "You know in movies when a car breaks down and someone “cool” can fix it. \n",
    "\n",
    "If you were to crack open an ai today how much can your current toolset take on? \n",
    "\n",
    "Know agentic frameworks, infra and ML papers like “code to act” \n",
    "\n",
    "alongside abundant full-stack skills. \n",
    "\n",
    "Time to become great is now. \n",
    "\n",
    "So GTFOL!!!! Common guys who agrees?\n",
    "</post>\n",
    "\n",
    "---\n",
    "<post>\n",
    "East vs west war is crazy. \n",
    "\n",
    "Deepseek was a fine tuned llama model. \n",
    "\n",
    "Only $6mn to train. \n",
    "\n",
    "For comparison Elons x.ai raised $6bn. \n",
    "\n",
    "And sam now raised $500bn for a weird US collab.\n",
    "\n",
    "Will it be for surveillance as Oracle ceo said. \n",
    "\n",
    "Who knows? Thoughts?\n",
    "</post>\n",
    "\n",
    "---\n",
    "<post>\n",
    "AI engineering in 2025 is less about PyTorch and TensorFlow and more about CrewAI and Langchain. \n",
    "\n",
    "It's less about pre-training models from scratch and more about orchestrating agents across different tasks. \n",
    "\n",
    "It's less about working with static datasets and more about real-time web crawling and web scraping. \n",
    "\n",
    "It's less about black-box AI and more about transparent logging and traceability. \n",
    "\n",
    "It's less about large, generic foundation models and more about smaller, task-specific fine-tuned models. \n",
    "\n",
    "It's less about spending $$$ on OpenAI API calls and more about being grateful for Chinese models.\n",
    "\n",
    "All in all seriousness though, 2025 is less about research and more about the application side. \n",
    "</post>\n",
    "---\n",
    "## Important Note\n",
    "Just return the post, do NOT return any other text.\n",
    "\"\"\""
   ]
  },
  {
   "cell_type": "code",
   "execution_count": 15,
   "metadata": {},
   "outputs": [],
   "source": [
    "from langchain_core.messages import SystemMessage, HumanMessage, AIMessage, ToolMessage\n",
    "\n",
    "def linkedin_agent(\n",
    "    state: LinkedInGraphState,\n",
    ") -> Command[Literal[\"action_executor\", \"writer_agent\", \"__end__\"]]:\n",
    "    # Calling the main LinkedIn Agent\n",
    "    response = main_linkedin_agent.invoke(\n",
    "        [SystemMessage(content=LINKEDIN_AGENT_PROMPT)] + state[\"messages\"]\n",
    "    )\n",
    "    # Check for tool calls\n",
    "    if hasattr(response, \"tool_calls\") and response.tool_calls:\n",
    "        for call in response.tool_calls:\n",
    "            tool_name = call.get(\"name\")\n",
    "            args = call.get(\"args\")\n",
    "            if tool_name == \"POST_WRITER\":\n",
    "                # Route to Post Writer Agent\n",
    "                return Command(\n",
    "                    update={\"writer_task\": args[\"task\"], \"messages\": [response], \"status\": \"writing\"}, \n",
    "                    goto=\"writer_agent\"\n",
    "                )\n",
    "        # Route to Action Executor to Upload/Delete a post\n",
    "        return Command(\n",
    "            goto=\"action_executor\",\n",
    "            update={\"messages\": [response]}\n",
    "        )\n",
    "    # End of Conversation\n",
    "    return Command(\n",
    "        update={\"messages\": [response]},\n",
    "        goto=\"__end__\"\n",
    "    )"
   ]
  },
  {
   "cell_type": "code",
   "execution_count": 16,
   "metadata": {},
   "outputs": [],
   "source": [
    "from langgraph.prebuilt import create_react_agent\n",
    "\n",
    "def post_writer(\n",
    "    state: LinkedInGraphState\n",
    ") -> Command[Literal[\"human_feedback_node\"]]:\n",
    "\n",
    "    human_feedback = state.get(\"human_feedback\", None)\n",
    "    task = state['writer_task']\n",
    "\n",
    "    post_writer_agent = create_react_agent(\n",
    "        llama_model,\n",
    "        tools=[tavily_tool],\n",
    "        prompt=POST_WRITER_PROMPT\n",
    "        )\n",
    "    # Check if human feedback is available\n",
    "    if human_feedback:\n",
    "        prompt = (\n",
    "            \"## Post \\n\\n{post}\\n\\n\"\n",
    "            \"## Feedback \\n\\n{human_feedback}\"\n",
    "        )\n",
    "        message = HumanMessage(content=prompt.format(post=state[\"posts\"][-1], human_feedback=human_feedback))\n",
    "    \n",
    "    else:\n",
    "        message = HumanMessage(content=task)  # task to write post\n",
    "\n",
    "    # Invoke the writer agent\n",
    "    response = post_writer_agent.invoke({\"messages\": [message]})\n",
    "    post = response[\"messages\"][-1].content\n",
    "    # Go to Human Node to get feedback\n",
    "    return Command(\n",
    "        update={\"posts\": [post]},\n",
    "        goto=\"human_feedback_node\"\n",
    "    )"
   ]
  },
  {
   "cell_type": "code",
   "execution_count": 17,
   "metadata": {},
   "outputs": [],
   "source": [
    "def human_feedback(\n",
    "    state: LinkedInGraphState,\n",
    ") -> Command[Literal[\"linkedin_agent\", \"writer_agent\"]]:\n",
    "\n",
    "    post = state[\"posts\"][-1]  # Most recent version of the post\n",
    "    action = interrupt(\n",
    "        {\"post\": post, \"is_approved\": \"Do you approve the post? [y/n]: \"}\n",
    "    )\n",
    "\n",
    "    # If user approves the post\n",
    "    if action[\"is_approved\"].lower().strip() == \"y\":\n",
    "        last_message = state[\"messages\"][-1]  # LinkedIn Agent tool call\n",
    "        tool_messages = []\n",
    "\n",
    "        for call in last_message.tool_calls:\n",
    "            tool_name = call.get(\"name\")\n",
    "            tool_id = call.get(\"id\")\n",
    "            args = call.get(\"args\")\n",
    "\n",
    "            if tool_name == \"POST_WRITER\":\n",
    "                tool_msg = ToolMessage(\n",
    "                    name=tool_name,\n",
    "                    tool_call_id=tool_id,\n",
    "                    content=\"Task completed! Here is the post: \\n\\n\" + state[\"posts\"][-1],\n",
    "                )\n",
    "                tool_messages.append(tool_msg)\n",
    "\n",
    "        # Route to Main LinkedIn Agent with tool message\n",
    "        return Command(\n",
    "                update={\"messages\": tool_messages},\n",
    "                goto=\"linkedin_agent\"\n",
    "            )\n",
    "    # If user doesn't approve the post\n",
    "    elif action[\"is_approved\"].lower().strip() == \"n\":\n",
    "        feedback = interrupt(\"Please provide feedback about the post: \")\n",
    "        # Route back to writer agent with feedback\n",
    "        return Command(\n",
    "            update={\"human_feedback\": feedback, \"status\": \"rewriting\"},\n",
    "            goto=\"writer_agent\",\n",
    "        )"
   ]
  },
  {
   "cell_type": "code",
   "execution_count": 19,
   "metadata": {},
   "outputs": [],
   "source": [
    "def action_node(state: LinkedInGraphState) -> Command[Literal[\"linkedin_agent\"]]:\n",
    "    \n",
    "    def execute_tool(tool_call):\n",
    "        \"\"\"Executes the given tool call and returns a ToolMessage.\"\"\"\n",
    "        tool = tools_by_name[tool_call[\"name\"]]\n",
    "        output = tool.invoke(tool_call[\"args\"])\n",
    "        return ToolMessage(content=output, name=tool_call[\"name\"], tool_call_id=tool_call[\"id\"])\n",
    "    \n",
    "    result = []\n",
    "    ## Confirmation messages for tools\n",
    "    confirmation_messages = {\n",
    "        \"LINKEDIN_CREATE_LINKED_IN_POST\": {\n",
    "            \"post\": lambda args: args[\"commentary\"],\n",
    "            \"confirmation\": \"Should I upload the post? [y/n]: \"\n",
    "        },\n",
    "        \"LINKEDIN_DELETE_LINKED_IN_POST\": {\n",
    "            \"confirmation\": \"Do you confirm the action of deleting the post? [y/n]: \"\n",
    "        }\n",
    "    }\n",
    "    \n",
    "    for tool_call in state[\"messages\"][-1].tool_calls:\n",
    "        tool_name = tool_call[\"name\"]\n",
    "        \n",
    "        if tool_name in confirmation_messages:\n",
    "            confirmation_data = confirmation_messages[tool_name]\n",
    "            prompt_data = {\"confirmation\": confirmation_data[\"confirmation\"]}\n",
    "            if \"post\" in confirmation_data:\n",
    "                prompt_data[\"post\"] = confirmation_data[\"post\"](tool_call[\"args\"])\n",
    "            \n",
    "            action = interrupt(prompt_data)\n",
    "            if action[\"confirmation\"].lower().strip() == \"y\":\n",
    "                result.append(execute_tool(tool_call))\n",
    "        else:\n",
    "            result.append(execute_tool(tool_call))\n",
    "    # Go to Main LinkedIn Agent\n",
    "    return Command(\n",
    "        update={\"messages\": result, \"status\": \"completed\"}, \n",
    "        goto=\"linkedin_agent\"\n",
    "        )\n"
   ]
  },
  {
   "cell_type": "code",
   "execution_count": 20,
   "metadata": {},
   "outputs": [],
   "source": [
    "from langchain_core.runnables import RunnableConfig\n",
    "from langgraph.graph import StateGraph, START, END\n",
    "from langgraph.checkpoint.memory import MemorySaver\n",
    "\n",
    "from IPython.display import Image, display\n",
    "\n",
    "# Build graph\n",
    "builder = StateGraph(LinkedInGraphState)\n",
    "\n",
    "builder.add_node(\"linkedin_agent\", linkedin_agent)\n",
    "builder.add_node(\"action_executor\", action_node)\n",
    "builder.add_node(\"writer_agent\", post_writer)\n",
    "builder.add_node(\"human_feedback_node\", human_feedback)\n",
    "\n",
    "\n",
    "builder.add_edge(START, \"linkedin_agent\")\n",
    "\n",
    "## Checkpointer\n",
    "checkpointer = MemorySaver()\n",
    "linedin_graph = builder.compile(checkpointer=checkpointer)\n"
   ]
  },
  {
   "cell_type": "code",
   "execution_count": 21,
   "metadata": {},
   "outputs": [
    {
     "data": {
      "image/png": "[encoded data removed]",
      "text/plain": [
       "<IPython.core.display.Image object>"
      ]
     },
     "metadata": {},
     "output_type": "display_data"
    }
   ],
   "source": [
    "## Display graph\n",
    "display(Image(linedin_graph.get_graph(xray=1).draw_mermaid_png()))"
   ]
  }
 ],
 "metadata": {
  "kernelspec": {
   "display_name": ".venv",
   "language": "python",
   "name": "python3"
  },
  "language_info": {
   "codemirror_mode": {
    "name": "ipython",
    "version": 3
   },
   "file_extension": ".py",
   "mimetype": "text/x-python",
   "name": "python",
   "nbconvert_exporter": "python",
   "pygments_lexer": "ipython3",
   "version": "3.12.8"
  }
 },
 "nbformat": 4,
 "nbformat_minor": 2
}
