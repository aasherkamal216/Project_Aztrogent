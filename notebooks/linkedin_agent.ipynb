{
 "cells": [
  {
   "cell_type": "code",
   "execution_count": 3,
   "metadata": {},
   "outputs": [],
   "source": [
    "import os, dotenv\n",
    "\n",
    "dotenv.load_dotenv()\n",
    "\n",
    "os.environ[\"GOOGLE_API_KEY\"] = os.getenv(\"GOOGLE_API_KEY\")\n",
    "os.environ[\"GROQ_API_KEY\"] = os.getenv(\"GROQ_API_KEY\")\n",
    "os.environ[\"TAVILY_API_KEY\"] = os.getenv(\"TAVILY_API_KEY\")\n",
    "os.environ[\"COMPOSIO_API_KEY\"] = os.getenv(\"COMPOSIO_API_KEY\")"
   ]
  },
  {
   "cell_type": "code",
   "execution_count": 6,
   "metadata": {},
   "outputs": [],
   "source": [
    "## Models\n",
    "from langchain_google_genai import  ChatGoogleGenerativeAI\n",
    "from langchain_groq import  ChatGroq\n",
    "\n",
    "gemini_model = ChatGoogleGenerativeAI(model=\"gemini-2.0-flash-exp\")\n",
    "llama_model = ChatGroq(model=\"llama-3.3-70b-versatile\")\n",
    "deepseek_model = ChatGroq(model=\"deepseek-r1-distill-llama-70b\")"
   ]
  },
  {
   "cell_type": "code",
   "execution_count": 16,
   "metadata": {},
   "outputs": [],
   "source": [
    "from typing_extensions import TypedDict\n",
    "from typing import Annotated, Literal\n",
    "from langgraph.graph.message import add_messages\n",
    "\n",
    "## State\n",
    "class LinkedInGraphState(TypedDict):\n",
    "    query: Annotated[list, add_messages]\n",
    "    task: str\n",
    "    critique: str\n",
    "    post: str\n",
    "    feedback: str\n",
    "    context: list\n"
   ]
  },
  {
   "cell_type": "code",
   "execution_count": 21,
   "metadata": {},
   "outputs": [],
   "source": [
    "from langchain_community.tools.tavily_search import TavilySearchResults\n",
    "\n",
    "tavily_search = TavilySearchResults(max_results=5)\n",
    "\n",
    "def web_search(state: LinkedInGraphState):\n",
    "    pass"
   ]
  },
  {
   "cell_type": "code",
   "execution_count": 19,
   "metadata": {},
   "outputs": [],
   "source": [
    "def post_writer(state: LinkedInGraphState):\n",
    "    pass"
   ]
  },
  {
   "cell_type": "code",
   "execution_count": 22,
   "metadata": {},
   "outputs": [],
   "source": [
    "def critique_generator(state: LinkedInGraphState):\n",
    "    pass"
   ]
  },
  {
   "cell_type": "code",
   "execution_count": 23,
   "metadata": {},
   "outputs": [],
   "source": [
    "def upload_post(state: LinkedInGraphState):\n",
    "    pass"
   ]
  },
  {
   "cell_type": "code",
   "execution_count": 10,
   "metadata": {},
   "outputs": [],
   "source": [
    "from langchain_core.messages import SystemMessage, AIMessage, ToolMessage, HumanMessage, AnyMessage\n",
    "\n",
    "## LinkedIn Agents Node\n",
    "async def linkedin_agent_team(state: LinkedInGraphState):\n",
    "\n",
    "    messages = state[\"query\"]\n",
    "    last_message = messages[-1]\n",
    "\n",
    "    tool_messages = []\n",
    "\n",
    "    if hasattr(last_message, 'tool_calls') and last_message.tool_calls:\n",
    "    # Process every call in the list\n",
    "      for call in last_message.tool_calls:\n",
    "          print(\"Processing tool call: %s\", call)\n",
    "          tool_name = call.get(\"name\")\n",
    "          tool_id = call.get(\"id\")\n",
    "          args = call.get(\"args\")\n",
    "\n",
    "\n",
    "          if tool_name == \"LINKEDIN_AGENTS\":\n",
    "              response = graph.invoke(last_message)\n",
    "              res = LINKEDIN_AGENTS(**args)\n",
    "              print(f\"****LinkedI Agents: {res}******\")\n",
    "\n",
    "              tool_msg = ToolMessage(\n",
    "                    name=tool_name,\n",
    "                    content=\"The task has successfully been completed!\",\n",
    "                    tool_call_id=tool_id  # Use the extracted tool_call_id\n",
    "                )\n",
    "              tool_messages.append(tool_msg)\n",
    "\n",
    "    return {\"query\": tool_messages}\n"
   ]
  },
  {
   "cell_type": "code",
   "execution_count": 11,
   "metadata": {},
   "outputs": [],
   "source": [
    "## XYZ Agent Node\n",
    "def xyz_agent(state: LinkedInGraphState):\n",
    "\n",
    "    tool_msg = ToolMessage(\n",
    "                    name=tool_name,\n",
    "                    content=\"The task has successfully been completed!\",\n",
    "                    tool_call_id=tool_id  # Use the extracted tool_call_id\n",
    "                )\n",
    "    return {\"query\": tool_msg}"
   ]
  },
  {
   "cell_type": "code",
   "execution_count": 17,
   "metadata": {},
   "outputs": [],
   "source": [
    "def task_router(state: LinkedInGraphState) -> Literal[\"post_writer\", \"web_search\"]:\n",
    "    pass"
   ]
  },
  {
   "cell_type": "code",
   "execution_count": 28,
   "metadata": {},
   "outputs": [
    {
     "data": {
      "image/png": "[encoded data removed]",
      "text/plain": [
       "<IPython.core.display.Image object>"
      ]
     },
     "metadata": {},
     "output_type": "display_data"
    }
   ],
   "source": [
    "from langchain_core.runnables import RunnableConfig\n",
    "from langgraph.graph import StateGraph, START, END\n",
    "from langgraph.prebuilt import ToolNode\n",
    "\n",
    "from typing import TypedDict, Annotated\n",
    "from IPython.display import Image, display\n",
    "\n",
    "# Build graph\n",
    "builder = StateGraph(LinkedInGraphState)\n",
    "\n",
    "builder.add_node(\"post_writer\", post_writer)\n",
    "builder.add_node(\"web_search\", web_search)\n",
    "builder.add_node(\"critique_generator\", critique_generator)\n",
    "builder.add_node(\"upload_post\", upload_post)\n",
    "\n",
    "builder.add_conditional_edges(START, task_router, [\"post_writer\", \"web_search\"])\n",
    "\n",
    "graph = builder.compile()\n",
    "\n",
    "## Display graph\n",
    "display(Image(graph.get_graph().draw_mermaid_png()))\n"
   ]
  }
 ],
 "metadata": {
  "kernelspec": {
   "display_name": ".venv",
   "language": "python",
   "name": "python3"
  },
  "language_info": {
   "codemirror_mode": {
    "name": "ipython",
    "version": 3
   },
   "file_extension": ".py",
   "mimetype": "text/x-python",
   "name": "python",
   "nbconvert_exporter": "python",
   "pygments_lexer": "ipython3",
   "version": "3.12.8"
  }
 },
 "nbformat": 4,
 "nbformat_minor": 2
}
