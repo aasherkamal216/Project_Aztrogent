{
 "cells": [
  {
   "cell_type": "code",
   "execution_count": 3,
   "metadata": {},
   "outputs": [],
   "source": [
    "import os, dotenv\n",
    "\n",
    "dotenv.load_dotenv()\n",
    "\n",
    "os.environ[\"GOOGLE_API_KEY\"] = os.getenv(\"GOOGLE_API_KEY\")\n",
    "os.environ[\"GROQ_API_KEY\"] = os.getenv(\"GROQ_API_KEY\")\n",
    "os.environ[\"TAVILY_API_KEY\"] = os.getenv(\"TAVILY_API_KEY\")\n",
    "os.environ[\"COMPOSIO_API_KEY\"] = os.getenv(\"COMPOSIO_API_KEY\")"
   ]
  },
  {
   "cell_type": "code",
   "execution_count": 6,
   "metadata": {},
   "outputs": [],
   "source": [
    "## Models\n",
    "from langchain_google_genai import  ChatGoogleGenerativeAI\n",
    "from langchain_groq import  ChatGroq\n",
    "\n",
    "gemini_model = ChatGoogleGenerativeAI(model=\"gemini-2.0-flash-exp\")\n",
    "llama_model = ChatGroq(model=\"llama-3.3-70b-versatile\")\n",
    "deepseek_model = ChatGroq(model=\"deepseek-r1-distill-llama-70b\")"
   ]
  },
  {
   "cell_type": "code",
   "execution_count": 101,
   "metadata": {},
   "outputs": [],
   "source": [
    "from typing_extensions import TypedDict\n",
    "from typing import Annotated, Literal\n",
    "\n",
    "from langgraph.graph import MessagesState\n",
    "from langgraph.graph.message import add_messages\n",
    "\n",
    "## State\n",
    "class LinkedInGraphState(MessagesState):\n",
    "    task: str\n",
    "    critique: str\n",
    "    post: str\n",
    "    user_feedback: str\n",
    "    llm_feedback: str\n",
    "    context: list\n"
   ]
  },
  {
   "cell_type": "code",
   "execution_count": 109,
   "metadata": {},
   "outputs": [],
   "source": [
    "from langchain_community.tools.tavily_search import TavilySearchResults\n",
    "from langgraph.types import Command, interrupt\n",
    "\n",
    "tavily_tool = TavilySearchResults(max_results=5)\n",
    "\n",
    "def web_search(state: LinkedInGraphState) -> Command[Literal[\"post_writer\"]]:\n",
    "    # results = tavily_tool.invoke(state['messages'])\n",
    "\n",
    "    return Command(\n",
    "        # state update\n",
    "        update={\"context\": \"results\"},\n",
    "        goto=\"post_writer\"\n",
    "    )"
   ]
  },
  {
   "cell_type": "code",
   "execution_count": 110,
   "metadata": {},
   "outputs": [],
   "source": [
    "def post_writer(state: LinkedInGraphState)-> Command[Literal[\"post_analyzer\"]]:\n",
    "    \n",
    "    return Command(\n",
    "        update={\"post\": state['messages'][-1]},\n",
    "        goto=\"post_analyzer\"\n",
    "    )"
   ]
  },
  {
   "cell_type": "code",
   "execution_count": 111,
   "metadata": {},
   "outputs": [],
   "source": [
    "from pydantic import BaseModel, Field\n",
    "from langchain_core.messages import SystemMessage, AIMessage, ToolMessage, HumanMessage, AnyMessage\n",
    "\n",
    "class PostAnalystSchema(BaseModel):\n",
    "    next_node: Literal[\"post_writer\", \"upload_post\"]\n",
    "    feedback: str = Field(description=\"The feedback about the post.\")\n",
    "\n",
    "post_analyst_llm = llama_model.with_structured_output(PostAnalystSchema)\n",
    "\n",
    "ANALYST_PROMPT = \"\"\"You are a LinkedIn post analyst. Your task is to route the given post to either back to the post_writer or to upload_post nodes. \n",
    "If the given post is well-written according to the given example posts, route it upload_post node, so that it can be posted on LinkedIn.\n",
    "If the post does not match the style of given example posts, route it back to the post_writer node along with the feedback so that it can improve\n",
    "the post.\n",
    "\n",
    "## Example Posts:\n",
    "\n",
    "#### Example 1:\n",
    "Software engineers who do not speak well \n",
    "\n",
    "or do not dress presentable will struggle.\n",
    "\n",
    "If your MO is I am great technical talent and thats all that matters. \n",
    "\n",
    "Neglect the effort to communicate better or make an impression to stakeholders.\n",
    "\n",
    "When Ai catches up to become a principal engineer, your worth diminishes.\n",
    "\n",
    "Get good at talking to people, care about how you present your ideas and yourself.\n",
    "\n",
    "Will make such a difference.\n",
    "Agree?\n",
    "---\n",
    "\n",
    "#### Example 2:\n",
    "CS STUDENTS: Snapchat is paying entry-level engineers in nyc $190k.\n",
    "\n",
    "Snap isn’t paying $190k to test their “ar googles.”\n",
    "\n",
    "Snap is paying $190k or even $500k so you can be part of the team that can help them make their next $100Bn in market cap.\n",
    "\n",
    "Too many “talent” and potentially even “motivated” young engineers get all “hip hip hooray” after landing the TC (offer letter)…\n",
    "\n",
    "without visualizing the bigger picture. Why do you exist? What does your team and director do? Which team/product line makes the most money? How do you make the company better?\n",
    "\n",
    "Someone can argue if the purpose of your specific role as an engineer is opaque and the intrigue to better your technical organization is missing…\n",
    "\n",
    "there might be diminishing returns on hiring such an engineer in the advent of ai. \n",
    "\n",
    "Thoughts?\n",
    "---\n",
    "\n",
    "#### Example 3:\n",
    "NYC Hacker house meetup. \n",
    "\n",
    "This was how it went down.\n",
    "\n",
    "1/ gather at the hacker house\n",
    "2/ eat and vibe\n",
    "3/ go to the office \n",
    "\n",
    "7 headstarter residents and mentor(google) and hiring manager at startup ($145mn series A) came. \n",
    "\n",
    "I gave folks a game plan on how to get a job, roasted resumes and everyone just vibes.\n",
    "\n",
    "IRL is where its at. \n",
    "\n",
    "Who agrees? \n",
    "\n",
    "Run it back again?\n",
    "\"\"\"\n",
    "\n",
    "def post_analyzer(state: LinkedInGraphState) -> Command[Literal[\"upload_post\", \"post_writer\"]]:\n",
    "    \n",
    "    post_analysis = post_analyst_llm.invoke([SystemMessage(content=ANALYST_PROMPT)] + [state[\"post\"]])\n",
    "\n",
    "    user_feedback = \"\"\n",
    "    if post_analysis.next_node == \"post_writer\":\n",
    "        goto = \"post_writer\"\n",
    "        user_feedback = interrupt(\"Please provide feedback about the post:\")\n",
    "\n",
    "    elif post_analysis.next_node == \"upload_post\":\n",
    "        goto = \"upload_post\"\n",
    "\n",
    "    return Command(\n",
    "        update={\"llm_feedback\": post_analysis.feedback, \n",
    "                \"user_feedback\": user_feedback\n",
    "               },\n",
    "        goto=goto\n",
    "    )"
   ]
  },
  {
   "cell_type": "code",
   "execution_count": 112,
   "metadata": {},
   "outputs": [],
   "source": [
    "def upload_post(state: LinkedInGraphState) -> Command[Literal[\"__end__\"]]:\n",
    "    \n",
    "    return Command(\n",
    "        update={\"messages\": [HumanMessage(content=\"The post has successfully been posted!\")]},\n",
    "        goto=\"__end__\"\n",
    "    )\n",
    "    "
   ]
  },
  {
   "cell_type": "markdown",
   "metadata": {},
   "source": [
    "### Task Router"
   ]
  },
  {
   "cell_type": "code",
   "execution_count": 113,
   "metadata": {},
   "outputs": [],
   "source": [
    "def task_router(state: LinkedInGraphState) -> Literal[\"post_writer\", \"web_search\"]:\n",
    "    if state.get(\"feedback\"):\n",
    "        return \"post_writer\"\n",
    "    return \"web_search\""
   ]
  },
  {
   "cell_type": "markdown",
   "metadata": {},
   "source": [
    "## Graph"
   ]
  },
  {
   "cell_type": "code",
   "execution_count": 114,
   "metadata": {},
   "outputs": [
    {
     "data": {
      "image/png": "[encoded data removed]",
      "text/plain": [
       "<IPython.core.display.Image object>"
      ]
     },
     "metadata": {},
     "output_type": "display_data"
    }
   ],
   "source": [
    "from langchain_core.runnables import RunnableConfig\n",
    "from langgraph.graph import StateGraph, START, END\n",
    "from langgraph.prebuilt import ToolNode\n",
    "from langgraph.checkpoint.memory import MemorySaver\n",
    "\n",
    "from typing import TypedDict, Annotated\n",
    "from IPython.display import Image, display\n",
    "\n",
    "# Build graph\n",
    "builder = StateGraph(LinkedInGraphState)\n",
    "\n",
    "builder.add_node(\"post_writer\", post_writer)\n",
    "builder.add_node(\"web_search\", web_search)\n",
    "builder.add_node(\"post_analyzer\", post_analyzer)\n",
    "builder.add_node(\"upload_post\", upload_post)\n",
    "\n",
    "builder.add_conditional_edges(START, task_router)\n",
    "\n",
    "checkpointer = MemorySaver()\n",
    "graph = builder.compile(checkpointer=checkpointer, interrupt_before=[\"upload_post\"])\n",
    "\n",
    "## Display graph\n",
    "display(Image(graph.get_graph().draw_mermaid_png()))\n"
   ]
  },
  {
   "cell_type": "code",
   "execution_count": 121,
   "metadata": {},
   "outputs": [
    {
     "name": "stdout",
     "output_type": "stream",
     "text": [
      "{'web_search': {'context': 'results'}}\n",
      "\n",
      "{'post_writer': {'post': HumanMessage(content='\\nEast vs west war is crazy. \\nDeepseek was a fine tuned llama model. \\n\\nOnly $6mn to train. \\n\\nFor comparison Elons x.ai raised $6bn. \\n\\nIs dog shi***\\n\\nAnd sam now raised $500bn for a weird US collab.\\n\\nWill it be for surveillance as Oracle ceo said. \\n\\nWho knows? Thoughts?', additional_kwargs={}, response_metadata={}, id='81e1449d-c273-4dc4-a69c-b271fc29baff')}}\n",
      "\n",
      "{'__interrupt__': (Interrupt(value='Please provide feedback about the post:', resumable=True, ns=['post_analyzer:948bbff0-b11b-85cf-9d9d-aae0371ecf39'], when='during'),)}\n",
      "\n"
     ]
    }
   ],
   "source": [
    "config = {\"configurable\": {\"thread_id\": \"abc\"}}\n",
    "\n",
    "for event in graph.stream({\"messages\": [HumanMessage(content=\"\"\"\n",
    "East vs west war is crazy. \n",
    "Deepseek was a fine tuned llama model. \n",
    "\n",
    "Only $6mn to train. \n",
    "\n",
    "For comparison Elons x.ai raised $6bn. \n",
    "\n",
    "Is dog shi***\n",
    "\n",
    "And sam now raised $500bn for a weird US collab.\n",
    "\n",
    "Will it be for surveillance as Oracle ceo said. \n",
    "\n",
    "Who knows? Thoughts?\"\"\")]}, config=config):\n",
    "    print(event, end=\"\\n\\n\")"
   ]
  },
  {
   "cell_type": "code",
   "execution_count": 129,
   "metadata": {},
   "outputs": [
    {
     "data": {
      "text/plain": [
       "{'messages': [HumanMessage(content='\\nEast vs west war is crazy. \\nDeepseek was a fine tuned llama model. \\n\\nOnly $6mn to train. \\n\\nFor comparison Elons x.ai raised $6bn. \\n\\nIs dog shi***\\n\\nAnd sam now raised $500bn for a weird US collab.\\n\\nWill it be for surveillance as Oracle ceo said. \\n\\nWho knows? Thoughts?', additional_kwargs={}, response_metadata={}, id='81e1449d-c273-4dc4-a69c-b271fc29baff')],\n",
       " 'post': HumanMessage(content='\\nEast vs west war is crazy. \\nDeepseek was a fine tuned llama model. \\n\\nOnly $6mn to train. \\n\\nFor comparison Elons x.ai raised $6bn. \\n\\nIs dog shi***\\n\\nAnd sam now raised $500bn for a weird US collab.\\n\\nWill it be for surveillance as Oracle ceo said. \\n\\nWho knows? Thoughts?', additional_kwargs={}, response_metadata={}, id='81e1449d-c273-4dc4-a69c-b271fc29baff'),\n",
       " 'user_feedback': '',\n",
       " 'llm_feedback': 'The post seems to be well-structured and thought-provoking, similar to the example posts. It raises interesting questions and encourages discussion.',\n",
       " 'context': 'results'}"
      ]
     },
     "execution_count": 129,
     "metadata": {},
     "output_type": "execute_result"
    }
   ],
   "source": [
    "graph.get_state(config).values"
   ]
  },
  {
   "cell_type": "code",
   "execution_count": 128,
   "metadata": {},
   "outputs": [
    {
     "name": "stdout",
     "output_type": "stream",
     "text": [
      "{'post_analyzer': {'llm_feedback': 'The post seems to be well-structured, but it contains some incomplete thoughts and potentially offensive language. It would be better to rephrase or remove the incomplete sentence to make the post more engaging and professional.', 'user_feedback': 'The post should be well-written'}}\n",
      "\n",
      "\n",
      "{'post_writer': {'post': HumanMessage(content='\\nEast vs west war is crazy. \\nDeepseek was a fine tuned llama model. \\n\\nOnly $6mn to train. \\n\\nFor comparison Elons x.ai raised $6bn. \\n\\nIs dog shi***\\n\\nAnd sam now raised $500bn for a weird US collab.\\n\\nWill it be for surveillance as Oracle ceo said. \\n\\nWho knows? Thoughts?', additional_kwargs={}, response_metadata={}, id='81e1449d-c273-4dc4-a69c-b271fc29baff')}}\n",
      "\n",
      "\n",
      "{'post_analyzer': {'llm_feedback': 'The post seems to be well-structured and thought-provoking, similar to the example posts. It raises interesting questions and encourages discussion.', 'user_feedback': ''}}\n",
      "\n",
      "\n",
      "{'__interrupt__': ()}\n",
      "\n",
      "\n"
     ]
    }
   ],
   "source": [
    "# Continue the graph execution\n",
    "for event in graph.stream(\n",
    "    Command(resume=\"The post should be well-written\"), config\n",
    "):\n",
    "    print(event)\n",
    "    print(\"\\n\")"
   ]
  }
 ],
 "metadata": {
  "kernelspec": {
   "display_name": ".venv",
   "language": "python",
   "name": "python3"
  },
  "language_info": {
   "codemirror_mode": {
    "name": "ipython",
    "version": 3
   },
   "file_extension": ".py",
   "mimetype": "text/x-python",
   "name": "python",
   "nbconvert_exporter": "python",
   "pygments_lexer": "ipython3",
   "version": "3.12.8"
  }
 },
 "nbformat": 4,
 "nbformat_minor": 2
}
