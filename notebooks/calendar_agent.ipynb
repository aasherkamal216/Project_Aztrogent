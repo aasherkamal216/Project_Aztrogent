{
 "cells": [
  {
   "cell_type": "code",
   "execution_count": 1,
   "metadata": {},
   "outputs": [],
   "source": [
    "import os, dotenv\n",
    "\n",
    "dotenv.load_dotenv()\n",
    "\n",
    "os.environ[\"GOOGLE_API_KEY\"] = os.getenv(\"GOOGLE_API_KEY\")\n",
    "os.environ[\"COMPOSIO_API_KEY\"] = os.getenv(\"COMPOSIO_API_KEY\")"
   ]
  },
  {
   "cell_type": "markdown",
   "metadata": {},
   "source": [
    "## Calendar Agent Graph\n",
    "<img src=\"../static/Google_Calendar_Agent.png\" alt=\"Graph\" width=\"600\">"
   ]
  },
  {
   "cell_type": "code",
   "execution_count": 2,
   "metadata": {},
   "outputs": [],
   "source": [
    "from langgraph.graph import MessagesState\n",
    "\n",
    "class GoogleCalendarGraphState(MessagesState):\n",
    "    pass\n"
   ]
  },
  {
   "cell_type": "code",
   "execution_count": 4,
   "metadata": {},
   "outputs": [],
   "source": [
    "from langgraph.types import Command, interrupt\n",
    "from langchain.chat_models import init_chat_model\n",
    "\n",
    "gemini_model = init_chat_model(\"gemini-2.0-flash-exp\", model_provider=\"google_genai\")"
   ]
  },
  {
   "cell_type": "code",
   "execution_count": 6,
   "metadata": {},
   "outputs": [],
   "source": [
    "from composio_langgraph import Action, ComposioToolSet\n",
    "\n",
    "composio_toolset = ComposioToolSet()\n",
    "\n",
    "calendar_write_tools = composio_toolset.get_tools(\n",
    "    actions=[\n",
    "        Action.GOOGLECALENDAR_CREATE_EVENT,\n",
    "        Action.GOOGLECALENDAR_UPDATE_EVENT,\n",
    "        Action.GOOGLECALENDAR_DELETE_EVENT,\n",
    "        Action.GOOGLECALENDAR_QUICK_ADD,\n",
    "    ]\n",
    ")\n",
    "\n",
    "calendar_read_tools = composio_toolset.get_tools(\n",
    "    actions=[\n",
    "        Action.GOOGLECALENDAR_FIND_EVENT,\n",
    "        Action.GOOGLECALENDAR_FIND_FREE_SLOTS,\n",
    "        Action.GOOGLECALENDAR_GET_CURRENT_DATE_TIME,\n",
    "    ]\n",
    ")\n",
    "\n",
    "write_tools_by_name = {tool.name: tool for tool in calendar_write_tools}"
   ]
  },
  {
   "cell_type": "code",
   "execution_count": 7,
   "metadata": {},
   "outputs": [
    {
     "data": {
      "text/plain": [
       "{'GOOGLECALENDAR_UPDATE_EVENT': StructuredTool(name='GOOGLECALENDAR_UPDATE_EVENT', description='Update An Existing Event In A Google Calendar.', args_schema=<class 'composio.utils.shared.UpdateEventRequest'>, func=<function ComposioToolSet._wrap_action.<locals>.function at 0x0000018B653B34C0>),\n",
       " 'GOOGLECALENDAR_CREATE_EVENT': StructuredTool(name='GOOGLECALENDAR_CREATE_EVENT', description='Create A New Event In A Google Calendar.', args_schema=<class 'composio.utils.shared.CreateEventRequest'>, func=<function ComposioToolSet._wrap_action.<locals>.function at 0x0000018B653B2520>),\n",
       " 'GOOGLECALENDAR_QUICK_ADD': StructuredTool(name='GOOGLECALENDAR_QUICK_ADD', description=\"Create A New Event In A Google Calendar Based On A Simple Text String Like 'Appointment At Somewhere On June 3Rd 10Am 10:25Am' You Can Only Give Title And Timeslot Here. No Recurring Meetings And No Attendee Can Be Added Here. This Is Not A Preferred Endpoint. Only Use This If No Other Endpoint Is Possible.\", args_schema=<class 'composio.utils.shared.QuickAddRequest'>, func=<function ComposioToolSet._wrap_action.<locals>.function at 0x0000018B653B02C0>),\n",
       " 'GOOGLECALENDAR_DELETE_EVENT': StructuredTool(name='GOOGLECALENDAR_DELETE_EVENT', description='Delete An Event From A Google Calendar.', args_schema=<class 'composio.utils.shared.DeleteEventRequest'>, func=<function ComposioToolSet._wrap_action.<locals>.function at 0x0000018B653B2B60>)}"
      ]
     },
     "execution_count": 7,
     "metadata": {},
     "output_type": "execute_result"
    }
   ],
   "source": [
    "write_tools_by_name"
   ]
  },
  {
   "cell_type": "code",
   "execution_count": 8,
   "metadata": {},
   "outputs": [],
   "source": [
    "agent_with_tools = gemini_model.bind_tools(calendar_write_tools + calendar_read_tools)"
   ]
  },
  {
   "cell_type": "code",
   "execution_count": 16,
   "metadata": {},
   "outputs": [],
   "source": [
    "CALENDAR_AGENT_PROMPT = \"\"\"\n",
    "You are a highly capable AI assistant specializing in managing the user's Google Calendar with precision, clarity, and efficiency.\n",
    "\n",
    "---\n",
    "### Core Capabilities\n",
    "You can assist with the following tasks:\n",
    "\n",
    "1. **Finding Information:**\n",
    "   - Locate specific events based on date, time, keywords, or attendees.\n",
    "   - Identify the user's availability and free time slots within specified date ranges and durations.\n",
    "   - Provide the current date and time contextually.\n",
    "\n",
    "2. **Modifying the Calendar:**\n",
    "   - Create new events with details including date, time, title, location, and description.\n",
    "   - Delete existing events based on user confirmation.\n",
    "   - Update events by modifying details such as date, time, title, location, or description.\n",
    "   - Quickly add events based on natural language descriptions.\n",
    "\n",
    "### Execution Guidelines\n",
    "1. **Prioritize Clarity and Confirmation:** If the user's request is unclear or ambiguous, ask for clarification before proceeding.\n",
    "2. **Interpret Date/Time Context Accurately:** Correctly resolve relative terms like \"today,\" \"tomorrow,\" \"next Monday,\" or \"end of the month\" based on the user's time zone.\n",
    "3. **Provide Comprehensive Event Details:** When retrieving events, include full details such as start time, end time, title, location, and description, if available.\n",
    "4. **Execute Tasks in Logical Order:** If a task requires both reading and writing operations, ensure you fetch necessary data before modifying the calendar.\n",
    "5. **Optimize User Interaction:** If a conflict is detected (e.g., scheduling an event over an existing commitment), notify the user and suggest alternative time slots.\n",
    "\n",
    "### NOTE\n",
    "If any function call/tool call fails, retry it 3 times. Make sure to handle tools efficiently.\n",
    "\n",
    "---\n",
    "**Important Details:**\n",
    "- User Name: {user_name}\n",
    "- User Email: {user_email}\n",
    "- Today's date/time: {today_datetime}\n",
    "- Timezone Offset (from UTC): {timezone_offset}\n",
    "\n",
    "\"\"\""
   ]
  }
 ],
 "metadata": {
  "kernelspec": {
   "display_name": ".venv",
   "language": "python",
   "name": "python3"
  },
  "language_info": {
   "codemirror_mode": {
    "name": "ipython",
    "version": 3
   },
   "file_extension": ".py",
   "mimetype": "text/x-python",
   "name": "python",
   "nbconvert_exporter": "python",
   "pygments_lexer": "ipython3",
   "version": "3.12.8"
  }
 },
 "nbformat": 4,
 "nbformat_minor": 2
}
