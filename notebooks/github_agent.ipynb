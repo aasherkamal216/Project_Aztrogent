{
 "cells": [
  {
   "cell_type": "code",
   "execution_count": 1,
   "metadata": {},
   "outputs": [],
   "source": [
    "import os, dotenv\n",
    "\n",
    "dotenv.load_dotenv()\n",
    "\n",
    "os.environ[\"GOOGLE_API_KEY\"] = os.getenv(\"GOOGLE_API_KEY\")\n",
    "os.environ[\"TAVILY_API_KEY\"] = os.getenv(\"TAVILY_API_KEY\")\n",
    "os.environ[\"COMPOSIO_API_KEY\"] = os.getenv(\"COMPOSIO_API_KEY\")"
   ]
  },
  {
   "cell_type": "markdown",
   "metadata": {},
   "source": [
    "## GitHub Agent Graph\n",
    "<img src=\"../static/Github_Agent.png\" alt=\"Graph\" width=\"600\">"
   ]
  },
  {
   "cell_type": "code",
   "execution_count": 22,
   "metadata": {},
   "outputs": [],
   "source": [
    "from langchain.chat_models import init_chat_model\n",
    "gemini_model = init_chat_model(\"gemini-2.0-flash-exp\", model_provider=\"google_genai\")"
   ]
  },
  {
   "cell_type": "code",
   "execution_count": 32,
   "metadata": {},
   "outputs": [],
   "source": [
    "from composio_langgraph import Action, ComposioToolSet\n",
    "\n",
    "composio_toolset = ComposioToolSet(api_key=os.getenv(\"COMPOSIO_API_KEY\"))\n",
    "\n",
    "github_tools = composio_toolset.get_tools(\n",
    "    actions=[\n",
    "        Action.GITHUB_STAR_A_REPOSITORY_FOR_THE_AUTHENTICATED_USER,\n",
    "        Action.GITHUB_SEARCH_REPOSITORIES,\n",
    "        Action.GITHUB_LIST_REPOSITORIES_FOR_THE_AUTHENTICATED_USER,\n",
    "        Action.GITHUB_LIST_REPOSITORIES_FOR_A_USER,\n",
    "        Action.GITHUB_GET_THE_AUTHENTICATED_USER,\n",
    "        Action.GITHUB_LIST_REPOSITORIES_STARRED_BY_A_USER,\n",
    "        Action.GITHUB_LIST_USER_PROJECTS,\n",
    "        Action.GITHUB_LIST_FOLLOWERS_OF_A_USER\n",
    "    ]\n",
    ")\n",
    "\n",
    "tools_by_name = {tool.name: tool for tool in github_tools}"
   ]
  },
  {
   "cell_type": "code",
   "execution_count": 4,
   "metadata": {},
   "outputs": [
    {
     "data": {
      "text/plain": [
       "{'GITHUB_LIST_FOLLOWERS_OF_A_USER': StructuredTool(name='GITHUB_LIST_FOLLOWERS_OF_A_USER', description='Lists The People Following The Specified User.', args_schema=<class 'composio.utils.shared.ListFollowersOfAUserRequest'>, func=<function ComposioToolSet._wrap_action.<locals>.function at 0x000001E38D3896C0>),\n",
       " 'GITHUB_LIST_REPOSITORIES_FOR_A_USER': StructuredTool(name='GITHUB_LIST_REPOSITORIES_FOR_A_USER', description='Lists Public Repositories For The Specified User.', args_schema=<class 'composio.utils.shared.ListRepositoriesForAUserRequest'>, func=<function ComposioToolSet._wrap_action.<locals>.function at 0x000001E38D389300>),\n",
       " 'GITHUB_LIST_REPOSITORIES_STARRED_BY_A_USER': StructuredTool(name='GITHUB_LIST_REPOSITORIES_STARRED_BY_A_USER', description=\"This Endpoint Lists Repositories A User Has Starred And Supports Media Types Like `Application/Vnd.Github.Star+Json`, Which Includes The Star's Creation Timestamp. For More, Visit Git Hub's Documentation On Media Types.\", args_schema=<class 'composio.utils.shared.ListRepositoriesStarredByAUserRequest'>, func=<function ComposioToolSet._wrap_action.<locals>.function at 0x000001E38D388540>),\n",
       " 'GITHUB_SEARCH_REPOSITORIES': StructuredTool(name='GITHUB_SEARCH_REPOSITORIES', description='Search For Git Hub Repositories By Criteria, Returning Up To 100 Results Per Page. Search Includes Text Match Metadata For Names And Descriptions. Example: Find Popular Tetris Repositories In Assembly, Sorted By Stars.', args_schema=<class 'composio.utils.shared.SearchRepositoriesRequest'>, func=<function ComposioToolSet._wrap_action.<locals>.function at 0x000001E38D38A8E0>),\n",
       " 'GITHUB_STAR_A_REPOSITORY_FOR_THE_AUTHENTICATED_USER': StructuredTool(name='GITHUB_STAR_A_REPOSITORY_FOR_THE_AUTHENTICATED_USER', description='Star A Github Repository For Given `Repo` And `Owner`', args_schema=<class 'composio.utils.shared.StarARepositoryForTheAuthenticatedUserRequest'>, func=<function ComposioToolSet._wrap_action.<locals>.function at 0x000001E38D389E40>),\n",
       " 'GITHUB_LIST_REPOSITORIES_FOR_THE_AUTHENTICATED_USER': StructuredTool(name='GITHUB_LIST_REPOSITORIES_FOR_THE_AUTHENTICATED_USER', description='The Text Outlines That The Authenticated User Can Access Repositories They Own, Collaborate On, Or Are Part Of Through An Organization, Given Explicit `:Read`, `:Write`, Or `:Admin` Permissions.', args_schema=<class 'composio.utils.shared.ListRepositoriesForTheAuthenticatedUserRequest'>, func=<function ComposioToolSet._wrap_action.<locals>.function at 0x000001E38D389080>),\n",
       " 'GITHUB_GET_THE_AUTHENTICATED_USER': StructuredTool(name='GITHUB_GET_THE_AUTHENTICATED_USER', description='O Auth App Tokens And Personal Access Tokens (Classic) Need The `User` Scope In Order For The Response To Include Private Profile Information.', args_schema=<class 'composio.utils.shared.GetTheAuthenticatedUserRequest'>, func=<function ComposioToolSet._wrap_action.<locals>.function at 0x000001E38D38A980>),\n",
       " 'GITHUB_LIST_USER_PROJECTS': StructuredTool(name='GITHUB_LIST_USER_PROJECTS', description='Lists Projects For A User.', args_schema=<class 'composio.utils.shared.ListUserProjectsRequest'>, func=<function ComposioToolSet._wrap_action.<locals>.function at 0x000001E38D38AFC0>)}"
      ]
     },
     "execution_count": 4,
     "metadata": {},
     "output_type": "execute_result"
    }
   ],
   "source": [
    "tools_by_name"
   ]
  },
  {
   "cell_type": "code",
   "execution_count": 5,
   "metadata": {},
   "outputs": [],
   "source": [
    "from langgraph.graph import MessagesState\n",
    "\n",
    "class GitHubGraphState(MessagesState):\n",
    "    pass\n"
   ]
  },
  {
   "cell_type": "code",
   "execution_count": 23,
   "metadata": {},
   "outputs": [],
   "source": [
    "agent_with_tools = gemini_model.bind_tools(github_tools) "
   ]
  },
  {
   "cell_type": "code",
   "execution_count": 7,
   "metadata": {},
   "outputs": [],
   "source": [
    "GITHUB_AGENT_PROMPT = \"\"\"\n",
    "You are a sophisticated GitHub assistant designed to help users interact with and manage their GitHub repositories and activities.\n",
    "\n",
    "---\n",
    "## Instructions\n",
    "1. **Analyze user request carefully.** Identify the core task(s) and required information. If the request is unclear, ask for clarification.\n",
    "2. **Select the most appropriate tool(s)** for the task(s). Use minimal tools for simple requests while intelligently combining tools for complex operations.\n",
    "3. **If uncertain about tool selection, review tool descriptions and task requirements.**\n",
    "4. **Execute chosen tool(s) with proper parameters** to complete the task.\n",
    "5. **Execute tools in a logical sequence** when multiple operations are needed.\n",
    "6. **Provide clear results** back to the user.\n",
    "\n",
    "## Core capabilities\n",
    "- Search and explore repositories\n",
    "- Star repositories\n",
    "- View and manage personal repositories\n",
    "- Access user profile information\n",
    "- View starred repositories\n",
    "- Browse user projects\n",
    "- Manage follower relationships\n",
    "- List repositories for specific users\n",
    "\n",
    "## Best Practices\n",
    "- When searching repositories, provide concise but relevant results\n",
    "- For repository listings, limit results to most relevant entries\n",
    "- Present information in an organized manner\n",
    "- Include essential details to the user\n",
    "\n",
    "## Privacy & Security\n",
    "Do NOT disclose internal tool operations or implementation details\n",
    "\n",
    "## NOTE\n",
    "Some tools may depend on other tools. Make sure to handle tools efficiently.\n",
    "When fetching repository lists or search results, limit to maximum of 5-10 items unless specifically requested otherwise.\n",
    "---\n",
    "User Name: {user_name}\n",
    "User Handle: {github_username}\n",
    "System time: {system_time}\n",
    "\n",
    "\"\"\""
   ]
  },
  {
   "cell_type": "code",
   "execution_count": 8,
   "metadata": {},
   "outputs": [
    {
     "data": {
      "text/plain": [
       "AIMessage(content='', additional_kwargs={'tool_calls': [{'id': 'call_m86t', 'function': {'arguments': '{\"username\": \"aasherkamal216\"}', 'name': 'GITHUB_LIST_FOLLOWERS_OF_A_USER'}, 'type': 'function'}]}, response_metadata={'token_usage': {'completion_tokens': 25, 'prompt_tokens': 2950, 'total_tokens': 2975, 'completion_time': 0.090909091, 'prompt_time': 0.34694781, 'queue_time': 2.248759544, 'total_time': 0.437856901}, 'model_name': 'llama-3.3-70b-versatile', 'system_fingerprint': 'fp_4e32347616', 'finish_reason': 'tool_calls', 'logprobs': None}, id='run-e525af85-aaf2-4d7e-a173-2819934c4c22-0', tool_calls=[{'name': 'GITHUB_LIST_FOLLOWERS_OF_A_USER', 'args': {'username': 'aasherkamal216'}, 'id': 'call_m86t', 'type': 'tool_call'}], usage_metadata={'input_tokens': 2950, 'output_tokens': 25, 'total_tokens': 2975})"
      ]
     },
     "execution_count": 8,
     "metadata": {},
     "output_type": "execute_result"
    }
   ],
   "source": [
    "from langchain_core.messages import SystemMessage, AIMessage, HumanMessage, ToolMessage\n",
    "from datetime import datetime\n",
    "\n",
    "agent_with_tools.invoke(\n",
    "    [SystemMessage(content=GITHUB_AGENT_PROMPT.format(user_name=\"Aasher Kamal\", \n",
    "    github_username=\"aasherkamal216\", \n",
    "    system_time=datetime.now().isoformat()))]\n",
    "     + [HumanMessage(content=\"Get my Followers\")]\n",
    "    )"
   ]
  },
  {
   "cell_type": "code",
   "execution_count": 24,
   "metadata": {},
   "outputs": [],
   "source": [
    "from typing import Literal\n",
    "from langgraph.types import Command, interrupt\n",
    "\n",
    "def github_agent(\n",
    "    state: GitHubGraphState,\n",
    ") -> Command[Literal[\"action_executor\", \"__end__\"]]:\n",
    "\n",
    "    response = agent_with_tools.invoke(\n",
    "        [\n",
    "            SystemMessage(\n",
    "                content=GITHUB_AGENT_PROMPT.format(\n",
    "                    user_name=\"Aasher Kamal\",\n",
    "                    github_username=\"aasherkamal216\",\n",
    "                    system_time=datetime.now().isoformat(),\n",
    "                )\n",
    "            )\n",
    "        ]\n",
    "        + state[\"messages\"]\n",
    "    )\n",
    "    if hasattr(response, \"tool_calls\") and response.tool_calls:\n",
    "        # Route to Action Executor\n",
    "        return Command(goto=\"action_executor\", update={\"messages\": [response]})\n",
    "    # End of Conversation\n",
    "    return Command(update={\"messages\": [response]}, goto=\"__end__\")"
   ]
  },
  {
   "cell_type": "code",
   "execution_count": 25,
   "metadata": {},
   "outputs": [],
   "source": [
    "def action_node(state: GitHubGraphState) -> Command[Literal[\"github_agent\"]]:\n",
    "    tool_calls = state[\"messages\"][-1].tool_calls\n",
    "    result = []\n",
    "    for call in tool_calls:\n",
    "        tool_name = call[\"name\"]\n",
    "        args = call.get(\"args\")\n",
    "        # Confirm action by user\n",
    "        decision = interrupt(\n",
    "            {\n",
    "                \"tool_name\": tool_name.replace(\"_\", \" \").title(),\n",
    "                \"confirmation\": \"Do you confirm the action? [y/n]: \",\n",
    "            }\n",
    "        )\n",
    "\n",
    "        if decision.lower().strip() == \"y\":\n",
    "            output = tools_by_name[tool_name].invoke(args)\n",
    "        elif decision.lower().strip() == \"n\":\n",
    "            output = \"User declined to perform this action.\"\n",
    "        result.append(\n",
    "            ToolMessage(content=output, tool_call_id=call[\"id\"], name=tool_name)\n",
    "        )\n",
    "    return Command(goto=\"github_agent\", update={\"messages\": result})"
   ]
  },
  {
   "cell_type": "code",
   "execution_count": 34,
   "metadata": {},
   "outputs": [
    {
     "data": {
      "image/png": "[encoded data removed]",
      "text/plain": [
       "<IPython.core.display.Image object>"
      ]
     },
     "metadata": {},
     "output_type": "display_data"
    }
   ],
   "source": [
    "from langchain_core.runnables import RunnableConfig\n",
    "from langgraph.graph import StateGraph, START, END\n",
    "from langgraph.checkpoint.memory import MemorySaver\n",
    "\n",
    "from typing import TypedDict, Annotated\n",
    "from IPython.display import Image, display\n",
    "\n",
    "# Build graph\n",
    "builder = StateGraph(GitHubGraphState)\n",
    "\n",
    "builder.add_node(\"github_agent\", github_agent)\n",
    "builder.add_node(\"action_executor\", action_node)\n",
    "\n",
    "\n",
    "builder.add_edge(START, \"github_agent\")\n",
    "\n",
    "## Checkpointer\n",
    "checkpointer = MemorySaver()\n",
    "github_graph = builder.compile(checkpointer=checkpointer)\n",
    "\n",
    "display(Image(github_graph.get_graph(xray=1).draw_mermaid_png()))"
   ]
  },
  {
   "cell_type": "code",
   "execution_count": 14,
   "metadata": {},
   "outputs": [
    {
     "name": "stdout",
     "output_type": "stream",
     "text": [
      "================================\u001b[1m Human Message \u001b[0m=================================\n",
      "\n",
      "Get my followers\n",
      "==================================\u001b[1m Ai Message \u001b[0m==================================\n",
      "Tool Calls:\n",
      "  GITHUB_LIST_FOLLOWERS_OF_A_USER (call_nzaf)\n",
      " Call ID: call_nzaf\n",
      "  Args:\n",
      "    username: aasherkamal216\n"
     ]
    }
   ],
   "source": [
    "config = {\"configurable\": {\"thread_id\": \"1\"}}\n",
    "\n",
    "for chunk in github_graph.stream(\n",
    "    {\"messages\": [HumanMessage(content=\"Get my followers\")]},\n",
    "    config=config,\n",
    "    stream_mode=\"values\"\n",
    "):\n",
    "    response_message = chunk[\"messages\"][-1]\n",
    "    if hasattr(response_message, 'content'):\n",
    "        response_message.pretty_print()\n"
   ]
  },
  {
   "cell_type": "code",
   "execution_count": null,
   "metadata": {},
   "outputs": [],
   "source": [
    "for chunk in github_graph.stream(\n",
    "    Command(resume=\"y\"),\n",
    "    config=config,\n",
    "    stream_mode=\"values\"\n",
    "):\n",
    "    response_message = chunk.get(\"messages\")[-1]\n",
    "    if hasattr(response_message, 'content'):\n",
    "        response_message.pretty_print()\n",
    "    else:\n",
    "        print(chunk)"
   ]
  },
  {
   "cell_type": "code",
   "execution_count": null,
   "metadata": {},
   "outputs": [],
   "source": [
    "for chunk in github_graph.stream(\n",
    "    {\"messages\": [HumanMessage(content=\"Give me their github links\")]},\n",
    "    config=config,\n",
    "    stream_mode=\"values\"\n",
    "):\n",
    "    response_message = chunk[\"messages\"][-1]\n",
    "    if hasattr(response_message, 'content'):\n",
    "        response_message.pretty_print()\n"
   ]
  },
  {
   "cell_type": "code",
   "execution_count": 35,
   "metadata": {},
   "outputs": [
    {
     "name": "stdout",
     "output_type": "stream",
     "text": [
      "================================\u001b[1m Human Message \u001b[0m=================================\n",
      "\n",
      "Which repos have I starred?\n",
      "==================================\u001b[1m Ai Message \u001b[0m==================================\n",
      "Tool Calls:\n",
      "  GITHUB_LIST_REPOSITORIES_STARRED_BY_A_USER (bd0ced12-a8d7-493c-acc4-04b0e93afa4a)\n",
      " Call ID: bd0ced12-a8d7-493c-acc4-04b0e93afa4a\n",
      "  Args:\n",
      "    username: aasherkamal216\n"
     ]
    }
   ],
   "source": [
    "config = {\"configurable\": {\"thread_id\": \"2\"}}\n",
    "for chunk in github_graph.stream(\n",
    "    {\"messages\": [HumanMessage(content=\"Which repos have I starred?\")]},\n",
    "    config=config,\n",
    "    stream_mode=\"values\"\n",
    "):\n",
    "    response_message = chunk[\"messages\"][-1]\n",
    "    if hasattr(response_message, 'content'):\n",
    "        response_message.pretty_print()\n"
   ]
  },
  {
   "cell_type": "code",
   "execution_count": null,
   "metadata": {},
   "outputs": [],
   "source": [
    "for chunk in github_graph.stream(\n",
    "    Command(resume=\"y\"),\n",
    "    config=config,\n",
    "    stream_mode=\"values\"\n",
    "):\n",
    "    response_message = chunk.get(\"messages\")[-1]\n",
    "    if hasattr(response_message, 'content'):\n",
    "        response_message.pretty_print()\n",
    "    else:\n",
    "        print(chunk)"
   ]
  }
 ],
 "metadata": {
  "kernelspec": {
   "display_name": ".venv",
   "language": "python",
   "name": "python3"
  },
  "language_info": {
   "codemirror_mode": {
    "name": "ipython",
    "version": 3
   },
   "file_extension": ".py",
   "mimetype": "text/x-python",
   "name": "python",
   "nbconvert_exporter": "python",
   "pygments_lexer": "ipython3",
   "version": "3.12.8"
  }
 },
 "nbformat": 4,
 "nbformat_minor": 2
}
