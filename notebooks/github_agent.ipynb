{
 "cells": [
  {
   "cell_type": "code",
   "execution_count": 1,
   "metadata": {},
   "outputs": [],
   "source": [
    "import os, dotenv\n",
    "\n",
    "dotenv.load_dotenv()\n",
    "\n",
    "os.environ[\"GOOGLE_API_KEY\"] = os.getenv(\"GOOGLE_API_KEY\")\n",
    "os.environ[\"TAVILY_API_KEY\"] = os.getenv(\"TAVILY_API_KEY\")\n",
    "os.environ[\"COMPOSIO_API_KEY\"] = os.getenv(\"COMPOSIO_API_KEY\")"
   ]
  },
  {
   "cell_type": "code",
   "execution_count": 22,
   "metadata": {},
   "outputs": [],
   "source": [
    "from langchain.chat_models import init_chat_model\n",
    "gemini_model = init_chat_model(\"gemini-2.0-flash-exp\", model_provider=\"google_genai\")"
   ]
  },
  {
   "cell_type": "code",
   "execution_count": 32,
   "metadata": {},
   "outputs": [],
   "source": [
    "from composio_langgraph import Action, ComposioToolSet\n",
    "\n",
    "composio_toolset = ComposioToolSet(api_key=os.getenv(\"COMPOSIO_API_KEY\"))\n",
    "\n",
    "github_tools = composio_toolset.get_tools(\n",
    "    actions=[\n",
    "        Action.GITHUB_STAR_A_REPOSITORY_FOR_THE_AUTHENTICATED_USER,\n",
    "        Action.GITHUB_SEARCH_REPOSITORIES,\n",
    "        Action.GITHUB_LIST_REPOSITORIES_FOR_THE_AUTHENTICATED_USER,\n",
    "        Action.GITHUB_LIST_REPOSITORIES_FOR_A_USER,\n",
    "        Action.GITHUB_GET_THE_AUTHENTICATED_USER,\n",
    "        Action.GITHUB_LIST_REPOSITORIES_STARRED_BY_A_USER,\n",
    "        Action.GITHUB_LIST_USER_PROJECTS,\n",
    "        Action.GITHUB_LIST_FOLLOWERS_OF_A_USER\n",
    "    ]\n",
    ")\n",
    "\n",
    "tools_by_name = {tool.name: tool for tool in github_tools}"
   ]
  },
  {
   "cell_type": "code",
   "execution_count": 4,
   "metadata": {},
   "outputs": [
    {
     "data": {
      "text/plain": [
       "{'GITHUB_LIST_FOLLOWERS_OF_A_USER': StructuredTool(name='GITHUB_LIST_FOLLOWERS_OF_A_USER', description='Lists The People Following The Specified User.', args_schema=<class 'composio.utils.shared.ListFollowersOfAUserRequest'>, func=<function ComposioToolSet._wrap_action.<locals>.function at 0x000001E38D3896C0>),\n",
       " 'GITHUB_LIST_REPOSITORIES_FOR_A_USER': StructuredTool(name='GITHUB_LIST_REPOSITORIES_FOR_A_USER', description='Lists Public Repositories For The Specified User.', args_schema=<class 'composio.utils.shared.ListRepositoriesForAUserRequest'>, func=<function ComposioToolSet._wrap_action.<locals>.function at 0x000001E38D389300>),\n",
       " 'GITHUB_LIST_REPOSITORIES_STARRED_BY_A_USER': StructuredTool(name='GITHUB_LIST_REPOSITORIES_STARRED_BY_A_USER', description=\"This Endpoint Lists Repositories A User Has Starred And Supports Media Types Like `Application/Vnd.Github.Star+Json`, Which Includes The Star's Creation Timestamp. For More, Visit Git Hub's Documentation On Media Types.\", args_schema=<class 'composio.utils.shared.ListRepositoriesStarredByAUserRequest'>, func=<function ComposioToolSet._wrap_action.<locals>.function at 0x000001E38D388540>),\n",
       " 'GITHUB_SEARCH_REPOSITORIES': StructuredTool(name='GITHUB_SEARCH_REPOSITORIES', description='Search For Git Hub Repositories By Criteria, Returning Up To 100 Results Per Page. Search Includes Text Match Metadata For Names And Descriptions. Example: Find Popular Tetris Repositories In Assembly, Sorted By Stars.', args_schema=<class 'composio.utils.shared.SearchRepositoriesRequest'>, func=<function ComposioToolSet._wrap_action.<locals>.function at 0x000001E38D38A8E0>),\n",
       " 'GITHUB_STAR_A_REPOSITORY_FOR_THE_AUTHENTICATED_USER': StructuredTool(name='GITHUB_STAR_A_REPOSITORY_FOR_THE_AUTHENTICATED_USER', description='Star A Github Repository For Given `Repo` And `Owner`', args_schema=<class 'composio.utils.shared.StarARepositoryForTheAuthenticatedUserRequest'>, func=<function ComposioToolSet._wrap_action.<locals>.function at 0x000001E38D389E40>),\n",
       " 'GITHUB_LIST_REPOSITORIES_FOR_THE_AUTHENTICATED_USER': StructuredTool(name='GITHUB_LIST_REPOSITORIES_FOR_THE_AUTHENTICATED_USER', description='The Text Outlines That The Authenticated User Can Access Repositories They Own, Collaborate On, Or Are Part Of Through An Organization, Given Explicit `:Read`, `:Write`, Or `:Admin` Permissions.', args_schema=<class 'composio.utils.shared.ListRepositoriesForTheAuthenticatedUserRequest'>, func=<function ComposioToolSet._wrap_action.<locals>.function at 0x000001E38D389080>),\n",
       " 'GITHUB_GET_THE_AUTHENTICATED_USER': StructuredTool(name='GITHUB_GET_THE_AUTHENTICATED_USER', description='O Auth App Tokens And Personal Access Tokens (Classic) Need The `User` Scope In Order For The Response To Include Private Profile Information.', args_schema=<class 'composio.utils.shared.GetTheAuthenticatedUserRequest'>, func=<function ComposioToolSet._wrap_action.<locals>.function at 0x000001E38D38A980>),\n",
       " 'GITHUB_LIST_USER_PROJECTS': StructuredTool(name='GITHUB_LIST_USER_PROJECTS', description='Lists Projects For A User.', args_schema=<class 'composio.utils.shared.ListUserProjectsRequest'>, func=<function ComposioToolSet._wrap_action.<locals>.function at 0x000001E38D38AFC0>)}"
      ]
     },
     "execution_count": 4,
     "metadata": {},
     "output_type": "execute_result"
    }
   ],
   "source": [
    "tools_by_name"
   ]
  },
  {
   "cell_type": "code",
   "execution_count": 5,
   "metadata": {},
   "outputs": [],
   "source": [
    "from langgraph.graph import MessagesState\n",
    "\n",
    "class GitHubGraphState(MessagesState):\n",
    "    pass\n"
   ]
  },
  {
   "cell_type": "code",
   "execution_count": 23,
   "metadata": {},
   "outputs": [],
   "source": [
    "agent_with_tools = gemini_model.bind_tools(github_tools) "
   ]
  },
  {
   "cell_type": "code",
   "execution_count": 7,
   "metadata": {},
   "outputs": [],
   "source": [
    "GITHUB_AGENT_PROMPT = \"\"\"\n",
    "You are a sophisticated GitHub assistant designed to help users interact with and manage their GitHub repositories and activities.\n",
    "\n",
    "---\n",
    "## Instructions\n",
    "1. **Analyze user request carefully.** Identify the core task(s) and required information. If the request is unclear, ask for clarification.\n",
    "2. **Select the most appropriate tool(s)** for the task(s). Use minimal tools for simple requests while intelligently combining tools for complex operations.\n",
    "3. **If uncertain about tool selection, review tool descriptions and task requirements.**\n",
    "4. **Execute chosen tool(s) with proper parameters** to complete the task.\n",
    "5. **Execute tools in a logical sequence** when multiple operations are needed.\n",
    "6. **Provide clear results** back to the user.\n",
    "\n",
    "## Core capabilities\n",
    "- Search and explore repositories\n",
    "- Star repositories\n",
    "- View and manage personal repositories\n",
    "- Access user profile information\n",
    "- View starred repositories\n",
    "- Browse user projects\n",
    "- Manage follower relationships\n",
    "- List repositories for specific users\n",
    "\n",
    "## Best Practices\n",
    "- When searching repositories, provide concise but relevant results\n",
    "- For repository listings, limit results to most relevant entries\n",
    "- Present information in an organized manner\n",
    "- Include essential details to the user\n",
    "\n",
    "## Privacy & Security\n",
    "Do NOT disclose internal tool operations or implementation details\n",
    "\n",
    "## NOTE\n",
    "Some tools may depend on other tools. Make sure to handle tools efficiently.\n",
    "When fetching repository lists or search results, limit to maximum of 5-10 items unless specifically requested otherwise.\n",
    "---\n",
    "User Name: {user_name}\n",
    "User Handle: {github_username}\n",
    "System time: {system_time}\n",
    "\n",
    "\"\"\""
   ]
  },
  {
   "cell_type": "code",
   "execution_count": 8,
   "metadata": {},
   "outputs": [
    {
     "data": {
      "text/plain": [
       "AIMessage(content='', additional_kwargs={'tool_calls': [{'id': 'call_m86t', 'function': {'arguments': '{\"username\": \"aasherkamal216\"}', 'name': 'GITHUB_LIST_FOLLOWERS_OF_A_USER'}, 'type': 'function'}]}, response_metadata={'token_usage': {'completion_tokens': 25, 'prompt_tokens': 2950, 'total_tokens': 2975, 'completion_time': 0.090909091, 'prompt_time': 0.34694781, 'queue_time': 2.248759544, 'total_time': 0.437856901}, 'model_name': 'llama-3.3-70b-versatile', 'system_fingerprint': 'fp_4e32347616', 'finish_reason': 'tool_calls', 'logprobs': None}, id='run-e525af85-aaf2-4d7e-a173-2819934c4c22-0', tool_calls=[{'name': 'GITHUB_LIST_FOLLOWERS_OF_A_USER', 'args': {'username': 'aasherkamal216'}, 'id': 'call_m86t', 'type': 'tool_call'}], usage_metadata={'input_tokens': 2950, 'output_tokens': 25, 'total_tokens': 2975})"
      ]
     },
     "execution_count": 8,
     "metadata": {},
     "output_type": "execute_result"
    }
   ],
   "source": [
    "from langchain_core.messages import SystemMessage, AIMessage, HumanMessage, ToolMessage\n",
    "from datetime import datetime\n",
    "\n",
    "agent_with_tools.invoke(\n",
    "    [SystemMessage(content=GITHUB_AGENT_PROMPT.format(user_name=\"Aasher Kamal\", \n",
    "    github_username=\"aasherkamal216\", \n",
    "    system_time=datetime.now().isoformat()))]\n",
    "     + [HumanMessage(content=\"Get my Followers\")]\n",
    "    )"
   ]
  },
  {
   "cell_type": "code",
   "execution_count": 24,
   "metadata": {},
   "outputs": [],
   "source": [
    "from typing import Literal\n",
    "from langgraph.types import Command, interrupt\n",
    "\n",
    "def github_agent(\n",
    "    state: GitHubGraphState,\n",
    ") -> Command[Literal[\"action_executor\", \"__end__\"]]:\n",
    "\n",
    "    response = agent_with_tools.invoke(\n",
    "        [\n",
    "            SystemMessage(\n",
    "                content=GITHUB_AGENT_PROMPT.format(\n",
    "                    user_name=\"Aasher Kamal\",\n",
    "                    github_username=\"aasherkamal216\",\n",
    "                    system_time=datetime.now().isoformat(),\n",
    "                )\n",
    "            )\n",
    "        ]\n",
    "        + state[\"messages\"]\n",
    "    )\n",
    "    if hasattr(response, \"tool_calls\") and response.tool_calls:\n",
    "        # Route to Action Executor\n",
    "        return Command(goto=\"action_executor\", update={\"messages\": [response]})\n",
    "    # End of Conversation\n",
    "    return Command(update={\"messages\": [response]}, goto=\"__end__\")"
   ]
  },
  {
   "cell_type": "code",
   "execution_count": 25,
   "metadata": {},
   "outputs": [],
   "source": [
    "def action_node(state: GitHubGraphState) -> Command[Literal[\"github_agent\"]]:\n",
    "    tool_calls = state[\"messages\"][-1].tool_calls\n",
    "    result = []\n",
    "    for call in tool_calls:\n",
    "        tool_name = call[\"name\"]\n",
    "        args = call.get(\"args\")\n",
    "        # Confirm action by user\n",
    "        decision = interrupt(\n",
    "            {\n",
    "                \"tool_name\": tool_name.replace(\"_\", \" \").title(),\n",
    "                \"confirmation\": \"Do you confirm the action? [y/n]: \",\n",
    "            }\n",
    "        )\n",
    "\n",
    "        if decision.lower().strip() == \"y\":\n",
    "            output = tools_by_name[tool_name].invoke(args)\n",
    "        elif decision.lower().strip() == \"n\":\n",
    "            output = \"User declined to perform this action.\"\n",
    "        result.append(\n",
    "            ToolMessage(content=output, tool_call_id=call[\"id\"], name=tool_name)\n",
    "        )\n",
    "    return Command(goto=\"github_agent\", update={\"messages\": result})"
   ]
  },
  {
   "cell_type": "code",
   "execution_count": 34,
   "metadata": {},
   "outputs": [
    {
     "data": {
      "image/png": "[encoded data removed]",
      "text/plain": [
       "<IPython.core.display.Image object>"
      ]
     },
     "metadata": {},
     "output_type": "display_data"
    }
   ],
   "source": [
    "from langchain_core.runnables import RunnableConfig\n",
    "from langgraph.graph import StateGraph, START, END\n",
    "from langgraph.checkpoint.memory import MemorySaver\n",
    "\n",
    "from typing import TypedDict, Annotated\n",
    "from IPython.display import Image, display\n",
    "\n",
    "# Build graph\n",
    "builder = StateGraph(GitHubGraphState)\n",
    "\n",
    "builder.add_node(\"github_agent\", github_agent)\n",
    "builder.add_node(\"action_executor\", action_node)\n",
    "\n",
    "\n",
    "builder.add_edge(START, \"github_agent\")\n",
    "\n",
    "## Checkpointer\n",
    "checkpointer = MemorySaver()\n",
    "github_graph = builder.compile(checkpointer=checkpointer)\n",
    "\n",
    "display(Image(github_graph.get_graph(xray=1).draw_mermaid_png()))"
   ]
  },
  {
   "cell_type": "code",
   "execution_count": 14,
   "metadata": {},
   "outputs": [
    {
     "name": "stdout",
     "output_type": "stream",
     "text": [
      "================================\u001b[1m Human Message \u001b[0m=================================\n",
      "\n",
      "Get my followers\n",
      "==================================\u001b[1m Ai Message \u001b[0m==================================\n",
      "Tool Calls:\n",
      "  GITHUB_LIST_FOLLOWERS_OF_A_USER (call_nzaf)\n",
      " Call ID: call_nzaf\n",
      "  Args:\n",
      "    username: aasherkamal216\n"
     ]
    }
   ],
   "source": [
    "config = {\"configurable\": {\"thread_id\": \"1\"}}\n",
    "\n",
    "for chunk in github_graph.stream(\n",
    "    {\"messages\": [HumanMessage(content=\"Get my followers\")]},\n",
    "    config=config,\n",
    "    stream_mode=\"values\"\n",
    "):\n",
    "    response_message = chunk[\"messages\"][-1]\n",
    "    if hasattr(response_message, 'content'):\n",
    "        response_message.pretty_print()\n"
   ]
  },
  {
   "cell_type": "code",
   "execution_count": 15,
   "metadata": {},
   "outputs": [
    {
     "name": "stdout",
     "output_type": "stream",
     "text": [
      "==================================\u001b[1m Ai Message \u001b[0m==================================\n",
      "Tool Calls:\n",
      "  GITHUB_LIST_FOLLOWERS_OF_A_USER (call_nzaf)\n",
      " Call ID: call_nzaf\n",
      "  Args:\n",
      "    username: aasherkamal216\n",
      "=================================\u001b[1m Tool Message \u001b[0m=================================\n",
      "Name: GITHUB_LIST_FOLLOWERS_OF_A_USER\n",
      "\n",
      "{'data': {'details': [{'login': 'Connor9994', 'id': 39637206, 'node_id': 'MDQ6VXNlcjM5NjM3MjA2', 'avatar_url': 'https://avatars.githubusercontent.com/u/39637206?v=4', 'gravatar_id': '', 'url': 'https://api.github.com/users/Connor9994', 'html_url': 'https://github.com/Connor9994', 'followers_url': 'https://api.github.com/users/Connor9994/followers', 'following_url': 'https://api.github.com/users/Connor9994/following{/other_user}', 'gists_url': 'https://api.github.com/users/Connor9994/gists{/gist_id}', 'starred_url': 'https://api.github.com/users/Connor9994/starred{/owner}{/repo}', 'subscriptions_url': 'https://api.github.com/users/Connor9994/subscriptions', 'organizations_url': 'https://api.github.com/users/Connor9994/orgs', 'repos_url': 'https://api.github.com/users/Connor9994/repos', 'events_url': 'https://api.github.com/users/Connor9994/events{/privacy}', 'received_events_url': 'https://api.github.com/users/Connor9994/received_events', 'type': 'User', 'user_view_type': 'public', 'site_admin': False}, {'login': 'arzzahid66', 'id': 56785178, 'node_id': 'MDQ6VXNlcjU2Nzg1MTc4', 'avatar_url': 'https://avatars.githubusercontent.com/u/56785178?v=4', 'gravatar_id': '', 'url': 'https://api.github.com/users/arzzahid66', 'html_url': 'https://github.com/arzzahid66', 'followers_url': 'https://api.github.com/users/arzzahid66/followers', 'following_url': 'https://api.github.com/users/arzzahid66/following{/other_user}', 'gists_url': 'https://api.github.com/users/arzzahid66/gists{/gist_id}', 'starred_url': 'https://api.github.com/users/arzzahid66/starred{/owner}{/repo}', 'subscriptions_url': 'https://api.github.com/users/arzzahid66/subscriptions', 'organizations_url': 'https://api.github.com/users/arzzahid66/orgs', 'repos_url': 'https://api.github.com/users/arzzahid66/repos', 'events_url': 'https://api.github.com/users/arzzahid66/events{/privacy}', 'received_events_url': 'https://api.github.com/users/arzzahid66/received_events', 'type': 'User', 'user_view_type': 'public', 'site_admin': False}, {'login': 'peter-kimanzi', 'id': 71552773, 'node_id': 'MDQ6VXNlcjcxNTUyNzcz', 'avatar_url': 'https://avatars.githubusercontent.com/u/71552773?v=4', 'gravatar_id': '', 'url': 'https://api.github.com/users/peter-kimanzi', 'html_url': 'https://github.com/peter-kimanzi', 'followers_url': 'https://api.github.com/users/peter-kimanzi/followers', 'following_url': 'https://api.github.com/users/peter-kimanzi/following{/other_user}', 'gists_url': 'https://api.github.com/users/peter-kimanzi/gists{/gist_id}', 'starred_url': 'https://api.github.com/users/peter-kimanzi/starred{/owner}{/repo}', 'subscriptions_url': 'https://api.github.com/users/peter-kimanzi/subscriptions', 'organizations_url': 'https://api.github.com/users/peter-kimanzi/orgs', 'repos_url': 'https://api.github.com/users/peter-kimanzi/repos', 'events_url': 'https://api.github.com/users/peter-kimanzi/events{/privacy}', 'received_events_url': 'https://api.github.com/users/peter-kimanzi/received_events', 'type': 'User', 'user_view_type': 'public', 'site_admin': False}, {'login': 'noor-ahmad-haral', 'id': 111390547, 'node_id': 'U_kgDOBqOvUw', 'avatar_url': 'https://avatars.githubusercontent.com/u/111390547?v=4', 'gravatar_id': '', 'url': 'https://api.github.com/users/noor-ahmad-haral', 'html_url': 'https://github.com/noor-ahmad-haral', 'followers_url': 'https://api.github.com/users/noor-ahmad-haral/followers', 'following_url': 'https://api.github.com/users/noor-ahmad-haral/following{/other_user}', 'gists_url': 'https://api.github.com/users/noor-ahmad-haral/gists{/gist_id}', 'starred_url': 'https://api.github.com/users/noor-ahmad-haral/starred{/owner}{/repo}', 'subscriptions_url': 'https://api.github.com/users/noor-ahmad-haral/subscriptions', 'organizations_url': 'https://api.github.com/users/noor-ahmad-haral/orgs', 'repos_url': 'https://api.github.com/users/noor-ahmad-haral/repos', 'events_url': 'https://api.github.com/users/noor-ahmad-haral/events{/privacy}', 'received_events_url': 'https://api.github.com/users/noor-ahmad-haral/received_events', 'type': 'User', 'user_view_type': 'public', 'site_admin': False}, {'login': 'RazMuhammad', 'id': 123536514, 'node_id': 'U_kgDOB10Egg', 'avatar_url': 'https://avatars.githubusercontent.com/u/123536514?v=4', 'gravatar_id': '', 'url': 'https://api.github.com/users/RazMuhammad', 'html_url': 'https://github.com/RazMuhammad', 'followers_url': 'https://api.github.com/users/RazMuhammad/followers', 'following_url': 'https://api.github.com/users/RazMuhammad/following{/other_user}', 'gists_url': 'https://api.github.com/users/RazMuhammad/gists{/gist_id}', 'starred_url': 'https://api.github.com/users/RazMuhammad/starred{/owner}{/repo}', 'subscriptions_url': 'https://api.github.com/users/RazMuhammad/subscriptions', 'organizations_url': 'https://api.github.com/users/RazMuhammad/orgs', 'repos_url': 'https://api.github.com/users/RazMuhammad/repos', 'events_url': 'https://api.github.com/users/RazMuhammad/events{/privacy}', 'received_events_url': 'https://api.github.com/users/RazMuhammad/received_events', 'type': 'User', 'user_view_type': 'public', 'site_admin': False}, {'login': 'shoebahmed111', 'id': 160228708, 'node_id': 'U_kgDOCYzlZA', 'avatar_url': 'https://avatars.githubusercontent.com/u/160228708?v=4', 'gravatar_id': '', 'url': 'https://api.github.com/users/shoebahmed111', 'html_url': 'https://github.com/shoebahmed111', 'followers_url': 'https://api.github.com/users/shoebahmed111/followers', 'following_url': 'https://api.github.com/users/shoebahmed111/following{/other_user}', 'gists_url': 'https://api.github.com/users/shoebahmed111/gists{/gist_id}', 'starred_url': 'https://api.github.com/users/shoebahmed111/starred{/owner}{/repo}', 'subscriptions_url': 'https://api.github.com/users/shoebahmed111/subscriptions', 'organizations_url': 'https://api.github.com/users/shoebahmed111/orgs', 'repos_url': 'https://api.github.com/users/shoebahmed111/repos', 'events_url': 'https://api.github.com/users/shoebahmed111/events{/privacy}', 'received_events_url': 'https://api.github.com/users/shoebahmed111/received_events', 'type': 'User', 'user_view_type': 'public', 'site_admin': False}, {'login': 'Arjun-Menon2110', 'id': 174996675, 'node_id': 'U_kgDOCm48ww', 'avatar_url': 'https://avatars.githubusercontent.com/u/174996675?v=4', 'gravatar_id': '', 'url': 'https://api.github.com/users/Arjun-Menon2110', 'html_url': 'https://github.com/Arjun-Menon2110', 'followers_url': 'https://api.github.com/users/Arjun-Menon2110/followers', 'following_url': 'https://api.github.com/users/Arjun-Menon2110/following{/other_user}', 'gists_url': 'https://api.github.com/users/Arjun-Menon2110/gists{/gist_id}', 'starred_url': 'https://api.github.com/users/Arjun-Menon2110/starred{/owner}{/repo}', 'subscriptions_url': 'https://api.github.com/users/Arjun-Menon2110/subscriptions', 'organizations_url': 'https://api.github.com/users/Arjun-Menon2110/orgs', 'repos_url': 'https://api.github.com/users/Arjun-Menon2110/repos', 'events_url': 'https://api.github.com/users/Arjun-Menon2110/events{/privacy}', 'received_events_url': 'https://api.github.com/users/Arjun-Menon2110/received_events', 'type': 'User', 'user_view_type': 'public', 'site_admin': False}, {'login': 'NainTara-GenAI', 'id': 175704175, 'node_id': 'U_kgDOCnkIbw', 'avatar_url': 'https://avatars.githubusercontent.com/u/175704175?v=4', 'gravatar_id': '', 'url': 'https://api.github.com/users/NainTara-GenAI', 'html_url': 'https://github.com/NainTara-GenAI', 'followers_url': 'https://api.github.com/users/NainTara-GenAI/followers', 'following_url': 'https://api.github.com/users/NainTara-GenAI/following{/other_user}', 'gists_url': 'https://api.github.com/users/NainTara-GenAI/gists{/gist_id}', 'starred_url': 'https://api.github.com/users/NainTara-GenAI/starred{/owner}{/repo}', 'subscriptions_url': 'https://api.github.com/users/NainTara-GenAI/subscriptions', 'organizations_url': 'https://api.github.com/users/NainTara-GenAI/orgs', 'repos_url': 'https://api.github.com/users/NainTara-GenAI/repos', 'events_url': 'https://api.github.com/users/NainTara-GenAI/events{/privacy}', 'received_events_url': 'https://api.github.com/users/NainTara-GenAI/received_events', 'type': 'User', 'user_view_type': 'public', 'site_admin': False}, {'login': 'emanzahid17', 'id': 180431710, 'node_id': 'U_kgDOCsErXg', 'avatar_url': 'https://avatars.githubusercontent.com/u/180431710?v=4', 'gravatar_id': '', 'url': 'https://api.github.com/users/emanzahid17', 'html_url': 'https://github.com/emanzahid17', 'followers_url': 'https://api.github.com/users/emanzahid17/followers', 'following_url': 'https://api.github.com/users/emanzahid17/following{/other_user}', 'gists_url': 'https://api.github.com/users/emanzahid17/gists{/gist_id}', 'starred_url': 'https://api.github.com/users/emanzahid17/starred{/owner}{/repo}', 'subscriptions_url': 'https://api.github.com/users/emanzahid17/subscriptions', 'organizations_url': 'https://api.github.com/users/emanzahid17/orgs', 'repos_url': 'https://api.github.com/users/emanzahid17/repos', 'events_url': 'https://api.github.com/users/emanzahid17/events{/privacy}', 'received_events_url': 'https://api.github.com/users/emanzahid17/received_events', 'type': 'User', 'user_view_type': 'public', 'site_admin': False}]}, 'error': None, 'successfull': True, 'successful': True}\n",
      "==================================\u001b[1m Ai Message \u001b[0m==================================\n",
      "\n",
      "Your followers on GitHub are:\n",
      "\n",
      "1. Connor9994\n",
      "2. arzzahid66\n",
      "3. peter-kimanzi\n",
      "4. noor-ahmad-haral\n",
      "5. RazMuhammad\n",
      "6. shoebahmed111\n",
      "7. Arjun-Menon2110\n",
      "8. NainTara-GenAI\n",
      "9. emanzahid17\n",
      "\n",
      "These users are following your account on GitHub.\n"
     ]
    }
   ],
   "source": [
    "for chunk in github_graph.stream(\n",
    "    Command(resume=\"y\"),\n",
    "    config=config,\n",
    "    stream_mode=\"values\"\n",
    "):\n",
    "    response_message = chunk.get(\"messages\")[-1]\n",
    "    if hasattr(response_message, 'content'):\n",
    "        response_message.pretty_print()\n",
    "    else:\n",
    "        print(chunk)"
   ]
  },
  {
   "cell_type": "code",
   "execution_count": 16,
   "metadata": {},
   "outputs": [
    {
     "name": "stdout",
     "output_type": "stream",
     "text": [
      "================================\u001b[1m Human Message \u001b[0m=================================\n",
      "\n",
      "Give me their github links\n",
      "==================================\u001b[1m Ai Message \u001b[0m==================================\n",
      "\n",
      "Here are the GitHub links for your followers:\n",
      "\n",
      "1. Connor9994 - https://github.com/Connor9994\n",
      "2. arzzahid66 - https://github.com/arzzahid66\n",
      "3. peter-kimanzi - https://github.com/peter-kimanzi\n",
      "4. noor-ahmad-haral - https://github.com/noor-ahmad-haral\n",
      "5. RazMuhammad - https://github.com/RazMuhammad\n",
      "6. shoebahmed111 - https://github.com/shoebahmed111\n",
      "7. Arjun-Menon2110 - https://github.com/Arjun-Menon2110\n",
      "8. NainTara-GenAI - https://github.com/NainTara-GenAI\n",
      "9. emanzahid17 - https://github.com/emanzahid17\n"
     ]
    }
   ],
   "source": [
    "for chunk in github_graph.stream(\n",
    "    {\"messages\": [HumanMessage(content=\"Give me their github links\")]},\n",
    "    config=config,\n",
    "    stream_mode=\"values\"\n",
    "):\n",
    "    response_message = chunk[\"messages\"][-1]\n",
    "    if hasattr(response_message, 'content'):\n",
    "        response_message.pretty_print()\n"
   ]
  },
  {
   "cell_type": "code",
   "execution_count": 35,
   "metadata": {},
   "outputs": [
    {
     "name": "stdout",
     "output_type": "stream",
     "text": [
      "================================\u001b[1m Human Message \u001b[0m=================================\n",
      "\n",
      "Which repos have I starred?\n",
      "==================================\u001b[1m Ai Message \u001b[0m==================================\n",
      "Tool Calls:\n",
      "  GITHUB_LIST_REPOSITORIES_STARRED_BY_A_USER (bd0ced12-a8d7-493c-acc4-04b0e93afa4a)\n",
      " Call ID: bd0ced12-a8d7-493c-acc4-04b0e93afa4a\n",
      "  Args:\n",
      "    username: aasherkamal216\n"
     ]
    }
   ],
   "source": [
    "config = {\"configurable\": {\"thread_id\": \"2\"}}\n",
    "for chunk in github_graph.stream(\n",
    "    {\"messages\": [HumanMessage(content=\"Which repos have I starred?\")]},\n",
    "    config=config,\n",
    "    stream_mode=\"values\"\n",
    "):\n",
    "    response_message = chunk[\"messages\"][-1]\n",
    "    if hasattr(response_message, 'content'):\n",
    "        response_message.pretty_print()\n"
   ]
  },
  {
   "cell_type": "code",
   "execution_count": 36,
   "metadata": {},
   "outputs": [
    {
     "name": "stdout",
     "output_type": "stream",
     "text": [
      "==================================\u001b[1m Ai Message \u001b[0m==================================\n",
      "Tool Calls:\n",
      "  GITHUB_LIST_REPOSITORIES_STARRED_BY_A_USER (bd0ced12-a8d7-493c-acc4-04b0e93afa4a)\n",
      " Call ID: bd0ced12-a8d7-493c-acc4-04b0e93afa4a\n",
      "  Args:\n",
      "    username: aasherkamal216\n",
      "=================================\u001b[1m Tool Message \u001b[0m=================================\n",
      "Name: GITHUB_LIST_REPOSITORIES_STARRED_BY_A_USER\n",
      "\n",
      "{'data': {'details': [{'id': 899753684, 'node_id': 'R_kgDONaEm1A', 'name': 'reply_gAI', 'full_name': 'langchain-ai/reply_gAI', 'private': False, 'owner': {'login': 'langchain-ai', 'id': 126733545, 'node_id': 'O_kgDOB43M6Q', 'avatar_url': 'https://avatars.githubusercontent.com/u/126733545?v=4', 'gravatar_id': '', 'url': 'https://api.github.com/users/langchain-ai', 'html_url': 'https://github.com/langchain-ai', 'followers_url': 'https://api.github.com/users/langchain-ai/followers', 'following_url': 'https://api.github.com/users/langchain-ai/following{/other_user}', 'gists_url': 'https://api.github.com/users/langchain-ai/gists{/gist_id}', 'starred_url': 'https://api.github.com/users/langchain-ai/starred{/owner}{/repo}', 'subscriptions_url': 'https://api.github.com/users/langchain-ai/subscriptions', 'organizations_url': 'https://api.github.com/users/langchain-ai/orgs', 'repos_url': 'https://api.github.com/users/langchain-ai/repos', 'events_url': 'https://api.github.com/users/langchain-ai/events{/privacy}', 'received_events_url': 'https://api.github.com/users/langchain-ai/received_events', 'type': 'Organization', 'user_view_type': 'public', 'site_admin': False}, 'html_url': 'https://github.com/langchain-ai/reply_gAI', 'description': 'An AI Clone For Any X Profile', 'fork': False, 'url': 'https://api.github.com/repos/langchain-ai/reply_gAI', 'forks_url': 'https://api.github.com/repos/langchain-ai/reply_gAI/forks', 'keys_url': 'https://api.github.com/repos/langchain-ai/reply_gAI/keys{/key_id}', 'collaborators_url': 'https://api.github.com/repos/langchain-ai/reply_gAI/collaborators{/collaborator}', 'teams_url': 'https://api.github.com/repos/langchain-ai/reply_gAI/teams', 'hooks_url': 'https://api.github.com/repos/langchain-ai/reply_gAI/hooks', 'issue_events_url': 'https://api.github.com/repos/langchain-ai/reply_gAI/issues/events{/number}', 'events_url': 'https://api.github.com/repos/langchain-ai/reply_gAI/events', 'assignees_url': 'https://api.github.com/repos/langchain-ai/reply_gAI/assignees{/user}', 'branches_url': 'https://api.github.com/repos/langchain-ai/reply_gAI/branches{/branch}', 'tags_url': 'https://api.github.com/repos/langchain-ai/reply_gAI/tags', 'blobs_url': 'https://api.github.com/repos/langchain-ai/reply_gAI/git/blobs{/sha}', 'git_tags_url': 'https://api.github.com/repos/langchain-ai/reply_gAI/git/tags{/sha}', 'git_refs_url': 'https://api.github.com/repos/langchain-ai/reply_gAI/git/refs{/sha}', 'trees_url': 'https://api.github.com/repos/langchain-ai/reply_gAI/git/trees{/sha}', 'statuses_url': 'https://api.github.com/repos/langchain-ai/reply_gAI/statuses/{sha}', 'languages_url': 'https://api.github.com/repos/langchain-ai/reply_gAI/languages', 'stargazers_url': 'https://api.github.com/repos/langchain-ai/reply_gAI/stargazers', 'contributors_url': 'https://api.github.com/repos/langchain-ai/reply_gAI/contributors', 'subscribers_url': 'https://api.github.com/repos/langchain-ai/reply_gAI/subscribers', 'subscription_url': 'https://api.github.com/repos/langchain-ai/reply_gAI/subscription', 'commits_url': 'https://api.github.com/repos/langchain-ai/reply_gAI/commits{/sha}', 'git_commits_url': 'https://api.github.com/repos/langchain-ai/reply_gAI/git/commits{/sha}', 'comments_url': 'https://api.github.com/repos/langchain-ai/reply_gAI/comments{/number}', 'issue_comment_url': 'https://api.github.com/repos/langchain-ai/reply_gAI/issues/comments{/number}', 'contents_url': 'https://api.github.com/repos/langchain-ai/reply_gAI/contents/{+path}', 'compare_url': 'https://api.github.com/repos/langchain-ai/reply_gAI/compare/{base}...{head}', 'merges_url': 'https://api.github.com/repos/langchain-ai/reply_gAI/merges', 'archive_url': 'https://api.github.com/repos/langchain-ai/reply_gAI/{archive_format}{/ref}', 'downloads_url': 'https://api.github.com/repos/langchain-ai/reply_gAI/downloads', 'issues_url': 'https://api.github.com/repos/langchain-ai/reply_gAI/issues{/number}', 'pulls_url': 'https://api.github.com/repos/langchain-ai/reply_gAI/pulls{/number}', 'milestones_url': 'https://api.github.com/repos/langchain-ai/reply_gAI/milestones{/number}', 'notifications_url': 'https://api.github.com/repos/langchain-ai/reply_gAI/notifications{?since,all,participating}', 'labels_url': 'https://api.github.com/repos/langchain-ai/reply_gAI/labels{/name}', 'releases_url': 'https://api.github.com/repos/langchain-ai/reply_gAI/releases{/id}', 'deployments_url': 'https://api.github.com/repos/langchain-ai/reply_gAI/deployments', 'created_at': '2024-12-07T00:00:40Z', 'updated_at': '2025-02-10T20:43:14Z', 'pushed_at': '2024-12-12T04:56:23Z', 'git_url': 'git://github.com/langchain-ai/reply_gAI.git', 'ssh_url': 'git@github.com:langchain-ai/reply_gAI.git', 'clone_url': 'https://github.com/langchain-ai/reply_gAI.git', 'svn_url': 'https://github.com/langchain-ai/reply_gAI', 'homepage': '', 'size': 28, 'stargazers_count': 76, 'watchers_count': 76, 'language': 'Jupyter Notebook', 'has_issues': True, 'has_projects': True, 'has_downloads': True, 'has_wiki': True, 'has_pages': False, 'has_discussions': False, 'forks_count': 17, 'mirror_url': None, 'archived': False, 'disabled': False, 'open_issues_count': 0, 'license': None, 'allow_forking': True, 'is_template': False, 'web_commit_signoff_required': False, 'topics': [], 'visibility': 'public', 'forks': 17, 'open_issues': 0, 'watchers': 76, 'default_branch': 'main', 'permissions': {'admin': False, 'maintain': False, 'push': False, 'triage': False, 'pull': True}}, {'id': 684718636, 'node_id': 'R_kgDOKM_6LA', 'name': 'RealtimeSTT', 'full_name': 'KoljaB/RealtimeSTT', 'private': False, 'owner': {'login': 'KoljaB', 'id': 7604638, 'node_id': 'MDQ6VXNlcjc2MDQ2Mzg=', 'avatar_url': 'https://avatars.githubusercontent.com/u/7604638?v=4', 'gravatar_id': '', 'url': 'https://api.github.com/users/KoljaB', 'html_url': 'https://github.com/KoljaB', 'followers_url': 'https://api.github.com/users/KoljaB/followers', 'following_url': 'https://api.github.com/users/KoljaB/following{/other_user}', 'gists_url': 'https://api.github.com/users/KoljaB/gists{/gist_id}', 'starred_url': 'https://api.github.com/users/KoljaB/starred{/owner}{/repo}', 'subscriptions_url': 'https://api.github.com/users/KoljaB/subscriptions', 'organizations_url': 'https://api.github.com/users/KoljaB/orgs', 'repos_url': 'https://api.github.com/users/KoljaB/repos', 'events_url': 'https://api.github.com/users/KoljaB/events{/privacy}', 'received_events_url': 'https://api.github.com/users/KoljaB/received_events', 'type': 'User', 'user_view_type': 'public', 'site_admin': False}, 'html_url': 'https://github.com/KoljaB/RealtimeSTT', 'description': 'A robust, efficient, low-latency speech-to-text library with advanced voice activity detection, wake word activation and instant transcription.', 'fork': False, 'url': 'https://api.github.com/repos/KoljaB/RealtimeSTT', 'forks_url': 'https://api.github.com/repos/KoljaB/RealtimeSTT/forks', 'keys_url': 'https://api.github.com/repos/KoljaB/RealtimeSTT/keys{/key_id}', 'collaborators_url': 'https://api.github.com/repos/KoljaB/RealtimeSTT/collaborators{/collaborator}', 'teams_url': 'https://api.github.com/repos/KoljaB/RealtimeSTT/teams', 'hooks_url': 'https://api.github.com/repos/KoljaB/RealtimeSTT/hooks', 'issue_events_url': 'https://api.github.com/repos/KoljaB/RealtimeSTT/issues/events{/number}', 'events_url': 'https://api.github.com/repos/KoljaB/RealtimeSTT/events', 'assignees_url': 'https://api.github.com/repos/KoljaB/RealtimeSTT/assignees{/user}', 'branches_url': 'https://api.github.com/repos/KoljaB/RealtimeSTT/branches{/branch}', 'tags_url': 'https://api.github.com/repos/KoljaB/RealtimeSTT/tags', 'blobs_url': 'https://api.github.com/repos/KoljaB/RealtimeSTT/git/blobs{/sha}', 'git_tags_url': 'https://api.github.com/repos/KoljaB/RealtimeSTT/git/tags{/sha}', 'git_refs_url': 'https://api.github.com/repos/KoljaB/RealtimeSTT/git/refs{/sha}', 'trees_url': 'https://api.github.com/repos/KoljaB/RealtimeSTT/git/trees{/sha}', 'statuses_url': 'https://api.github.com/repos/KoljaB/RealtimeSTT/statuses/{sha}', 'languages_url': 'https://api.github.com/repos/KoljaB/RealtimeSTT/languages', 'stargazers_url': 'https://api.github.com/repos/KoljaB/RealtimeSTT/stargazers', 'contributors_url': 'https://api.github.com/repos/KoljaB/RealtimeSTT/contributors', 'subscribers_url': 'https://api.github.com/repos/KoljaB/RealtimeSTT/subscribers', 'subscription_url': 'https://api.github.com/repos/KoljaB/RealtimeSTT/subscription', 'commits_url': 'https://api.github.com/repos/KoljaB/RealtimeSTT/commits{/sha}', 'git_commits_url': 'https://api.github.com/repos/KoljaB/RealtimeSTT/git/commits{/sha}', 'comments_url': 'https://api.github.com/repos/KoljaB/RealtimeSTT/comments{/number}', 'issue_comment_url': 'https://api.github.com/repos/KoljaB/RealtimeSTT/issues/comments{/number}', 'contents_url': 'https://api.github.com/repos/KoljaB/RealtimeSTT/contents/{+path}', 'compare_url': 'https://api.github.com/repos/KoljaB/RealtimeSTT/compare/{base}...{head}', 'merges_url': 'https://api.github.com/repos/KoljaB/RealtimeSTT/merges', 'archive_url': 'https://api.github.com/repos/KoljaB/RealtimeSTT/{archive_format}{/ref}', 'downloads_url': 'https://api.github.com/repos/KoljaB/RealtimeSTT/downloads', 'issues_url': 'https://api.github.com/repos/KoljaB/RealtimeSTT/issues{/number}', 'pulls_url': 'https://api.github.com/repos/KoljaB/RealtimeSTT/pulls{/number}', 'milestones_url': 'https://api.github.com/repos/KoljaB/RealtimeSTT/milestones{/number}', 'notifications_url': 'https://api.github.com/repos/KoljaB/RealtimeSTT/notifications{?since,all,participating}', 'labels_url': 'https://api.github.com/repos/KoljaB/RealtimeSTT/labels{/name}', 'releases_url': 'https://api.github.com/repos/KoljaB/RealtimeSTT/releases{/id}', 'deployments_url': 'https://api.github.com/repos/KoljaB/RealtimeSTT/deployments', 'created_at': '2023-08-29T17:58:28Z', 'updated_at': '2025-02-12T16:48:41Z', 'pushed_at': '2025-02-02T10:53:48Z', 'git_url': 'git://github.com/KoljaB/RealtimeSTT.git', 'ssh_url': 'git@github.com:KoljaB/RealtimeSTT.git', 'clone_url': 'https://github.com/KoljaB/RealtimeSTT.git', 'svn_url': 'https://github.com/KoljaB/RealtimeSTT', 'homepage': '', 'size': 389, 'stargazers_count': 5749, 'watchers_count': 5749, 'language': 'Python', 'has_issues': True, 'has_projects': True, 'has_downloads': True, 'has_wiki': True, 'has_pages': False, 'has_discussions': True, 'forks_count': 457, 'mirror_url': None, 'archived': False, 'disabled': False, 'open_issues_count': 77, 'license': {'key': 'mit', 'name': 'MIT License', 'spdx_id': 'MIT', 'url': 'https://api.github.com/licenses/mit', 'node_id': 'MDc6TGljZW5zZTEz'}, 'allow_forking': True, 'is_template': False, 'web_commit_signoff_required': False, 'topics': ['python', 'realtime', 'speech-to-text'], 'visibility': 'public', 'forks': 457, 'open_issues': 77, 'watchers': 5749, 'default_branch': 'master', 'permissions': {'admin': False, 'maintain': False, 'push': False, 'triage': False, 'pull': True}}, {'id': 861710275, 'node_id': 'R_kgDOM1ynww', 'name': 'generative-ai', 'full_name': 'MuhammadAhsaanAbbasi/generative-ai', 'private': False, 'owner': {'login': 'MuhammadAhsaanAbbasi', 'id': 142156097, 'node_id': 'U_kgDOCHkhQQ', 'avatar_url': 'https://avatars.githubusercontent.com/u/142156097?v=4', 'gravatar_id': '', 'url': 'https://api.github.com/users/MuhammadAhsaanAbbasi', 'html_url': 'https://github.com/MuhammadAhsaanAbbasi', 'followers_url': 'https://api.github.com/users/MuhammadAhsaanAbbasi/followers', 'following_url': 'https://api.github.com/users/MuhammadAhsaanAbbasi/following{/other_user}', 'gists_url': 'https://api.github.com/users/MuhammadAhsaanAbbasi/gists{/gist_id}', 'starred_url': 'https://api.github.com/users/MuhammadAhsaanAbbasi/starred{/owner}{/repo}', 'subscriptions_url': 'https://api.github.com/users/MuhammadAhsaanAbbasi/subscriptions', 'organizations_url': 'https://api.github.com/users/MuhammadAhsaanAbbasi/orgs', 'repos_url': 'https://api.github.com/users/MuhammadAhsaanAbbasi/repos', 'events_url': 'https://api.github.com/users/MuhammadAhsaanAbbasi/events{/privacy}', 'received_events_url': 'https://api.github.com/users/MuhammadAhsaanAbbasi/received_events', 'type': 'User', 'user_view_type': 'public', 'site_admin': False}, 'html_url': 'https://github.com/MuhammadAhsaanAbbasi/generative-ai', 'description': None, 'fork': False, 'url': 'https://api.github.com/repos/MuhammadAhsaanAbbasi/generative-ai', 'forks_url': 'https://api.github.com/repos/MuhammadAhsaanAbbasi/generative-ai/forks', 'keys_url': 'https://api.github.com/repos/MuhammadAhsaanAbbasi/generative-ai/keys{/key_id}', 'collaborators_url': 'https://api.github.com/repos/MuhammadAhsaanAbbasi/generative-ai/collaborators{/collaborator}', 'teams_url': 'https://api.github.com/repos/MuhammadAhsaanAbbasi/generative-ai/teams', 'hooks_url': 'https://api.github.com/repos/MuhammadAhsaanAbbasi/generative-ai/hooks', 'issue_events_url': 'https://api.github.com/repos/MuhammadAhsaanAbbasi/generative-ai/issues/events{/number}', 'events_url': 'https://api.github.com/repos/MuhammadAhsaanAbbasi/generative-ai/events', 'assignees_url': 'https://api.github.com/repos/MuhammadAhsaanAbbasi/generative-ai/assignees{/user}', 'branches_url': 'https://api.github.com/repos/MuhammadAhsaanAbbasi/generative-ai/branches{/branch}', 'tags_url': 'https://api.github.com/repos/MuhammadAhsaanAbbasi/generative-ai/tags', 'blobs_url': 'https://api.github.com/repos/MuhammadAhsaanAbbasi/generative-ai/git/blobs{/sha}', 'git_tags_url': 'https://api.github.com/repos/MuhammadAhsaanAbbasi/generative-ai/git/tags{/sha}', 'git_refs_url': 'https://api.github.com/repos/MuhammadAhsaanAbbasi/generative-ai/git/refs{/sha}', 'trees_url': 'https://api.github.com/repos/MuhammadAhsaanAbbasi/generative-ai/git/trees{/sha}', 'statuses_url': 'https://api.github.com/repos/MuhammadAhsaanAbbasi/generative-ai/statuses/{sha}', 'languages_url': 'https://api.github.com/repos/MuhammadAhsaanAbbasi/generative-ai/languages', 'stargazers_url': 'https://api.github.com/repos/MuhammadAhsaanAbbasi/generative-ai/stargazers', 'contributors_url': 'https://api.github.com/repos/MuhammadAhsaanAbbasi/generative-ai/contributors', 'subscribers_url': 'https://api.github.com/repos/MuhammadAhsaanAbbasi/generative-ai/subscribers', 'subscription_url': 'https://api.github.com/repos/MuhammadAhsaanAbbasi/generative-ai/subscription', 'commits_url': 'https://api.github.com/repos/MuhammadAhsaanAbbasi/generative-ai/commits{/sha}', 'git_commits_url': 'https://api.github.com/repos/MuhammadAhsaanAbbasi/generative-ai/git/commits{/sha}', 'comments_url': 'https://api.github.com/repos/MuhammadAhsaanAbbasi/generative-ai/comments{/number}', 'issue_comment_url': 'https://api.github.com/repos/MuhammadAhsaanAbbasi/generative-ai/issues/comments{/number}', 'contents_url': 'https://api.github.com/repos/MuhammadAhsaanAbbasi/generative-ai/contents/{+path}', 'compare_url': 'https://api.github.com/repos/MuhammadAhsaanAbbasi/generative-ai/compare/{base}...{head}', 'merges_url': 'https://api.github.com/repos/MuhammadAhsaanAbbasi/generative-ai/merges', 'archive_url': 'https://api.github.com/repos/MuhammadAhsaanAbbasi/generative-ai/{archive_format}{/ref}', 'downloads_url': 'https://api.github.com/repos/MuhammadAhsaanAbbasi/generative-ai/downloads', 'issues_url': 'https://api.github.com/repos/MuhammadAhsaanAbbasi/generative-ai/issues{/number}', 'pulls_url': 'https://api.github.com/repos/MuhammadAhsaanAbbasi/generative-ai/pulls{/number}', 'milestones_url': 'https://api.github.com/repos/MuhammadAhsaanAbbasi/generative-ai/milestones{/number}', 'notifications_url': 'https://api.github.com/repos/MuhammadAhsaanAbbasi/generative-ai/notifications{?since,all,participating}', 'labels_url': 'https://api.github.com/repos/MuhammadAhsaanAbbasi/generative-ai/labels{/name}', 'releases_url': 'https://api.github.com/repos/MuhammadAhsaanAbbasi/generative-ai/releases{/id}', 'deployments_url': 'https://api.github.com/repos/MuhammadAhsaanAbbasi/generative-ai/deployments', 'created_at': '2024-09-23T11:42:20Z', 'updated_at': '2025-02-11T03:06:10Z', 'pushed_at': '2025-02-07T11:05:07Z', 'git_url': 'git://github.com/MuhammadAhsaanAbbasi/generative-ai.git', 'ssh_url': 'git@github.com:MuhammadAhsaanAbbasi/generative-ai.git', 'clone_url': 'https://github.com/MuhammadAhsaanAbbasi/generative-ai.git', 'svn_url': 'https://github.com/MuhammadAhsaanAbbasi/generative-ai', 'homepage': None, 'size': 108008, 'stargazers_count': 145, 'watchers_count': 145, 'language': 'Jupyter Notebook', 'has_issues': True, 'has_projects': True, 'has_downloads': True, 'has_wiki': True, 'has_pages': False, 'has_discussions': False, 'forks_count': 20, 'mirror_url': None, 'archived': False, 'disabled': False, 'open_issues_count': 1, 'license': None, 'allow_forking': True, 'is_template': False, 'web_commit_signoff_required': False, 'topics': [], 'visibility': 'public', 'forks': 20, 'open_issues': 1, 'watchers': 145, 'default_branch': 'main', 'permissions': {'admin': False, 'maintain': False, 'push': False, 'triage': False, 'pull': True}}, {'id': 865062553, 'node_id': 'R_kgDOM4_OmQ', 'name': 'BaseAI', 'full_name': 'LangbaseInc/BaseAI', 'private': False, 'owner': {'login': 'LangbaseInc', 'id': 151507869, 'node_id': 'O_kgDOCQfTnQ', 'avatar_url': 'https://avatars.githubusercontent.com/u/151507869?v=4', 'gravatar_id': '', 'url': 'https://api.github.com/users/LangbaseInc', 'html_url': 'https://github.com/LangbaseInc', 'followers_url': 'https://api.github.com/users/LangbaseInc/followers', 'following_url': 'https://api.github.com/users/LangbaseInc/following{/other_user}', 'gists_url': 'https://api.github.com/users/LangbaseInc/gists{/gist_id}', 'starred_url': 'https://api.github.com/users/LangbaseInc/starred{/owner}{/repo}', 'subscriptions_url': 'https://api.github.com/users/LangbaseInc/subscriptions', 'organizations_url': 'https://api.github.com/users/LangbaseInc/orgs', 'repos_url': 'https://api.github.com/users/LangbaseInc/repos', 'events_url': 'https://api.github.com/users/LangbaseInc/events{/privacy}', 'received_events_url': 'https://api.github.com/users/LangbaseInc/received_events', 'type': 'Organization', 'user_view_type': 'public', 'site_admin': False}, 'html_url': 'https://github.com/LangbaseInc/BaseAI', 'description': 'BaseAI — The Web AI Framework. The easiest way to build serverless autonomous AI agents with memory. Start building local-first, agentic pipes, tools, and memory. Deploy serverless with one command.', 'fork': False, 'url': 'https://api.github.com/repos/LangbaseInc/BaseAI', 'forks_url': 'https://api.github.com/repos/LangbaseInc/BaseAI/forks', 'keys_url': 'https://api.github.com/repos/LangbaseInc/BaseAI/keys{/key_id}', 'collaborators_url': 'https://api.github.com/repos/LangbaseInc/BaseAI/collaborators{/collaborator}', 'teams_url': 'https://api.github.com/repos/LangbaseInc/BaseAI/teams', 'hooks_url': 'https://api.github.com/repos/LangbaseInc/BaseAI/hooks', 'issue_events_url': 'https://api.github.com/repos/LangbaseInc/BaseAI/issues/events{/number}', 'events_url': 'https://api.github.com/repos/LangbaseInc/BaseAI/events', 'assignees_url': 'https://api.github.com/repos/LangbaseInc/BaseAI/assignees{/user}', 'branches_url': 'https://api.github.com/repos/LangbaseInc/BaseAI/branches{/branch}', 'tags_url': 'https://api.github.com/repos/LangbaseInc/BaseAI/tags', 'blobs_url': 'https://api.github.com/repos/LangbaseInc/BaseAI/git/blobs{/sha}', 'git_tags_url': 'https://api.github.com/repos/LangbaseInc/BaseAI/git/tags{/sha}', 'git_refs_url': 'https://api.github.com/repos/LangbaseInc/BaseAI/git/refs{/sha}', 'trees_url': 'https://api.github.com/repos/LangbaseInc/BaseAI/git/trees{/sha}', 'statuses_url': 'https://api.github.com/repos/LangbaseInc/BaseAI/statuses/{sha}', 'languages_url': 'https://api.github.com/repos/LangbaseInc/BaseAI/languages', 'stargazers_url': 'https://api.github.com/repos/LangbaseInc/BaseAI/stargazers', 'contributors_url': 'https://api.github.com/repos/LangbaseInc/BaseAI/contributors', 'subscribers_url': 'https://api.github.com/repos/LangbaseInc/BaseAI/subscribers', 'subscription_url': 'https://api.github.com/repos/LangbaseInc/BaseAI/subscription', 'commits_url': 'https://api.github.com/repos/LangbaseInc/BaseAI/commits{/sha}', 'git_commits_url': 'https://api.github.com/repos/LangbaseInc/BaseAI/git/commits{/sha}', 'comments_url': 'https://api.github.com/repos/LangbaseInc/BaseAI/comments{/number}', 'issue_comment_url': 'https://api.github.com/repos/LangbaseInc/BaseAI/issues/comments{/number}', 'contents_url': 'https://api.github.com/repos/LangbaseInc/BaseAI/contents/{+path}', 'compare_url': 'https://api.github.com/repos/LangbaseInc/BaseAI/compare/{base}...{head}', 'merges_url': 'https://api.github.com/repos/LangbaseInc/BaseAI/merges', 'archive_url': 'https://api.github.com/repos/LangbaseInc/BaseAI/{archive_format}{/ref}', 'downloads_url': 'https://api.github.com/repos/LangbaseInc/BaseAI/downloads', 'issues_url': 'https://api.github.com/repos/LangbaseInc/BaseAI/issues{/number}', 'pulls_url': 'https://api.github.com/repos/LangbaseInc/BaseAI/pulls{/number}', 'milestones_url': 'https://api.github.com/repos/LangbaseInc/BaseAI/milestones{/number}', 'notifications_url': 'https://api.github.com/repos/LangbaseInc/BaseAI/notifications{?since,all,participating}', 'labels_url': 'https://api.github.com/repos/LangbaseInc/BaseAI/labels{/name}', 'releases_url': 'https://api.github.com/repos/LangbaseInc/BaseAI/releases{/id}', 'deployments_url': 'https://api.github.com/repos/LangbaseInc/BaseAI/deployments', 'created_at': '2024-09-29T22:05:49Z', 'updated_at': '2025-02-12T16:32:13Z', 'pushed_at': '2025-01-24T21:55:14Z', 'git_url': 'git://github.com/LangbaseInc/BaseAI.git', 'ssh_url': 'git@github.com:LangbaseInc/BaseAI.git', 'clone_url': 'https://github.com/LangbaseInc/BaseAI.git', 'svn_url': 'https://github.com/LangbaseInc/BaseAI', 'homepage': 'https://BaseAI.dev', 'size': 9310, 'stargazers_count': 897, 'watchers_count': 897, 'language': 'TypeScript', 'has_issues': True, 'has_projects': False, 'has_downloads': True, 'has_wiki': False, 'has_pages': False, 'has_discussions': False, 'forks_count': 72, 'mirror_url': None, 'archived': False, 'disabled': False, 'open_issues_count': 25, 'license': {'key': 'other', 'name': 'Other', 'spdx_id': 'NOASSERTION', 'url': None, 'node_id': 'MDc6TGljZW5zZTA='}, 'allow_forking': True, 'is_template': False, 'web_commit_signoff_required': False, 'topics': ['ai', 'anthropic', 'artificial-intelligence', 'baseai', 'cohere', 'firewor', 'gemini', 'grok', 'groq', 'langbase', 'mistral', 'openai', 'perplexity', 'togetherai', 'xai'], 'visibility': 'public', 'forks': 72, 'open_issues': 25, 'watchers': 897, 'default_branch': 'main', 'permissions': {'admin': False, 'maintain': False, 'push': False, 'triage': False, 'pull': True}}, {'id': 780285715, 'node_id': 'R_kgDOLoI3Ew', 'name': 'youtube-comments', 'full_name': 'omarmohamed286/youtube-comments', 'private': False, 'owner': {'login': 'omarmohamed286', 'id': 125928590, 'node_id': 'U_kgDOB4GEjg', 'avatar_url': 'https://avatars.githubusercontent.com/u/125928590?v=4', 'gravatar_id': '', 'url': 'https://api.github.com/users/omarmohamed286', 'html_url': 'https://github.com/omarmohamed286', 'followers_url': 'https://api.github.com/users/omarmohamed286/followers', 'following_url': 'https://api.github.com/users/omarmohamed286/following{/other_user}', 'gists_url': 'https://api.github.com/users/omarmohamed286/gists{/gist_id}', 'starred_url': 'https://api.github.com/users/omarmohamed286/starred{/owner}{/repo}', 'subscriptions_url': 'https://api.github.com/users/omarmohamed286/subscriptions', 'organizations_url': 'https://api.github.com/users/omarmohamed286/orgs', 'repos_url': 'https://api.github.com/users/omarmohamed286/repos', 'events_url': 'https://api.github.com/users/omarmohamed286/events{/privacy}', 'received_events_url': 'https://api.github.com/users/omarmohamed286/received_events', 'type': 'User', 'user_view_type': 'public', 'site_admin': False}, 'html_url': 'https://github.com/omarmohamed286/youtube-comments', 'description': 'Youtube video comments scraping , classification , visualization.', 'fork': False, 'url': 'https://api.github.com/repos/omarmohamed286/youtube-comments', 'forks_url': 'https://api.github.com/repos/omarmohamed286/youtube-comments/forks', 'keys_url': 'https://api.github.com/repos/omarmohamed286/youtube-comments/keys{/key_id}', 'collaborators_url': 'https://api.github.com/repos/omarmohamed286/youtube-comments/collaborators{/collaborator}', 'teams_url': 'https://api.github.com/repos/omarmohamed286/youtube-comments/teams', 'hooks_url': 'https://api.github.com/repos/omarmohamed286/youtube-comments/hooks', 'issue_events_url': 'https://api.github.com/repos/omarmohamed286/youtube-comments/issues/events{/number}', 'events_url': 'https://api.github.com/repos/omarmohamed286/youtube-comments/events', 'assignees_url': 'https://api.github.com/repos/omarmohamed286/youtube-comments/assignees{/user}', 'branches_url': 'https://api.github.com/repos/omarmohamed286/youtube-comments/branches{/branch}', 'tags_url': 'https://api.github.com/repos/omarmohamed286/youtube-comments/tags', 'blobs_url': 'https://api.github.com/repos/omarmohamed286/youtube-comments/git/blobs{/sha}', 'git_tags_url': 'https://api.github.com/repos/omarmohamed286/youtube-comments/git/tags{/sha}', 'git_refs_url': 'https://api.github.com/repos/omarmohamed286/youtube-comments/git/refs{/sha}', 'trees_url': 'https://api.github.com/repos/omarmohamed286/youtube-comments/git/trees{/sha}', 'statuses_url': 'https://api.github.com/repos/omarmohamed286/youtube-comments/statuses/{sha}', 'languages_url': 'https://api.github.com/repos/omarmohamed286/youtube-comments/languages', 'stargazers_url': 'https://api.github.com/repos/omarmohamed286/youtube-comments/stargazers', 'contributors_url': 'https://api.github.com/repos/omarmohamed286/youtube-comments/contributors', 'subscribers_url': 'https://api.github.com/repos/omarmohamed286/youtube-comments/subscribers', 'subscription_url': 'https://api.github.com/repos/omarmohamed286/youtube-comments/subscription', 'commits_url': 'https://api.github.com/repos/omarmohamed286/youtube-comments/commits{/sha}', 'git_commits_url': 'https://api.github.com/repos/omarmohamed286/youtube-comments/git/commits{/sha}', 'comments_url': 'https://api.github.com/repos/omarmohamed286/youtube-comments/comments{/number}', 'issue_comment_url': 'https://api.github.com/repos/omarmohamed286/youtube-comments/issues/comments{/number}', 'contents_url': 'https://api.github.com/repos/omarmohamed286/youtube-comments/contents/{+path}', 'compare_url': 'https://api.github.com/repos/omarmohamed286/youtube-comments/compare/{base}...{head}', 'merges_url': 'https://api.github.com/repos/omarmohamed286/youtube-comments/merges', 'archive_url': 'https://api.github.com/repos/omarmohamed286/youtube-comments/{archive_format}{/ref}', 'downloads_url': 'https://api.github.com/repos/omarmohamed286/youtube-comments/downloads', 'issues_url': 'https://api.github.com/repos/omarmohamed286/youtube-comments/issues{/number}', 'pulls_url': 'https://api.github.com/repos/omarmohamed286/youtube-comments/pulls{/number}', 'milestones_url': 'https://api.github.com/repos/omarmohamed286/youtube-comments/milestones{/number}', 'notifications_url': 'https://api.github.com/repos/omarmohamed286/youtube-comments/notifications{?since,all,participating}', 'labels_url': 'https://api.github.com/repos/omarmohamed286/youtube-comments/labels{/name}', 'releases_url': 'https://api.github.com/repos/omarmohamed286/youtube-comments/releases{/id}', 'deployments_url': 'https://api.github.com/repos/omarmohamed286/youtube-comments/deployments', 'created_at': '2024-04-01T06:24:35Z', 'updated_at': '2024-06-18T08:26:45Z', 'pushed_at': '2024-04-01T06:30:11Z', 'git_url': 'git://github.com/omarmohamed286/youtube-comments.git', 'ssh_url': 'git@github.com:omarmohamed286/youtube-comments.git', 'clone_url': 'https://github.com/omarmohamed286/youtube-comments.git', 'svn_url': 'https://github.com/omarmohamed286/youtube-comments', 'homepage': None, 'size': 109, 'stargazers_count': 1, 'watchers_count': 1, 'language': 'Jupyter Notebook', 'has_issues': True, 'has_projects': True, 'has_downloads': True, 'has_wiki': True, 'has_pages': False, 'has_discussions': False, 'forks_count': 1, 'mirror_url': None, 'archived': False, 'disabled': False, 'open_issues_count': 0, 'license': None, 'allow_forking': True, 'is_template': False, 'web_commit_signoff_required': False, 'topics': [], 'visibility': 'public', 'forks': 1, 'open_issues': 0, 'watchers': 1, 'default_branch': 'main', 'permissions': {'admin': False, 'maintain': False, 'push': False, 'triage': False, 'pull': True}}, {'id': 684341554, 'node_id': 'R_kgDOKMo5Mg', 'name': 'Gemini', 'full_name': 'kyegomez/Gemini', 'private': False, 'owner': {'login': 'kyegomez', 'id': 98760976, 'node_id': 'U_kgDOBeL5EA', 'avatar_url': 'https://avatars.githubusercontent.com/u/98760976?v=4', 'gravatar_id': '', 'url': 'https://api.github.com/users/kyegomez', 'html_url': 'https://github.com/kyegomez', 'followers_url': 'https://api.github.com/users/kyegomez/followers', 'following_url': 'https://api.github.com/users/kyegomez/following{/other_user}', 'gists_url': 'https://api.github.com/users/kyegomez/gists{/gist_id}', 'starred_url': 'https://api.github.com/users/kyegomez/starred{/owner}{/repo}', 'subscriptions_url': 'https://api.github.com/users/kyegomez/subscriptions', 'organizations_url': 'https://api.github.com/users/kyegomez/orgs', 'repos_url': 'https://api.github.com/users/kyegomez/repos', 'events_url': 'https://api.github.com/users/kyegomez/events{/privacy}', 'received_events_url': 'https://api.github.com/users/kyegomez/received_events', 'type': 'User', 'user_view_type': 'public', 'site_admin': False}, 'html_url': 'https://github.com/kyegomez/Gemini', 'description': 'The open source implementation of Gemini, the model that will \"eclipse ChatGPT\" by Google', 'fork': False, 'url': 'https://api.github.com/repos/kyegomez/Gemini', 'forks_url': 'https://api.github.com/repos/kyegomez/Gemini/forks', 'keys_url': 'https://api.github.com/repos/kyegomez/Gemini/keys{/key_id}', 'collaborators_url': 'https://api.github.com/repos/kyegomez/Gemini/collaborators{/collaborator}', 'teams_url': 'https://api.github.com/repos/kyegomez/Gemini/teams', 'hooks_url': 'https://api.github.com/repos/kyegomez/Gemini/hooks', 'issue_events_url': 'https://api.github.com/repos/kyegomez/Gemini/issues/events{/number}', 'events_url': 'https://api.github.com/repos/kyegomez/Gemini/events', 'assignees_url': 'https://api.github.com/repos/kyegomez/Gemini/assignees{/user}', 'branches_url': 'https://api.github.com/repos/kyegomez/Gemini/branches{/branch}', 'tags_url': 'https://api.github.com/repos/kyegomez/Gemini/tags', 'blobs_url': 'https://api.github.com/repos/kyegomez/Gemini/git/blobs{/sha}', 'git_tags_url': 'https://api.github.com/repos/kyegomez/Gemini/git/tags{/sha}', 'git_refs_url': 'https://api.github.com/repos/kyegomez/Gemini/git/refs{/sha}', 'trees_url': 'https://api.github.com/repos/kyegomez/Gemini/git/trees{/sha}', 'statuses_url': 'https://api.github.com/repos/kyegomez/Gemini/statuses/{sha}', 'languages_url': 'https://api.github.com/repos/kyegomez/Gemini/languages', 'stargazers_url': 'https://api.github.com/repos/kyegomez/Gemini/stargazers', 'contributors_url': 'https://api.github.com/repos/kyegomez/Gemini/contributors', 'subscribers_url': 'https://api.github.com/repos/kyegomez/Gemini/subscribers', 'subscription_url': 'https://api.github.com/repos/kyegomez/Gemini/subscription', 'commits_url': 'https://api.github.com/repos/kyegomez/Gemini/commits{/sha}', 'git_commits_url': 'https://api.github.com/repos/kyegomez/Gemini/git/commits{/sha}', 'comments_url': 'https://api.github.com/repos/kyegomez/Gemini/comments{/number}', 'issue_comment_url': 'https://api.github.com/repos/kyegomez/Gemini/issues/comments{/number}', 'contents_url': 'https://api.github.com/repos/kyegomez/Gemini/contents/{+path}', 'compare_url': 'https://api.github.com/repos/kyegomez/Gemini/compare/{base}...{head}', 'merges_url': 'https://api.github.com/repos/kyegomez/Gemini/merges', 'archive_url': 'https://api.github.com/repos/kyegomez/Gemini/{archive_format}{/ref}', 'downloads_url': 'https://api.github.com/repos/kyegomez/Gemini/downloads', 'issues_url': 'https://api.github.com/repos/kyegomez/Gemini/issues{/number}', 'pulls_url': 'https://api.github.com/repos/kyegomez/Gemini/pulls{/number}', 'milestones_url': 'https://api.github.com/repos/kyegomez/Gemini/milestones{/number}', 'notifications_url': 'https://api.github.com/repos/kyegomez/Gemini/notifications{?since,all,participating}', 'labels_url': 'https://api.github.com/repos/kyegomez/Gemini/labels{/name}', 'releases_url': 'https://api.github.com/repos/kyegomez/Gemini/releases{/id}', 'deployments_url': 'https://api.github.com/repos/kyegomez/Gemini/deployments', 'created_at': '2023-08-29T00:10:58Z', 'updated_at': '2025-02-11T18:15:31Z', 'pushed_at': '2025-02-10T12:33:06Z', 'git_url': 'git://github.com/kyegomez/Gemini.git', 'ssh_url': 'git@github.com:kyegomez/Gemini.git', 'clone_url': 'https://github.com/kyegomez/Gemini.git', 'svn_url': 'https://github.com/kyegomez/Gemini', 'homepage': 'https://discord.gg/GYbXvDGevY', 'size': 681, 'stargazers_count': 445, 'watchers_count': 445, 'language': 'Python', 'has_issues': True, 'has_projects': True, 'has_downloads': True, 'has_wiki': True, 'has_pages': False, 'has_discussions': False, 'forks_count': 56, 'mirror_url': None, 'archived': False, 'disabled': False, 'open_issues_count': 7, 'license': {'key': 'mit', 'name': 'MIT License', 'spdx_id': 'MIT', 'url': 'https://api.github.com/licenses/mit', 'node_id': 'MDc6TGljZW5zZTEz'}, 'allow_forking': True, 'is_template': False, 'web_commit_signoff_required': False, 'topics': ['ai', 'artificial-intelligence', 'gemini', 'gpt4', 'machine-learning', 'ml', 'multi-modality', 'multimodla'], 'visibility': 'public', 'forks': 56, 'open_issues': 7, 'watchers': 445, 'default_branch': 'main', 'permissions': {'admin': False, 'maintain': False, 'push': False, 'triage': False, 'pull': True}}, {'id': 530115491, 'node_id': 'R_kgDOH5jrow', 'name': 'Complete-Deep-Learning-with-Projects-Series-', 'full_name': 'Coder-World04/Complete-Deep-Learning-with-Projects-Series-', 'private': False, 'owner': {'login': 'Coder-World04', 'id': 104568275, 'node_id': 'U_kgDOBjuV0w', 'avatar_url': 'https://avatars.githubusercontent.com/u/104568275?v=4', 'gravatar_id': '', 'url': 'https://api.github.com/users/Coder-World04', 'html_url': 'https://github.com/Coder-World04', 'followers_url': 'https://api.github.com/users/Coder-World04/followers', 'following_url': 'https://api.github.com/users/Coder-World04/following{/other_user}', 'gists_url': 'https://api.github.com/users/Coder-World04/gists{/gist_id}', 'starred_url': 'https://api.github.com/users/Coder-World04/starred{/owner}{/repo}', 'subscriptions_url': 'https://api.github.com/users/Coder-World04/subscriptions', 'organizations_url': 'https://api.github.com/users/Coder-World04/orgs', 'repos_url': 'https://api.github.com/users/Coder-World04/repos', 'events_url': 'https://api.github.com/users/Coder-World04/events{/privacy}', 'received_events_url': 'https://api.github.com/users/Coder-World04/received_events', 'type': 'User', 'user_view_type': 'public', 'site_admin': False}, 'html_url': 'https://github.com/Coder-World04/Complete-Deep-Learning-with-Projects-Series-', 'description': 'This repository contains everything you need to become proficient in Deep Learning', 'fork': False, 'url': 'https://api.github.com/repos/Coder-World04/Complete-Deep-Learning-with-Projects-Series-', 'forks_url': 'https://api.github.com/repos/Coder-World04/Complete-Deep-Learning-with-Projects-Series-/forks', 'keys_url': 'https://api.github.com/repos/Coder-World04/Complete-Deep-Learning-with-Projects-Series-/keys{/key_id}', 'collaborators_url': 'https://api.github.com/repos/Coder-World04/Complete-Deep-Learning-with-Projects-Series-/collaborators{/collaborator}', 'teams_url': 'https://api.github.com/repos/Coder-World04/Complete-Deep-Learning-with-Projects-Series-/teams', 'hooks_url': 'https://api.github.com/repos/Coder-World04/Complete-Deep-Learning-with-Projects-Series-/hooks', 'issue_events_url': 'https://api.github.com/repos/Coder-World04/Complete-Deep-Learning-with-Projects-Series-/issues/events{/number}', 'events_url': 'https://api.github.com/repos/Coder-World04/Complete-Deep-Learning-with-Projects-Series-/events', 'assignees_url': 'https://api.github.com/repos/Coder-World04/Complete-Deep-Learning-with-Projects-Series-/assignees{/user}', 'branches_url': 'https://api.github.com/repos/Coder-World04/Complete-Deep-Learning-with-Projects-Series-/branches{/branch}', 'tags_url': 'https://api.github.com/repos/Coder-World04/Complete-Deep-Learning-with-Projects-Series-/tags', 'blobs_url': 'https://api.github.com/repos/Coder-World04/Complete-Deep-Learning-with-Projects-Series-/git/blobs{/sha}', 'git_tags_url': 'https://api.github.com/repos/Coder-World04/Complete-Deep-Learning-with-Projects-Series-/git/tags{/sha}', 'git_refs_url': 'https://api.github.com/repos/Coder-World04/Complete-Deep-Learning-with-Projects-Series-/git/refs{/sha}', 'trees_url': 'https://api.github.com/repos/Coder-World04/Complete-Deep-Learning-with-Projects-Series-/git/trees{/sha}', 'statuses_url': 'https://api.github.com/repos/Coder-World04/Complete-Deep-Learning-with-Projects-Series-/statuses/{sha}', 'languages_url': 'https://api.github.com/repos/Coder-World04/Complete-Deep-Learning-with-Projects-Series-/languages', 'stargazers_url': 'https://api.github.com/repos/Coder-World04/Complete-Deep-Learning-with-Projects-Series-/stargazers', 'contributors_url': 'https://api.github.com/repos/Coder-World04/Complete-Deep-Learning-with-Projects-Series-/contributors', 'subscribers_url': 'https://api.github.com/repos/Coder-World04/Complete-Deep-Learning-with-Projects-Series-/subscribers', 'subscription_url': 'https://api.github.com/repos/Coder-World04/Complete-Deep-Learning-with-Projects-Series-/subscription', 'commits_url': 'https://api.github.com/repos/Coder-World04/Complete-Deep-Learning-with-Projects-Series-/commits{/sha}', 'git_commits_url': 'https://api.github.com/repos/Coder-World04/Complete-Deep-Learning-with-Projects-Series-/git/commits{/sha}', 'comments_url': 'https://api.github.com/repos/Coder-World04/Complete-Deep-Learning-with-Projects-Series-/comments{/number}', 'issue_comment_url': 'https://api.github.com/repos/Coder-World04/Complete-Deep-Learning-with-Projects-Series-/issues/comments{/number}', 'contents_url': 'https://api.github.com/repos/Coder-World04/Complete-Deep-Learning-with-Projects-Series-/contents/{+path}', 'compare_url': 'https://api.github.com/repos/Coder-World04/Complete-Deep-Learning-with-Projects-Series-/compare/{base}...{head}', 'merges_url': 'https://api.github.com/repos/Coder-World04/Complete-Deep-Learning-with-Projects-Series-/merges', 'archive_url': 'https://api.github.com/repos/Coder-World04/Complete-Deep-Learning-with-Projects-Series-/{archive_format}{/ref}', 'downloads_url': 'https://api.github.com/repos/Coder-World04/Complete-Deep-Learning-with-Projects-Series-/downloads', 'issues_url': 'https://api.github.com/repos/Coder-World04/Complete-Deep-Learning-with-Projects-Series-/issues{/number}', 'pulls_url': 'https://api.github.com/repos/Coder-World04/Complete-Deep-Learning-with-Projects-Series-/pulls{/number}', 'milestones_url': 'https://api.github.com/repos/Coder-World04/Complete-Deep-Learning-with-Projects-Series-/milestones{/number}', 'notifications_url': 'https://api.github.com/repos/Coder-World04/Complete-Deep-Learning-with-Projects-Series-/notifications{?since,all,participating}', 'labels_url': 'https://api.github.com/repos/Coder-World04/Complete-Deep-Learning-with-Projects-Series-/labels{/name}', 'releases_url': 'https://api.github.com/repos/Coder-World04/Complete-Deep-Learning-with-Projects-Series-/releases{/id}', 'deployments_url': 'https://api.github.com/repos/Coder-World04/Complete-Deep-Learning-with-Projects-Series-/deployments', 'created_at': '2022-08-29T07:40:33Z', 'updated_at': '2024-12-10T14:10:21Z', 'pushed_at': '2024-01-27T21:44:08Z', 'git_url': 'git://github.com/Coder-World04/Complete-Deep-Learning-with-Projects-Series-.git', 'ssh_url': 'git@github.com:Coder-World04/Complete-Deep-Learning-with-Projects-Series-.git', 'clone_url': 'https://github.com/Coder-World04/Complete-Deep-Learning-with-Projects-Series-.git', 'svn_url': 'https://github.com/Coder-World04/Complete-Deep-Learning-with-Projects-Series-', 'homepage': None, 'size': 9, 'stargazers_count': 91, 'watchers_count': 91, 'language': None, 'has_issues': True, 'has_projects': True, 'has_downloads': True, 'has_wiki': True, 'has_pages': False, 'has_discussions': False, 'forks_count': 18, 'mirror_url': None, 'archived': False, 'disabled': False, 'open_issues_count': 0, 'license': {'key': 'mit', 'name': 'MIT License', 'spdx_id': 'MIT', 'url': 'https://api.github.com/licenses/mit', 'node_id': 'MDc6TGljZW5zZTEz'}, 'allow_forking': True, 'is_template': False, 'web_commit_signoff_required': False, 'topics': [], 'visibility': 'public', 'forks': 18, 'open_issues': 0, 'watchers': 91, 'default_branch': 'main', 'permissions': {'admin': False, 'maintain': False, 'push': False, 'triage': False, 'pull': True}}]}, 'error': None, 'successfull': True, 'successful': True}\n",
      "==================================\u001b[1m Ai Message \u001b[0m==================================\n",
      "\n",
      "Here are some of the repositories you've starred:\n",
      "\n",
      "- `langchain-ai/reply_gAI`: An AI Clone For Any X Profile\n",
      "- `KoljaB/RealtimeSTT`: A robust, efficient, low-latency speech-to-text library with advanced voice activity detection, wake word activation and instant transcription.\n",
      "- `MuhammadAhsaanAbbasi/generative-ai`\n",
      "- `LangbaseInc/BaseAI`: BaseAI — The Web AI Framework. The easiest way to build serverless autonomous AI agents with memory. Start building local-first, agentic pipes, tools, and memory. Deploy serverless with one command.\n",
      "- `omarmohamed286/youtube-comments`: Youtube video comments scraping , classification , visualization.\n"
     ]
    }
   ],
   "source": [
    "for chunk in github_graph.stream(\n",
    "    Command(resume=\"y\"),\n",
    "    config=config,\n",
    "    stream_mode=\"values\"\n",
    "):\n",
    "    response_message = chunk.get(\"messages\")[-1]\n",
    "    if hasattr(response_message, 'content'):\n",
    "        response_message.pretty_print()\n",
    "    else:\n",
    "        print(chunk)"
   ]
  }
 ],
 "metadata": {
  "kernelspec": {
   "display_name": ".venv",
   "language": "python",
   "name": "python3"
  },
  "language_info": {
   "codemirror_mode": {
    "name": "ipython",
    "version": 3
   },
   "file_extension": ".py",
   "mimetype": "text/x-python",
   "name": "python",
   "nbconvert_exporter": "python",
   "pygments_lexer": "ipython3",
   "version": "3.12.8"
  }
 },
 "nbformat": 4,
 "nbformat_minor": 2
}
