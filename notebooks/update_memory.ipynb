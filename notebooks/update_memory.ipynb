{
 "cells": [
  {
   "cell_type": "markdown",
   "metadata": {},
   "source": [
    "# Long Term Memory"
   ]
  },
  {
   "cell_type": "code",
   "execution_count": 6,
   "metadata": {},
   "outputs": [],
   "source": [
    "import os, dotenv\n",
    "\n",
    "dotenv.load_dotenv()\n",
    "\n",
    "os.environ[\"GOOGLE_API_KEY\"] = os.getenv(\"GOOGLE_API_KEY\")\n",
    "os.environ[\"GROQ_API_KEY\"] = os.getenv(\"GROQ_API_KEY\")\n",
    "os.environ[\"COHERE_API_KEY\"] = os.getenv(\"COHERE_API_KEY\")"
   ]
  },
  {
   "cell_type": "code",
   "execution_count": 16,
   "metadata": {},
   "outputs": [],
   "source": [
    "from langchain_cohere.embeddings import  CohereEmbeddings\n",
    "\n",
    "model = CohereEmbeddings(model=\"embed-multilingual-v3.0\")"
   ]
  },
  {
   "cell_type": "code",
   "execution_count": 19,
   "metadata": {},
   "outputs": [],
   "source": [
    "from langgraph.prebuilt import create_react_agent\n",
    "from langgraph.store.memory import InMemoryStore\n",
    "from langmem import create_manage_memory_tool, create_search_memory_tool\n",
    "\n",
    "# Set up store and memory saver\n",
    "store = InMemoryStore(\n",
    "    index={\n",
    "        \"dims\": 1024,\n",
    "        \"embed\": \"cohere:embed-multilingual-v3.0\",\n",
    "    }\n",
    ") #"
   ]
  },
  {
   "cell_type": "code",
   "execution_count": 21,
   "metadata": {},
   "outputs": [],
   "source": [
    "# Create agent with memory tools\n",
    "agent = create_react_agent(\n",
    "    \"google_genai:gemini-2.0-flash\",\n",
    "    tools=[\n",
    "        # Configure memory tools with runtime namespace \n",
    "        create_manage_memory_tool(namespace=(\"memories\", \"216\")),\n",
    "        create_search_memory_tool(namespace=(\"memories\", \"216\")),\n",
    "    ],\n",
    "    store=store,\n",
    ")"
   ]
  },
  {
   "cell_type": "code",
   "execution_count": 33,
   "metadata": {},
   "outputs": [
    {
     "data": {
      "text/plain": [
       "{'messages': [HumanMessage(content='I am Aasher, remember it. ALso I like Pizza', additional_kwargs={}, response_metadata={}, id='875d5b33-14e5-48cc-b28c-e0b3cbcca7c9'),\n",
       "  AIMessage(content='', additional_kwargs={'function_call': {'name': 'manage_memory', 'arguments': '{\"content\": \"The user is Aasher and he likes Pizza.\", \"action\": \"create\"}'}}, response_metadata={'prompt_feedback': {'block_reason': 0, 'safety_ratings': []}, 'finish_reason': 'STOP', 'safety_ratings': []}, id='run-b5196f8a-9d24-44b9-8788-9bec425936dd-0', tool_calls=[{'name': 'manage_memory', 'args': {'content': 'The user is Aasher and he likes Pizza.', 'action': 'create'}, 'id': 'a7ce200f-668f-47bc-a8de-041cc86999e9', 'type': 'tool_call'}], usage_metadata={'input_tokens': 145, 'output_tokens': 16, 'total_tokens': 161, 'input_token_details': {'cache_read': 0}}),\n",
       "  ToolMessage(content='created memory 026a4eaa-7abf-4d2d-966d-48c23ba83f18', name='manage_memory', id='cf33f446-bac7-4d54-88dd-e218a27337b6', tool_call_id='a7ce200f-668f-47bc-a8de-041cc86999e9'),\n",
       "  AIMessage(content=\"OK. I've saved that you are Aasher and that you like Pizza.\\n```\", additional_kwargs={}, response_metadata={'prompt_feedback': {'block_reason': 0, 'safety_ratings': []}, 'finish_reason': 'STOP', 'safety_ratings': []}, id='run-898ba973-c9f7-4f94-94b3-c331b2448497-0', usage_metadata={'input_tokens': 200, 'output_tokens': 19, 'total_tokens': 219, 'input_token_details': {'cache_read': 0}})]}"
      ]
     },
     "execution_count": 33,
     "metadata": {},
     "output_type": "execute_result"
    }
   ],
   "source": [
    "agent.invoke({\"messages\": [{\"role\": \"user\", \"content\": \"I am Aasher, remember it. ALso I like Pizza\"}]})"
   ]
  },
  {
   "cell_type": "code",
   "execution_count": 40,
   "metadata": {},
   "outputs": [
    {
     "data": {
      "text/plain": [
       "{'messages': [HumanMessage(content='What do you know anout me', additional_kwargs={}, response_metadata={}, id='29e3f526-d998-4398-97ee-7b23505bcbec'),\n",
       "  AIMessage(content='', additional_kwargs={'function_call': {'name': 'search_memory', 'arguments': '{\"query\": \"user\"}'}}, response_metadata={'prompt_feedback': {'block_reason': 0, 'safety_ratings': []}, 'finish_reason': 'STOP', 'safety_ratings': []}, id='run-737df022-17dc-44be-9826-5d33a417aec7-0', tool_calls=[{'name': 'search_memory', 'args': {'query': 'user'}, 'id': 'cdf01453-53cb-40cd-a414-f637d8534b78', 'type': 'tool_call'}], usage_metadata={'input_tokens': 139, 'output_tokens': 5, 'total_tokens': 144, 'input_token_details': {'cache_read': 0}}),\n",
       "  ToolMessage(content='[{\"namespace\": [\"memories\", \"216\"], \"key\": \"db9e7b9f-13b5-494c-bcef-2a21d7455c31\", \"value\": {\"content\": \"The user is Aasher.\"}, \"created_at\": \"2025-02-15T10:03:07.796426+00:00\", \"updated_at\": \"2025-02-15T10:03:07.796426+00:00\", \"score\": 0.4937777624591205}, {\"namespace\": [\"memories\", \"216\"], \"key\": \"026a4eaa-7abf-4d2d-966d-48c23ba83f18\", \"value\": {\"content\": \"The user is Aasher and he likes Pizza.\"}, \"created_at\": \"2025-02-15T10:07:41.303316+00:00\", \"updated_at\": \"2025-02-15T10:07:41.303316+00:00\", \"score\": 0.44199946601002943}]', name='search_memory', id='e93ef193-8912-4d56-bd89-acb2cb7334b0', tool_call_id='cdf01453-53cb-40cd-a414-f637d8534b78'),\n",
       "  AIMessage(content='I know you are Aasher and you like Pizza.', additional_kwargs={}, response_metadata={'prompt_feedback': {'block_reason': 0, 'safety_ratings': []}, 'finish_reason': 'STOP', 'safety_ratings': []}, id='run-4dc31e4d-9b02-4986-9b1a-b91a2552ab38-0', usage_metadata={'input_tokens': 387, 'output_tokens': 12, 'total_tokens': 399, 'input_token_details': {'cache_read': 0}})]}"
      ]
     },
     "execution_count": 40,
     "metadata": {},
     "output_type": "execute_result"
    }
   ],
   "source": [
    "agent.invoke({\"messages\": [{\"role\": \"user\", \"content\": \"What do you know about me\"}]})"
   ]
  },
  {
   "cell_type": "code",
   "execution_count": 37,
   "metadata": {},
   "outputs": [
    {
     "data": {
      "text/plain": [
       "[Item(namespace=['memories', '216'], key='026a4eaa-7abf-4d2d-966d-48c23ba83f18', value={'content': 'The user is Aasher and he likes Pizza.'}, created_at='2025-02-15T10:07:41.303316+00:00', updated_at='2025-02-15T10:07:41.303316+00:00', score=0.4310282980827379)]"
      ]
     },
     "execution_count": 37,
     "metadata": {},
     "output_type": "execute_result"
    }
   ],
   "source": [
    "# Search for semantically similar documents\n",
    "store.search(\n",
    "    (\"memories\", \"216\"),\n",
    "    query=\"What are user preferences\",\n",
    "    limit=1)"
   ]
  }
 ],
 "metadata": {
  "kernelspec": {
   "display_name": ".venv",
   "language": "python",
   "name": "python3"
  },
  "language_info": {
   "codemirror_mode": {
    "name": "ipython",
    "version": 3
   },
   "file_extension": ".py",
   "mimetype": "text/x-python",
   "name": "python",
   "nbconvert_exporter": "python",
   "pygments_lexer": "ipython3",
   "version": "3.12.8"
  }
 },
 "nbformat": 4,
 "nbformat_minor": 2
}
