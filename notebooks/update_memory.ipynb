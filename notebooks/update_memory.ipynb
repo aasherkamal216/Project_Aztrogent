{
 "cells": [
  {
   "cell_type": "markdown",
   "metadata": {},
   "source": [
    "# **Long Term Memory**"
   ]
  },
  {
   "cell_type": "code",
   "execution_count": 6,
   "metadata": {},
   "outputs": [],
   "source": [
    "import os, dotenv\n",
    "\n",
    "dotenv.load_dotenv()\n",
    "\n",
    "os.environ[\"GOOGLE_API_KEY\"] = os.getenv(\"GOOGLE_API_KEY\")\n",
    "os.environ[\"GROQ_API_KEY\"] = os.getenv(\"GROQ_API_KEY\")\n",
    "os.environ[\"COHERE_API_KEY\"] = os.getenv(\"COHERE_API_KEY\")"
   ]
  },
  {
   "cell_type": "markdown",
   "metadata": {},
   "source": [
    "## Setup"
   ]
  },
  {
   "cell_type": "code",
   "execution_count": 95,
   "metadata": {},
   "outputs": [],
   "source": [
    "from langgraph.prebuilt import create_react_agent\n",
    "from langgraph.store.memory import InMemoryStore\n",
    "from langmem import create_manage_memory_tool, create_search_memory_tool\n",
    "\n",
    "# Set up store and memory saver\n",
    "store = InMemoryStore(\n",
    "    index={\n",
    "        \"dims\": 1024,\n",
    "        \"embed\": \"cohere:embed-multilingual-v3.0\",\n",
    "    }\n",
    ") #"
   ]
  },
  {
   "cell_type": "code",
   "execution_count": 111,
   "metadata": {},
   "outputs": [],
   "source": [
    "tool = create_manage_memory_tool(namespace=\"memories\", instructions=\"Custom Instructions\", store=store)"
   ]
  },
  {
   "cell_type": "code",
   "execution_count": 112,
   "metadata": {},
   "outputs": [
    {
     "data": {
      "text/plain": [
       "'Create, update, or delete persistent MEMORIES to persist across conversations.\\nInclude the MEMORY ID when updating or deleting a MEMORY. Omit when creating a new MEMORY - it will be created for you.\\nCustom Instructions'"
      ]
     },
     "execution_count": 112,
     "metadata": {},
     "output_type": "execute_result"
    }
   ],
   "source": [
    "tool.description"
   ]
  },
  {
   "cell_type": "code",
   "execution_count": 114,
   "metadata": {},
   "outputs": [
    {
     "data": {
      "text/plain": [
       "{'description': 'Create, update, or delete persistent MEMORIES to persist across conversations.\\nInclude the MEMORY ID when updating or deleting a MEMORY. Omit when creating a new MEMORY - it will be created for you.\\nCustom Instructions',\n",
       " 'properties': {'content': {'anyOf': [{'type': 'string'}, {'type': 'null'}],\n",
       "   'default': None,\n",
       "   'title': 'Content'},\n",
       "  'action': {'default': 'create',\n",
       "   'enum': ['create', 'update', 'delete'],\n",
       "   'title': 'Action',\n",
       "   'type': 'string'},\n",
       "  'id': {'anyOf': [{'format': 'uuid', 'type': 'string'}, {'type': 'null'}],\n",
       "   'default': None,\n",
       "   'title': 'Id'}},\n",
       " 'title': 'manage_memory',\n",
       " 'type': 'object'}"
      ]
     },
     "execution_count": 114,
     "metadata": {},
     "output_type": "execute_result"
    }
   ],
   "source": [
    "tool.tool_call_schema.model_json_schema()"
   ]
  },
  {
   "cell_type": "markdown",
   "metadata": {},
   "source": [
    "## ReAct Agent with Memory tools"
   ]
  },
  {
   "cell_type": "code",
   "execution_count": 101,
   "metadata": {},
   "outputs": [],
   "source": [
    "# Create agent with memory tools\n",
    "agent = create_react_agent(\n",
    "    \"google_genai:gemini-2.0-flash\",\n",
    "    tools=[\n",
    "        # Configure memory tools with runtime namespace \n",
    "        create_manage_memory_tool(namespace=(\"memories\", \"216\")),\n",
    "        create_search_memory_tool(namespace=(\"memories\", \"216\")),\n",
    "    ],\n",
    "    store=store,\n",
    ")"
   ]
  },
  {
   "cell_type": "code",
   "execution_count": 102,
   "metadata": {},
   "outputs": [
    {
     "data": {
      "text/plain": [
       "{'messages': [HumanMessage(content='I am Aasher, remember it. And I like Pizza', additional_kwargs={}, response_metadata={}, id='e07a4913-8bf7-4161-9816-94c2a0c0b5f1'),\n",
       "  AIMessage(content='', additional_kwargs={'function_call': {'name': 'manage_memory', 'arguments': '{\"content\": \"The user is Aasher and he likes Pizza.\", \"action\": \"create\"}'}}, response_metadata={'prompt_feedback': {'block_reason': 0, 'safety_ratings': []}, 'finish_reason': 'STOP', 'safety_ratings': []}, id='run-bf3376dd-b422-4f1c-82aa-368bcb57ff23-0', tool_calls=[{'name': 'manage_memory', 'args': {'content': 'The user is Aasher and he likes Pizza.', 'action': 'create'}, 'id': '7e309065-f51c-42eb-b25d-626f662dd40c', 'type': 'tool_call'}], usage_metadata={'input_tokens': 144, 'output_tokens': 16, 'total_tokens': 160, 'input_token_details': {'cache_read': 0}}),\n",
       "  ToolMessage(content='created memory ee414730-2070-43b3-b940-ec2d80bdb373', name='manage_memory', id='e1d1c980-43aa-4ece-acc1-ca5b3ab5710b', tool_call_id='7e309065-f51c-42eb-b25d-626f662dd40c'),\n",
       "  AIMessage(content=\"OK. I've created a memory that you are Aasher and you like Pizza.\\n```\", additional_kwargs={}, response_metadata={'prompt_feedback': {'block_reason': 0, 'safety_ratings': []}, 'finish_reason': 'STOP', 'safety_ratings': []}, id='run-25df90bf-708a-4f62-97e9-0a1f64c0638a-0', usage_metadata={'input_tokens': 198, 'output_tokens': 20, 'total_tokens': 218, 'input_token_details': {'cache_read': 0}})]}"
      ]
     },
     "execution_count": 102,
     "metadata": {},
     "output_type": "execute_result"
    }
   ],
   "source": [
    "agent.invoke({\"messages\": [{\"role\": \"user\", \"content\": \"I am Aasher, remember it. And I like Pizza\"}]})"
   ]
  },
  {
   "cell_type": "code",
   "execution_count": 104,
   "metadata": {},
   "outputs": [
    {
     "data": {
      "text/plain": [
       "{'messages': [HumanMessage(content='I am an Astrophile..', additional_kwargs={}, response_metadata={}, id='84d078e4-785e-42f9-87e4-430e2d9d5236'),\n",
       "  AIMessage(content='', additional_kwargs={'function_call': {'name': 'manage_memory', 'arguments': '{\"content\": \"The user is an Astrophile.\", \"action\": \"create\"}'}}, response_metadata={'prompt_feedback': {'block_reason': 0, 'safety_ratings': []}, 'finish_reason': 'STOP', 'safety_ratings': []}, id='run-17b4a524-7e38-4b43-b309-7c56d48fe144-0', tool_calls=[{'name': 'manage_memory', 'args': {'content': 'The user is an Astrophile.', 'action': 'create'}, 'id': '6750de01-45a0-4975-933f-00d34addda88', 'type': 'tool_call'}], usage_metadata={'input_tokens': 139, 'output_tokens': 14, 'total_tokens': 153, 'input_token_details': {'cache_read': 0}}),\n",
       "  ToolMessage(content='created memory 7ff79586-914b-4c70-bb28-2a6850fe94c2', name='manage_memory', id='291cf40b-bc51-4ea4-8388-8948f1998f4a', tool_call_id='6750de01-45a0-4975-933f-00d34addda88'),\n",
       "  AIMessage(content=\"OK. I've saved that you are an Astrophile.\", additional_kwargs={}, response_metadata={'prompt_feedback': {'block_reason': 0, 'safety_ratings': []}, 'finish_reason': 'STOP', 'safety_ratings': []}, id='run-15e9944a-bcfd-4c70-84e0-b5cad612699e-0', usage_metadata={'input_tokens': 193, 'output_tokens': 15, 'total_tokens': 208, 'input_token_details': {'cache_read': 0}})]}"
      ]
     },
     "execution_count": 104,
     "metadata": {},
     "output_type": "execute_result"
    }
   ],
   "source": [
    "agent.invoke({\"messages\": [{\"role\": \"user\", \"content\": \"I am an Astrophile..\"}]})"
   ]
  },
  {
   "cell_type": "markdown",
   "metadata": {},
   "source": [
    "## Searching Memories by namespace"
   ]
  },
  {
   "cell_type": "code",
   "execution_count": 105,
   "metadata": {},
   "outputs": [
    {
     "data": {
      "text/html": [
       "<pre style=\"white-space:pre;overflow-x:auto;line-height:normal;font-family:Menlo,'DejaVu Sans Mono',consolas,'Courier New',monospace\"><span style=\"font-weight: bold\">[</span>\n",
       "    <span style=\"color: #800080; text-decoration-color: #800080; font-weight: bold\">Item</span><span style=\"font-weight: bold\">(</span><span style=\"color: #808000; text-decoration-color: #808000\">namespace</span>=<span style=\"font-weight: bold\">[</span><span style=\"color: #008000; text-decoration-color: #008000\">'memories'</span>, <span style=\"color: #008000; text-decoration-color: #008000\">'216'</span><span style=\"font-weight: bold\">]</span>, <span style=\"color: #808000; text-decoration-color: #808000\">key</span>=<span style=\"color: #008000; text-decoration-color: #008000\">'ee414730-2070-43b3-b940-ec2d80bdb373'</span>, <span style=\"color: #808000; text-decoration-color: #808000\">value</span>=<span style=\"font-weight: bold\">{</span><span style=\"color: #008000; text-decoration-color: #008000\">'content'</span>: <span style=\"color: #008000; text-decoration-color: #008000\">'The user is </span>\n",
       "<span style=\"color: #008000; text-decoration-color: #008000\">Aasher and he likes Pizza.'</span><span style=\"font-weight: bold\">}</span>, <span style=\"color: #808000; text-decoration-color: #808000\">created_at</span>=<span style=\"color: #008000; text-decoration-color: #008000\">'2025-02-15T14:51:45.756743+00:00'</span>, \n",
       "<span style=\"color: #808000; text-decoration-color: #808000\">updated_at</span>=<span style=\"color: #008000; text-decoration-color: #008000\">'2025-02-15T14:51:45.756743+00:00'</span>, <span style=\"color: #808000; text-decoration-color: #808000\">score</span>=<span style=\"color: #800080; text-decoration-color: #800080; font-style: italic\">None</span><span style=\"font-weight: bold\">)</span>,\n",
       "    <span style=\"color: #800080; text-decoration-color: #800080; font-weight: bold\">Item</span><span style=\"font-weight: bold\">(</span><span style=\"color: #808000; text-decoration-color: #808000\">namespace</span>=<span style=\"font-weight: bold\">[</span><span style=\"color: #008000; text-decoration-color: #008000\">'memories'</span>, <span style=\"color: #008000; text-decoration-color: #008000\">'216'</span><span style=\"font-weight: bold\">]</span>, <span style=\"color: #808000; text-decoration-color: #808000\">key</span>=<span style=\"color: #008000; text-decoration-color: #008000\">'7ff79586-914b-4c70-bb28-2a6850fe94c2'</span>, <span style=\"color: #808000; text-decoration-color: #808000\">value</span>=<span style=\"font-weight: bold\">{</span><span style=\"color: #008000; text-decoration-color: #008000\">'content'</span>: <span style=\"color: #008000; text-decoration-color: #008000\">'The user is </span>\n",
       "<span style=\"color: #008000; text-decoration-color: #008000\">an Astrophile.'</span><span style=\"font-weight: bold\">}</span>, <span style=\"color: #808000; text-decoration-color: #808000\">created_at</span>=<span style=\"color: #008000; text-decoration-color: #008000\">'2025-02-15T14:52:44.806651+00:00'</span>, <span style=\"color: #808000; text-decoration-color: #808000\">updated_at</span>=<span style=\"color: #008000; text-decoration-color: #008000\">'2025-02-15T14:52:44.806651+00:00'</span>, \n",
       "<span style=\"color: #808000; text-decoration-color: #808000\">score</span>=<span style=\"color: #800080; text-decoration-color: #800080; font-style: italic\">None</span><span style=\"font-weight: bold\">)</span>\n",
       "<span style=\"font-weight: bold\">]</span>\n",
       "</pre>\n"
      ],
      "text/plain": [
       "\u001b[1m[\u001b[0m\n",
       "    \u001b[1;35mItem\u001b[0m\u001b[1m(\u001b[0m\u001b[33mnamespace\u001b[0m=\u001b[1m[\u001b[0m\u001b[32m'memories'\u001b[0m, \u001b[32m'216'\u001b[0m\u001b[1m]\u001b[0m, \u001b[33mkey\u001b[0m=\u001b[32m'ee414730-2070-43b3-b940-ec2d80bdb373'\u001b[0m, \u001b[33mvalue\u001b[0m=\u001b[1m{\u001b[0m\u001b[32m'content'\u001b[0m: \u001b[32m'The user is \u001b[0m\n",
       "\u001b[32mAasher and he likes Pizza.'\u001b[0m\u001b[1m}\u001b[0m, \u001b[33mcreated_at\u001b[0m=\u001b[32m'2025-02-15T14:51:45.756743+00:00'\u001b[0m, \n",
       "\u001b[33mupdated_at\u001b[0m=\u001b[32m'2025-02-15T14:51:45.756743+00:00'\u001b[0m, \u001b[33mscore\u001b[0m=\u001b[3;35mNone\u001b[0m\u001b[1m)\u001b[0m,\n",
       "    \u001b[1;35mItem\u001b[0m\u001b[1m(\u001b[0m\u001b[33mnamespace\u001b[0m=\u001b[1m[\u001b[0m\u001b[32m'memories'\u001b[0m, \u001b[32m'216'\u001b[0m\u001b[1m]\u001b[0m, \u001b[33mkey\u001b[0m=\u001b[32m'7ff79586-914b-4c70-bb28-2a6850fe94c2'\u001b[0m, \u001b[33mvalue\u001b[0m=\u001b[1m{\u001b[0m\u001b[32m'content'\u001b[0m: \u001b[32m'The user is \u001b[0m\n",
       "\u001b[32man Astrophile.'\u001b[0m\u001b[1m}\u001b[0m, \u001b[33mcreated_at\u001b[0m=\u001b[32m'2025-02-15T14:52:44.806651+00:00'\u001b[0m, \u001b[33mupdated_at\u001b[0m=\u001b[32m'2025-02-15T14:52:44.806651+00:00'\u001b[0m, \n",
       "\u001b[33mscore\u001b[0m=\u001b[3;35mNone\u001b[0m\u001b[1m)\u001b[0m\n",
       "\u001b[1m]\u001b[0m\n"
      ]
     },
     "metadata": {},
     "output_type": "display_data"
    }
   ],
   "source": [
    "from rich import print\n",
    "\n",
    "print(store.search(\n",
    "    (\"memories\",)\n",
    "))"
   ]
  },
  {
   "cell_type": "markdown",
   "metadata": {},
   "source": [
    "## Semantic Search"
   ]
  },
  {
   "cell_type": "code",
   "execution_count": 107,
   "metadata": {},
   "outputs": [
    {
     "data": {
      "text/plain": [
       "[Item(namespace=['memories', '216'], key='ee414730-2070-43b3-b940-ec2d80bdb373', value={'content': 'The user is Aasher and he likes Pizza.'}, created_at='2025-02-15T14:51:45.756743+00:00', updated_at='2025-02-15T14:51:45.756743+00:00', score=0.3105525703554466)]"
      ]
     },
     "execution_count": 107,
     "metadata": {},
     "output_type": "execute_result"
    }
   ],
   "source": [
    "# Search for semantically similar documents\n",
    "store.search(\n",
    "    (\"memories\", \"216\"),\n",
    "    query=\"What is my name??\",\n",
    "    limit=1)"
   ]
  }
 ],
 "metadata": {
  "kernelspec": {
   "display_name": ".venv",
   "language": "python",
   "name": "python3"
  },
  "language_info": {
   "codemirror_mode": {
    "name": "ipython",
    "version": 3
   },
   "file_extension": ".py",
   "mimetype": "text/x-python",
   "name": "python",
   "nbconvert_exporter": "python",
   "pygments_lexer": "ipython3",
   "version": "3.12.8"
  }
 },
 "nbformat": 4,
 "nbformat_minor": 2
}
